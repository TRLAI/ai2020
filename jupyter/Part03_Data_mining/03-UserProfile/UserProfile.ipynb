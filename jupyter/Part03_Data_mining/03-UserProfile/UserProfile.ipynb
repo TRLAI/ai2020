{
 "cells": [
  {
   "cell_type": "markdown",
   "metadata": {},
   "source": [
    "# 用户画像\n",
    "\n",
    "## 什么是用户画像\n",
    "\n",
    "1. Persona是真实用户的虚拟代表，是建立在一系列真实数据之上的目标用户模型。\n",
    "2. 根据用户的目标、行为和观点的差异，将他们区分为不同的类型，每种类型中抽取出典型特征，形成了一类人物原型\n",
    "3. 简单理解：用户信息标签化\n",
    "\n",
    "## 为什么需要用户画像\n",
    "\n",
    "精准营销、推荐、获客，等等\n",
    "\n",
    "## 怎么建立用户画像\n",
    "\n",
    "- 要贴标签，先有数据，一般将用户数据划分为静态信息数据、动态信息数据，两大类。\n",
    "- 静态数据：用户相对稳定的信息，如：性别、地域、职业、消费等级……\n",
    "- 动态数据：用户不停变化的行为信息，如：浏览网页、搜索商品、评论……\n",
    "- 找到最合适的数据，建立模型\n",
    "\n",
    "举例：\n",
    "\n",
    "- 一台相机\n",
    "- 一台胶片相机\n",
    "- 一台胶片单反相机\n",
    "- 一台尼康胶片单反相机\n",
    "- 一台尼康FM2胶片单反相机\n",
    "\n",
    "## 用户画像的应用\n",
    "\n",
    "1. 电商平台、推荐系统\n",
    "2. 根据用户需求，生产、销售商品"
   ]
  },
  {
   "cell_type": "markdown",
   "metadata": {},
   "source": [
    "# 用户画像-案例\n",
    "\n",
    "\n",
    "### 基于用户搜索关键词数据为用户打上标签（年龄，性别，学历）\n",
    "\n",
    "## 整体流程\n",
    "\n",
    "<img src=\"./img/1.png\" alt=\"FAO\" width=\"500\" align=\"right\">\n",
    "\n",
    "### （一）数据预处理\n",
    "* 编码方式转换\n",
    "* 对数据搜索内容进行分词\n",
    "* 词性过滤\n",
    "* 数据检查\n",
    "\n",
    "### （二）特征选择\n",
    "* 建立word2vec词向量模型\n",
    "* 对所有搜索数据求平均向量\n",
    "\n",
    "### （三）建模预测\n",
    "* 不同机器学习模型对比\n",
    "* 堆叠模型"
   ]
  },
  {
   "cell_type": "markdown",
   "metadata": {},
   "source": [
    "### 将原始数据转换成utf-8编码，防止后续出现各种编码问题\n",
    "由于原始数据比较大，在分词与过滤阶段会比较慢，这里我们选择了原始数据中的1W个"
   ]
  },
  {
   "cell_type": "code",
   "execution_count": 2,
   "metadata": {},
   "outputs": [],
   "source": [
    "import csv\n",
    "import pandas as pd\n",
    "import jieba.analyse\n",
    "import time\n",
    "import jieba\n",
    "import jieba.posseg\n",
    "import os, sys\n",
    "import datetime\n",
    "from gensim.models import Word2Vec\n",
    "import gensim\n",
    "import numpy as np\n",
    "import matplotlib.pyplot as plt\n",
    "import itertools"
   ]
  },
  {
   "cell_type": "code",
   "execution_count": 7,
   "metadata": {},
   "outputs": [
    {
     "name": "stdout",
     "output_type": "stream",
     "text": [
      "88493167693C2776346A\n",
      "46D475B97C1B305FFFDA\n",
      "D28EC7418BF4CDF5239A\n",
      "16093E4F1ACF59E959A5\n",
      "D2051528049CBF1DE199\n",
      "10C1674D16E1BB3B7511\n",
      "F6DA152A5441E7713A14\n",
      "CA3613A5C3B312420601\n",
      "3654893CF3E2BAB04B65\n",
      "7CAB36D0FA392BCE37FB\n",
      "6EA7152B5401E7B54C50\n",
      "E501B22C6C5875C4EA5D\n"
     ]
    }
   ],
   "source": [
    "\n",
    "# 原始数据存储路径\n",
    "data_path = './data/user_tag_query.10W.TRAIN' \n",
    "# 生成数据路径\n",
    "csvfile = open(data_path + '-1w.csv', 'w')\n",
    "writer = csv.writer(csvfile)\n",
    "writer.writerow(['ID', 'age', 'Gender', 'Education', 'QueryList'])\n",
    "# 转换成utf-8编码的格式\n",
    "with open(data_path, 'r',encoding='gb18030',errors='ignore') as f:\n",
    "    lines = f.readlines()\n",
    "    for line in lines[0:10000]:\n",
    "        try:\n",
    "            line.strip()          \n",
    "            data = line.split(\"\\t\")\n",
    "            # 取出前4列\n",
    "            writedata = [data[0], data[1], data[2], data[3]]\n",
    "            querystr = ''\n",
    "            data[-1]=data[-1][:-1]\n",
    "            # 文字部分，单独进行转换\n",
    "            for d in data[4:]:\n",
    "                try:\n",
    "                    cur_str = d.encode('utf8')\n",
    "                    cur_str = cur_str.decode('utf8')\n",
    "                    querystr += cur_str + '\\t'\n",
    "                except:\n",
    "                    continue\n",
    "                    print (data[0][0:10])\n",
    "            querystr = querystr[:-1]\n",
    "            writedata.append(querystr)\n",
    "            writer.writerow(writedata)\n",
    "        except:\n",
    "            print (data[0][0:20])\n",
    "            continue"
   ]
  },
  {
   "cell_type": "markdown",
   "metadata": {},
   "source": [
    "测试集的编码转换方式同上"
   ]
  },
  {
   "cell_type": "code",
   "execution_count": 8,
   "metadata": {},
   "outputs": [
    {
     "name": "stdout",
     "output_type": "stream",
     "text": [
      "4CD5040896BA356E72DA\n",
      "E00AEC15047083F804A3\n",
      "501F4E8C14D5DF1864AE\n",
      "F2041F03DD27AD2ED79F\n",
      "75AFBDE421CCE1196E7D\n",
      "9BEE20D0AB66E18CC924\n",
      "E84177F10EE30EBCF042\n",
      "AE44EC3BBD90AAD01B23\n",
      "3A0486A73AAC1389B8DF\n",
      "7F07EA81781637569953\n",
      "8F002DFB390A2661C688\n",
      "E7C3F52EE9232FBFF7F1\n",
      "3905D7ED72A7AC813763\n",
      "92909F83C4E7AD86EDBE\n",
      "DB042E860BBA1E26E91F\n",
      "C3FD77FBF2B29998D713\n",
      "649FE10B5E867A884516\n",
      "7D5C08345447950A6291\n",
      "D192E3C2893CF045DAF7\n",
      "9B3A3ED49EC9B214A764\n",
      "7B23B2A45E46B05BB577\n"
     ]
    }
   ],
   "source": [
    "data_path = './data/user_tag_query.10W.TEST'\n",
    "csvfile = open(data_path + '-1w.csv', 'w')\n",
    "writer = csv.writer(csvfile)\n",
    "writer.writerow(['ID', 'QueryList'])\n",
    "with open(data_path, 'r',encoding='gb18030',errors='ignore') as f:\n",
    "    lines = f.readlines()\n",
    "    for line in lines[0:10000]:\n",
    "        try:\n",
    "            data = line.split(\"\\t\")\n",
    "            writedata = [data[0]]\n",
    "            querystr = ''\n",
    "            data[-1]=data[-1][:-1]\n",
    "            for d in data[1:]:\n",
    "                try:                  \n",
    "                    cur_str = d.encode('utf8')\n",
    "                    cur_str = cur_str.decode('utf8')\n",
    "                    querystr += cur_str + '\\t'               \n",
    "                except:\n",
    "                    print (data[0][0:10])\n",
    "                    continue\n",
    "            querystr = querystr[:-1]\n",
    "            writedata.append(querystr)\n",
    "            writer.writerow(writedata)\n",
    "        except:\n",
    "            print (data[0][0:20])\n",
    "            continue"
   ]
  },
  {
   "cell_type": "markdown",
   "metadata": {},
   "source": [
    "### 生成对应的数据表"
   ]
  },
  {
   "cell_type": "code",
   "execution_count": 9,
   "metadata": {},
   "outputs": [
    {
     "name": "stdout",
     "output_type": "stream",
     "text": [
      "<class 'pandas.core.frame.DataFrame'>\n",
      "RangeIndex: 9988 entries, 0 to 9987\n",
      "Data columns (total 5 columns):\n",
      " #   Column     Non-Null Count  Dtype \n",
      "---  ------     --------------  ----- \n",
      " 0   ID         9988 non-null   object\n",
      " 1   age        9988 non-null   int64 \n",
      " 2   Gender     9988 non-null   int64 \n",
      " 3   Education  9988 non-null   int64 \n",
      " 4   QueryList  9988 non-null   object\n",
      "dtypes: int64(3), object(2)\n",
      "memory usage: 390.3+ KB\n",
      "None\n",
      "<class 'pandas.core.frame.DataFrame'>\n",
      "RangeIndex: 9978 entries, 0 to 9977\n",
      "Data columns (total 2 columns):\n",
      " #   Column     Non-Null Count  Dtype \n",
      "---  ------     --------------  ----- \n",
      " 0   ID         9978 non-null   object\n",
      " 1   QueryList  9978 non-null   object\n",
      "dtypes: object(2)\n",
      "memory usage: 156.0+ KB\n",
      "None\n"
     ]
    }
   ],
   "source": [
    "# 编码转换完成的数据，取的是1W的子集\n",
    "trainname = './data/user_tag_query.10W.TRAIN-1w.csv'\n",
    "testname = './data/user_tag_query.10W.TEST-1w.csv'\n",
    "\n",
    "data = pd.read_csv(trainname,encoding='gbk')\n",
    "print (data.info())\n",
    "\n",
    "# 分别生成三种标签数据（性别，年龄，学历）\n",
    "data.age.to_csv(\"./data/train_age.csv\", index=False)\n",
    "data.Gender.to_csv(\"./data/train_gender.csv\", index=False)\n",
    "data.Education.to_csv(\"./data/train_education.csv\", index=False)\n",
    "# 将搜索数据单独拿出来\n",
    "data.QueryList.to_csv(\"./data/train_querylist.csv\", index=False)\n",
    "\n",
    "data = pd.read_csv(testname,encoding='gbk')\n",
    "print (data.info())\n",
    "\n",
    "data.QueryList.to_csv(\"./data/test_querylist.csv\", index=False)"
   ]
  },
  {
   "cell_type": "markdown",
   "metadata": {},
   "source": [
    "### 对用户的搜索数据进行分词与词性过滤\n",
    "这里需要分别对训练集和测试集进行相同的操作，路径名字要改动一下"
   ]
  },
  {
   "cell_type": "code",
   "execution_count": 10,
   "metadata": {
    "scrolled": true
   },
   "outputs": [
    {
     "name": "stderr",
     "output_type": "stream",
     "text": [
      "Building prefix dict from the default dictionary ...\n",
      "Loading model from cache C:\\Users\\jarod\\AppData\\Local\\Temp\\jieba.cache\n",
      "Loading model cost 0.498 seconds.\n",
      "Prefix dict has been built successfully.\n"
     ]
    },
    {
     "name": "stdout",
     "output_type": "stream",
     "text": [
      "2000 finished\n",
      "4000 finished\n",
      "6000 finished\n",
      "8000 finished\n",
      "total time: 428.593750 s\n",
      "0:07:08.593750\n"
     ]
    }
   ],
   "source": [
    "# 读取训练集\n",
    "def input(trainname):\n",
    "    traindata = []\n",
    "    with open(trainname, 'rb') as f:\n",
    "        line = f.readline()\n",
    "        count = 0\n",
    "        while line:\n",
    "            try:\n",
    "                traindata.append(line)\n",
    "                count += 1\n",
    "            except:\n",
    "                print (\"error:\", line, count)\n",
    "            line=f.readline()\n",
    "    return traindata\n",
    "start = time.process_time()\n",
    "\n",
    "filepath = './data/test_querylist.csv'\n",
    "QueryList = input(filepath)\n",
    "\n",
    "writepath = './data/test_querylist_writefile-1w.csv'\n",
    "csvfile = open(writepath, 'w')\n",
    "\n",
    "POS = {}\n",
    "for i in range(len(QueryList)):\n",
    "    # 显示已经完成的结果，2000条以上\n",
    "    if i%2000 == 0 and i >=1000:\n",
    "        print (i,'finished') \n",
    "    s = []\n",
    "    str = \"\"\n",
    "    # 带有词性的精确分词模式jieba.posseg.cut\n",
    "    words = jieba.posseg.cut(QueryList[i])\n",
    "    allowPOS = ['n','v','j']\n",
    "    for word, flag in words:\n",
    "        POS[flag]=POS.get(flag,0)+1\n",
    "        if (flag[0] in allowPOS) and len(word)>=2:\n",
    "            str += word + \" \"\n",
    "            \n",
    "    cur_str = str.encode('utf8')\n",
    "    cur_str = cur_str.decode('utf8')\n",
    "    s.append(cur_str)\n",
    "    # 把分词，再连起来\n",
    "    csvfile.write(\" \".join(s)+'\\n')\n",
    "csvfile.close()\n",
    "\n",
    "end = time.process_time()\n",
    "print (\"total time: %f s\" % (end - start))\n",
    "print(datetime.timedelta(seconds=(end - start)))"
   ]
  },
  {
   "cell_type": "markdown",
   "metadata": {},
   "source": [
    "### 使用Gensim库建立word2vec词向量模型\n",
    "### 参数定义：\n",
    "-  sentences：可以是一个list\n",
    "-  sg： 用于设置训练算法，默认为0，对应CBOW算法；sg=1则采用skip-gram算法。\n",
    "-  size：是指特征向量的维度，默认为100。大的size需要更多的训练数据,但是效果会更好. 推荐值为几十到几百。\n",
    "-  window：表示当前词与预测词在一个句子中的最大距离是多少\n",
    "-  alpha: 是学习速率\n",
    "-  seed：用于随机数发生器。与初始化词向量有关。\n",
    "-  min_count: 可以对字典做截断. 词频少于min_count次数的单词会被丢弃掉, 默认值为5\n",
    "-  max_vocab_size: 设置词向量构建期间的RAM限制。如果所有独立单词个数超过这个，则就消除掉其中最不频繁的一个。每一千万个单词需要大约1GB的RAM。设置成None则没有限制。\n",
    "\n",
    "-  workers参数控制训练的并行数。\n",
    "-  hs: 如果为1则会采用hierarchica·softmax技巧。如果设置为0（defau·t），则negative sampling会被使用。\n",
    "-  negative: 如果>0,则会采用negativesamp·ing，用于设置多少个noise words\n",
    "-  iter： 迭代次数，默认为5"
   ]
  },
  {
   "cell_type": "code",
   "execution_count": 3,
   "metadata": {},
   "outputs": [
    {
     "name": "stdout",
     "output_type": "stream",
     "text": [
      "0:00:36.483104\n"
     ]
    }
   ],
   "source": [
    "\n",
    "begin_time = time.time()\n",
    "# 将数据变换成list of list格式\n",
    "train_path = './data/train_querylist_writefile-1w.csv'\n",
    "with open(train_path, 'r') as f:\n",
    "    My_list = []\n",
    "    lines = f.readlines()\n",
    "    for line in lines:\n",
    "        cur_list = []\n",
    "        line = line.strip()\n",
    "        data = line.split(\" \")\n",
    "        for d in data:\n",
    "            cur_list.append(d)\n",
    "        My_list.append(cur_list)\n",
    "    \n",
    "    model = Word2Vec(My_list, size=300, window=10,workers=4)  \n",
    "    savepath = '1w_word2vec_' + '300'+'.model' # 保存model的路径\n",
    "\n",
    "    model.save(savepath)\n",
    "    \n",
    "end_time = time.time()\n",
    "print(datetime.timedelta(seconds=(end_time - begin_time)))"
   ]
  },
  {
   "cell_type": "code",
   "execution_count": 4,
   "metadata": {},
   "outputs": [
    {
     "name": "stdout",
     "output_type": "stream",
     "text": [
      "0:00:00.108335\n",
      "[('桃色', 0.9065385460853577), ('卢嘉丽', 0.9019551277160645), ('刘希平', 0.8955543041229248), ('宋冬野', 0.894570529460907), ('卧底', 0.891724169254303), ('许文强', 0.8900036811828613), ('蛮族', 0.8898410797119141), ('乞丐', 0.8872543573379517), ('卡普', 0.8868241310119629), ('陈宝莲', 0.885728120803833)]\n"
     ]
    }
   ],
   "source": [
    "begin_time = time.time()\n",
    "similart1 = model.wv.most_similar(\"大哥\")\n",
    "end_time = time.time()\n",
    "print(datetime.timedelta(seconds=(end_time - begin_time)))\n",
    "print(similart1)"
   ]
  },
  {
   "cell_type": "code",
   "execution_count": 13,
   "metadata": {},
   "outputs": [
    {
     "name": "stdout",
     "output_type": "stream",
     "text": [
      "0:00:00.004003\n",
      "[('中国人民大学', 0.9295936822891235), ('复旦大学', 0.9242755174636841), ('清华大学', 0.9213669896125793), ('高级中学', 0.9168827533721924), ('特长生', 0.911332368850708), ('北京大学', 0.9054535627365112), ('工作部', 0.9036219120025635), ('专题报告', 0.9021010398864746), ('南开大学', 0.896014928817749), ('报道', 0.8957517147064209)]\n"
     ]
    }
   ],
   "source": [
    "begin_time = time.time()\n",
    "similart2 = model.wv.most_similar(\"清华\")\n",
    "end_time = time.time()\n",
    "print(datetime.timedelta(seconds=(end_time - begin_time)))\n",
    "print(similart2)"
   ]
  },
  {
   "cell_type": "markdown",
   "metadata": {},
   "source": [
    "### 加载训练好的word2vec模型，求用户搜索结果的平均向量"
   ]
  },
  {
   "cell_type": "code",
   "execution_count": 14,
   "metadata": {},
   "outputs": [
    {
     "name": "stderr",
     "output_type": "stream",
     "text": [
      "<ipython-input-14-b9bd3c448cac>:13: DeprecationWarning: Call to deprecated `__contains__` (Method will be removed in 4.0.0, use self.wv.__contains__() instead).\n",
      "  if word in cur_model:\n",
      "<ipython-input-14-b9bd3c448cac>:15: DeprecationWarning: Call to deprecated `__getitem__` (Method will be removed in 4.0.0, use self.wv.__getitem__() instead).\n",
      "  word_vec += np.array([cur_model[word]])\n"
     ]
    }
   ],
   "source": [
    "\n",
    "file_name = './data/train_querylist_writefile-1w.csv'\n",
    "cur_model = gensim.models.Word2Vec.load('1w_word2vec_300.model')\n",
    "with open(file_name, 'r') as f:\n",
    "    cur_index = 0\n",
    "    lines = f.readlines()\n",
    "    doc_cev = np.zeros((len(lines),300))\n",
    "    for line in lines:\n",
    "        word_vec = np.zeros((1,300))\n",
    "        words = line.strip().split(' ')\n",
    "        wrod_num = 0\n",
    "        # 求模型的平均向量\n",
    "        for word in words:\n",
    "            if word in cur_model:\n",
    "                wrod_num += 1\n",
    "                word_vec += np.array([cur_model[word]])\n",
    "        doc_cev[cur_index] = word_vec / float(wrod_num)\n",
    "        cur_index += 1"
   ]
  },
  {
   "cell_type": "code",
   "execution_count": 15,
   "metadata": {},
   "outputs": [
    {
     "data": {
      "text/plain": [
       "(9988, 300)"
      ]
     },
     "execution_count": 15,
     "metadata": {},
     "output_type": "execute_result"
    }
   ],
   "source": [
    "doc_cev.shape"
   ]
  },
  {
   "cell_type": "code",
   "execution_count": 16,
   "metadata": {},
   "outputs": [
    {
     "data": {
      "text/plain": [
       "array([-2.79721386e-01, -5.88722366e-02, -3.19634924e-01, -3.21698704e-01,\n",
       "       -5.04635896e-02,  2.25936315e-01, -2.78876511e-01,  1.56714355e-02,\n",
       "        1.56537017e-01,  2.09135118e-01,  1.43723864e-01, -1.33955074e-01,\n",
       "       -1.32927727e-01,  5.34089923e-03, -2.89463446e-01,  1.67750407e-01,\n",
       "       -6.61430349e-01, -5.00182637e-02,  4.77711579e-01, -1.29794130e-02,\n",
       "       -3.52161000e-01,  1.12261925e-01,  8.76122027e-02,  3.24142125e-01,\n",
       "        2.37824574e-01,  2.59117366e-02, -1.67820506e-01, -1.18966530e-01,\n",
       "        3.25827460e-01,  6.37985393e-01, -2.81235228e-03, -3.05435646e-01,\n",
       "       -1.06124188e-02,  2.61348602e-02,  1.21263121e-02, -2.33696655e-01,\n",
       "       -2.51350443e-01,  1.37140740e-01, -7.31197575e-02, -3.00564336e-01,\n",
       "        3.19229969e-01, -6.59228686e-02, -1.51449168e-01,  1.98551224e-01,\n",
       "       -2.75223350e-01, -7.24948769e-02, -2.92432854e-01, -2.82359476e-01,\n",
       "        2.29237064e-01,  1.74732879e-01,  1.00080986e-01, -1.36934879e-01,\n",
       "       -6.79174655e-02,  2.08369647e-02,  1.66357332e-01, -2.40540859e-01,\n",
       "        1.12025708e-01, -5.78892564e-02,  8.92362238e-01,  2.86056763e-02,\n",
       "        1.01415200e-01, -3.24466496e-01,  2.06393597e-01,  9.52790019e-02,\n",
       "        4.07557093e-01,  1.37562543e-01, -8.84782107e-02,  1.73025362e-01,\n",
       "        6.76630794e-02,  1.72099039e-01,  1.17894187e-01,  5.36060108e-01,\n",
       "       -5.93854824e-01, -1.99983681e-02,  2.05249045e-01,  2.78178399e-01,\n",
       "       -1.66608109e-01,  1.25854132e-03,  3.36282033e-02,  3.45091674e-01,\n",
       "       -3.78178538e-01,  4.76846840e-02,  3.93479575e-01,  3.31621324e-01,\n",
       "       -2.29545499e-01,  1.84596067e-01,  1.79495628e-01,  4.30701592e-01,\n",
       "        6.12997190e-01,  1.94788110e-01,  1.94524740e-01,  2.20067495e-01,\n",
       "       -2.98960226e-01, -5.29700687e-02, -3.46017753e-02,  5.93943384e-01,\n",
       "        1.95201572e-01, -4.15764248e-01,  4.49009152e-01, -3.78684433e-03,\n",
       "       -6.19335182e-02,  4.20225737e-02,  5.04369946e-01,  5.71429374e-02,\n",
       "        8.46689111e-01,  4.69042026e-03, -4.99459714e-01,  8.44496756e-02,\n",
       "        9.30232528e-02,  2.95801137e-01,  2.55816962e-01, -2.08454755e-01,\n",
       "        4.72304689e-02,  2.67218826e-01,  4.58307404e-01, -3.19053505e-01,\n",
       "        9.16522228e-01,  1.39729606e-01, -4.50454024e-01, -1.55816623e-01,\n",
       "       -6.26458386e-01, -6.71292341e-02,  6.77516999e-02, -3.69652529e-01,\n",
       "       -3.82907600e-01, -3.39107239e-01, -2.81705329e-01,  2.33787449e-01,\n",
       "       -5.09359653e-01, -2.73359052e-01, -3.49974656e-01,  2.54326701e-01,\n",
       "       -1.10494182e-01,  1.56752909e-01, -4.07623691e-01, -1.64325659e-02,\n",
       "        1.38849341e-01, -7.05452501e-02,  5.41895419e-01, -6.81239328e-01,\n",
       "        5.89872064e-01, -3.41142308e-01, -3.55081939e-01,  1.11377962e-01,\n",
       "       -1.88996459e-01,  1.63745673e-02,  5.95825533e-02,  1.00679709e-01,\n",
       "       -2.83216370e-01,  4.60915829e-01, -3.15238238e-01, -4.49281859e-02,\n",
       "        2.47095553e-01,  8.80955519e-02, -2.49047213e-01, -5.77505333e-02,\n",
       "        1.39186738e-01, -3.06461103e-01, -1.80839453e-01, -5.71291135e-01,\n",
       "       -5.20577375e-01, -2.04788750e-01,  2.46844634e-01, -1.04092933e-01,\n",
       "       -9.70697282e-02,  5.31285704e-01, -1.05300613e-01, -1.49466348e-01,\n",
       "       -2.95649667e-01,  5.80962825e-01,  1.06403087e-01, -6.43942317e-02,\n",
       "       -3.20531478e-01, -4.64708018e-01, -7.36967071e-02, -6.42867083e-01,\n",
       "        5.75704870e-02,  6.94050567e-02, -4.03894849e-01, -9.92804214e-02,\n",
       "       -3.53127920e-01, -5.36708549e-02,  8.73914189e-01, -4.74436760e-01,\n",
       "        2.11308715e-01,  9.57978579e-03, -8.61820066e-02,  8.49630344e-02,\n",
       "        4.01834999e-01, -5.38964901e-01,  1.12665115e+00,  4.93426517e-01,\n",
       "        7.05363916e-03, -5.14840430e-01, -4.47889834e-01,  2.55429008e-01,\n",
       "       -3.99063973e-01,  7.32079363e-01,  6.60728042e-02,  1.48300904e-01,\n",
       "        2.04783599e-02, -1.56164879e-02, -2.68918751e-01, -6.51121679e-01,\n",
       "       -5.09745136e-01, -1.50546752e-01,  9.33823775e-02,  2.03916947e-01,\n",
       "        4.96851759e-01,  2.20361254e-02, -1.37290672e-01, -6.02577177e-02,\n",
       "       -6.50100039e-01,  1.82538218e-01, -1.86011102e-01,  1.37219716e-01,\n",
       "       -2.64303176e-01,  1.69925473e-01, -2.00177786e-01, -6.12531385e-01,\n",
       "        8.81567754e-02,  1.96801019e-02, -6.63027838e-01,  3.01540874e-01,\n",
       "        4.68089630e-01,  1.73302284e-01, -1.44268593e-01,  2.00677657e-01,\n",
       "       -8.72498427e-02, -3.67302748e-01, -2.35786019e-01,  1.81933293e-01,\n",
       "       -1.96397955e-01,  9.14171918e-02, -4.89570707e-01,  7.46461124e-02,\n",
       "       -3.77217144e-01, -4.52845787e-01,  2.58355196e-01, -5.39458033e-01,\n",
       "       -3.57878552e-01,  2.78492696e-01, -1.42102398e-01, -1.23150590e-01,\n",
       "       -1.14206065e-01, -2.47187252e-01,  2.85645757e-03, -2.39681600e-01,\n",
       "       -4.06562221e-02, -1.84082573e-02,  2.75348076e-01,  3.12043551e-02,\n",
       "       -3.95834605e-01, -4.36573720e-02,  6.36278029e-01,  6.16911551e-01,\n",
       "       -3.21004072e-01,  2.07112528e-01, -1.90382841e-01, -3.86129562e-01,\n",
       "       -1.86596983e-01,  1.78745785e-01, -2.05091106e-01, -5.00852776e-01,\n",
       "        2.47230956e-02,  5.19101387e-02,  5.74634345e-01, -2.05912816e-01,\n",
       "        5.54125728e-02,  3.07489607e-01,  7.79342228e-02, -4.06509124e-01,\n",
       "        1.39130143e-01, -3.22734861e-01,  6.06943908e-01, -4.62744840e-02,\n",
       "       -2.03875257e-01,  1.95965384e-01,  1.35913391e-01, -1.27308166e-01,\n",
       "       -2.70674632e-02,  4.63711918e-01, -3.49454072e-01,  2.34854953e-01,\n",
       "       -1.70200834e-04,  2.12443309e-01,  1.65538889e-01,  5.45817122e-01,\n",
       "       -2.79553273e-02,  9.29333965e-02, -1.02071454e-01,  3.97548829e-02,\n",
       "       -2.99051874e-01, -5.72818904e-01, -3.03658851e-02, -6.08237031e-01,\n",
       "       -6.08031457e-01, -1.10878958e-01, -6.64224829e-02, -1.80737938e-01])"
      ]
     },
     "execution_count": 16,
     "metadata": {},
     "output_type": "execute_result"
    }
   ],
   "source": [
    "doc_cev[5]"
   ]
  },
  {
   "cell_type": "code",
   "execution_count": 24,
   "metadata": {},
   "outputs": [
    {
     "data": {
      "text/plain": [
       "(9988,)"
      ]
     },
     "execution_count": 24,
     "metadata": {},
     "output_type": "execute_result"
    }
   ],
   "source": [
    "genderlabel = np.loadtxt(open('./data/train_gender.csv', 'r'), skiprows=1)\n",
    "# train_gender = './data/train_gender.csv'\n",
    "# genderlabel = pd.read_csv(train_gender)\n",
    "genderlabel.shape"
   ]
  },
  {
   "cell_type": "code",
   "execution_count": 25,
   "metadata": {},
   "outputs": [
    {
     "data": {
      "text/plain": [
       "(9988,)"
      ]
     },
     "execution_count": 25,
     "metadata": {},
     "output_type": "execute_result"
    }
   ],
   "source": [
    "educationlabel = np.loadtxt(open('./data/train_education.csv', 'r'), skiprows=1)\n",
    "# train_education = './data/train_education.csv'\n",
    "# educationlabel = pd.read_csv(train_education)\n",
    "educationlabel.shape"
   ]
  },
  {
   "cell_type": "code",
   "execution_count": 26,
   "metadata": {},
   "outputs": [
    {
     "data": {
      "text/plain": [
       "(9988,)"
      ]
     },
     "execution_count": 26,
     "metadata": {},
     "output_type": "execute_result"
    }
   ],
   "source": [
    "agelabel = np.loadtxt(open('./data/train_age.csv', 'r'), skiprows=1)\n",
    "# train_age = './data/train_age.csv'\n",
    "# agelabel = pd.read_csv(train_age)\n",
    "agelabel.shape"
   ]
  },
  {
   "cell_type": "code",
   "execution_count": 27,
   "metadata": {
    "scrolled": false
   },
   "outputs": [
    {
     "name": "stdout",
     "output_type": "stream",
     "text": [
      "(9756, 300) (9756,)\n",
      "(9815, 300) (9815,)\n",
      "(9064, 300) (9064,)\n"
     ]
    }
   ],
   "source": [
    "# 处理0的数据\n",
    "def removezero(x, y):\n",
    "        nozero = np.nonzero(y)\n",
    "        y = y[nozero]\n",
    "        x = np.array(x)\n",
    "        x = x[nozero]\n",
    "        return x, y\n",
    "gender_train, genderlabel = removezero(doc_cev, genderlabel)\n",
    "age_train, agelabel = removezero(doc_cev, agelabel)\n",
    "education_train, educationlabel = removezero(doc_cev, educationlabel)\n",
    "print (gender_train.shape,genderlabel.shape)\n",
    "print (age_train.shape,agelabel.shape)\n",
    "print (education_train.shape,educationlabel.shape)"
   ]
  },
  {
   "cell_type": "markdown",
   "metadata": {},
   "source": [
    "### 绘图函数，以性别为例，绘制混淆矩阵"
   ]
  },
  {
   "cell_type": "code",
   "execution_count": 28,
   "metadata": {},
   "outputs": [],
   "source": [
    "\n",
    "def plot_confusion_matrix(cm, classes,\n",
    "                          title='Confusion matrix',\n",
    "                          cmap=plt.cm.Blues):\n",
    "    \"\"\"\n",
    "    This function prints and plots the confusion matrix.\n",
    "    \"\"\"\n",
    "    plt.imshow(cm, interpolation='nearest', cmap=cmap)\n",
    "    plt.title(title)\n",
    "    plt.colorbar()\n",
    "    tick_marks = np.arange(len(classes))\n",
    "    plt.xticks(tick_marks, classes, rotation=0)\n",
    "    plt.yticks(tick_marks, classes)\n",
    "\n",
    "    thresh = cm.max() / 2.\n",
    "    for i, j in itertools.product(range(cm.shape[0]), range(cm.shape[1])):\n",
    "        plt.text(j, i, cm[i, j],\n",
    "                 horizontalalignment=\"center\",\n",
    "                 color=\"white\" if cm[i, j] > thresh else \"black\")\n",
    "\n",
    "    plt.tight_layout()\n",
    "    plt.ylabel('True label')\n",
    "    plt.xlabel('Predicted label')"
   ]
  },
  {
   "cell_type": "markdown",
   "metadata": {},
   "source": [
    "### 测试集的构造方法和训练集一样"
   ]
  },
  {
   "cell_type": "code",
   "execution_count": 31,
   "metadata": {},
   "outputs": [
    {
     "name": "stderr",
     "output_type": "stream",
     "text": [
      "<ipython-input-31-ea373c71f44a>:13: DeprecationWarning: Call to deprecated `__contains__` (Method will be removed in 4.0.0, use self.wv.__contains__() instead).\n",
      "  if word in cur_model:\n",
      "<ipython-input-31-ea373c71f44a>:16: RuntimeWarning: invalid value encountered in true_divide\n",
      "  doc_cev[cur_index] = word_vec / float(wrod_num)\n",
      "<ipython-input-31-ea373c71f44a>:15: DeprecationWarning: Call to deprecated `__getitem__` (Method will be removed in 4.0.0, use self.wv.__getitem__() instead).\n",
      "  word_vec += np.array([cur_model[word]])\n"
     ]
    }
   ],
   "source": [
    "\n",
    "file_name = './data/test_querylist_writefile-1w.csv'\n",
    "cur_model = gensim.models.Word2Vec.load('1w_word2vec_300.model')\n",
    "with open(file_name, 'r') as f:\n",
    "    cur_index = 0\n",
    "    lines = f.readlines()\n",
    "    doc_cev = np.zeros((len(lines),300))\n",
    "    for line in lines:\n",
    "        word_vec = np.zeros((1,300))\n",
    "        words = line.strip().split(' ')\n",
    "        wrod_num = 0\n",
    "        #求模型的平均向量\n",
    "        for word in words:\n",
    "            if word in cur_model:\n",
    "                wrod_num += 1\n",
    "                word_vec += np.array([cur_model[word]])\n",
    "        doc_cev[cur_index] = word_vec / float(wrod_num)\n",
    "        cur_index += 1"
   ]
  },
  {
   "cell_type": "markdown",
   "metadata": {},
   "source": [
    "### 检查一下数据有木有问题"
   ]
  },
  {
   "cell_type": "code",
   "execution_count": 32,
   "metadata": {},
   "outputs": [
    {
     "data": {
      "text/plain": [
       "(9979, 300)"
      ]
     },
     "execution_count": 32,
     "metadata": {},
     "output_type": "execute_result"
    }
   ],
   "source": [
    "doc_cev.shape"
   ]
  },
  {
   "cell_type": "code",
   "execution_count": 33,
   "metadata": {},
   "outputs": [
    {
     "data": {
      "text/plain": [
       "array([ 4.64003542e-02,  1.54896722e-01, -1.79494302e-02, -7.06838603e-02,\n",
       "       -2.23018234e-01,  1.88339798e-01, -4.28976566e-01, -5.47362816e-02,\n",
       "       -1.16062785e-01, -2.43434461e-01, -1.66564816e-02,  1.14870393e-01,\n",
       "        3.19601222e-01, -4.21473928e-01, -2.30567018e-01,  2.15982951e-01,\n",
       "        1.17248221e-01, -2.67648162e-02, -1.17768898e-01,  4.32744112e-02,\n",
       "        3.36601103e-01, -1.39781379e-01,  2.09998444e-01, -1.15836076e-01,\n",
       "        1.38919647e-01,  2.02625918e-01, -4.93102518e-02,  8.12740528e-02,\n",
       "       -2.55069441e-01, -2.43508028e-01, -5.41170472e-02,  1.56733764e-01,\n",
       "       -6.85639093e-02,  3.09888568e-01, -6.24813488e-02,  5.61527372e-02,\n",
       "       -4.84165873e-01,  2.14772335e-01, -1.78254137e-01,  3.17285577e-01,\n",
       "        7.52217524e-02,  4.92674430e-02,  8.02950502e-02, -1.22456875e-01,\n",
       "        6.57419908e-02, -1.62455342e-01, -1.50754149e-01,  3.35617056e-01,\n",
       "        1.88697600e-01, -6.07865293e-02,  6.88584475e-03,  7.38739078e-03,\n",
       "       -1.15868973e-01,  2.16407113e-01,  3.15976482e-03,  1.94229192e-01,\n",
       "       -1.67396060e-02,  1.51566616e-01,  2.05840175e-01,  7.87759943e-02,\n",
       "       -1.82320768e-01,  1.80080094e-01,  2.13888872e-02,  2.46843518e-01,\n",
       "        1.89686888e-01, -1.07126948e-01,  1.39014637e-02, -4.16251425e-02,\n",
       "        5.61256843e-02, -2.40972082e-01, -1.18012213e-01,  5.16044129e-02,\n",
       "       -3.35244480e-01, -2.30691572e-02,  2.10263718e-02,  2.69873883e-01,\n",
       "        5.61410129e-02, -3.08496536e-01,  4.10515303e-01,  2.61586934e-01,\n",
       "        9.97216630e-02, -1.93107564e-01,  9.53122170e-02, -1.64265109e-01,\n",
       "        5.80357541e-02,  1.35103671e-01,  1.05222556e-01,  1.71636255e-01,\n",
       "        4.87218571e-01, -1.87354817e-01, -1.24305878e-02, -2.05786894e-02,\n",
       "        4.70993331e-02, -2.80183435e-01,  3.08731839e-01,  1.82108603e-01,\n",
       "        3.59542466e-02,  1.27050072e-01,  7.42056568e-02,  3.77334650e-01,\n",
       "        7.27651043e-02, -5.81486607e-03, -1.20351428e-01, -1.71386946e-02,\n",
       "       -8.59552632e-02,  4.49890472e-02, -2.44086171e-01,  4.17725218e-02,\n",
       "       -1.13445673e-01,  2.38312972e-01,  2.28093990e-01,  1.23991408e-01,\n",
       "        4.09148731e-02,  5.84373041e-03, -1.62549550e-01, -6.60571475e-02,\n",
       "        4.97369416e-02,  7.91400677e-02, -9.12500256e-02, -2.60127908e-01,\n",
       "       -1.50736739e-01,  1.98833908e-02,  2.85521923e-01, -1.54256017e-01,\n",
       "       -8.36843956e-02,  3.28427812e-03, -9.35526128e-02, -2.74131632e-01,\n",
       "       -1.04570097e-01,  1.33461604e-01, -4.44398757e-02, -4.49171139e-01,\n",
       "        7.45328097e-02, -7.31389332e-02,  2.69201132e-01, -2.23780712e-01,\n",
       "        1.11277635e-02, -4.11402244e-01,  7.54974587e-01, -1.79502538e-01,\n",
       "       -2.18697887e-01,  1.05380888e-01,  8.06410303e-02, -7.79897027e-02,\n",
       "       -1.35543028e-01,  2.63332319e-02, -3.53952554e-01, -7.69181082e-02,\n",
       "       -2.02105699e-01,  3.70124912e-01,  5.56523323e-02,  2.06977051e-01,\n",
       "       -1.20180701e-01,  1.59520314e-01, -1.11984957e-02,  3.62404685e-01,\n",
       "        3.89252085e-01, -3.53779670e-01,  8.45230058e-02, -1.12808036e-01,\n",
       "        3.23766294e-01, -2.47218398e-01, -3.75303117e-02,  3.83200593e-02,\n",
       "        8.94571079e-02, -2.69768272e-02,  2.54558977e-01, -1.23937840e-01,\n",
       "       -3.25572078e-01, -3.27446488e-01,  4.40025531e-01,  8.75458059e-02,\n",
       "       -3.78024159e-02, -2.35976298e-02, -2.79897111e-01,  1.36747585e-01,\n",
       "       -4.20061318e-01, -7.66317420e-02, -1.08345716e-01, -1.32642209e-01,\n",
       "       -8.04267899e-02, -1.16597021e-01, -2.05419066e-01, -2.04191437e-01,\n",
       "       -2.88102925e-01,  4.55531387e-02,  1.47450126e-03,  1.45196523e-01,\n",
       "        2.90349321e-01, -1.63556957e-01,  1.88821879e-01,  3.56859404e-02,\n",
       "        1.24245391e-02,  5.81473066e-02,  1.84158407e-02,  5.52641773e-01,\n",
       "       -2.17538663e-01,  5.97737479e-02, -7.98751355e-02,  2.79762526e-01,\n",
       "       -1.23879225e-01,  1.72910320e-01,  8.97492496e-02, -1.60678501e-01,\n",
       "        1.68897544e-01, -3.94186385e-02, -1.42697459e-01,  4.07265131e-02,\n",
       "        1.80481357e-01,  1.43349011e-01, -1.13904619e-01, -3.66193332e-01,\n",
       "       -3.51753048e-02,  3.13323421e-01, -6.10949573e-02, -8.82497280e-02,\n",
       "        7.10382274e-02, -1.49242341e-02, -2.41172589e-01,  8.29326616e-02,\n",
       "       -9.67160391e-02, -9.83958765e-02,  7.48200352e-02,  1.58480685e-01,\n",
       "       -7.65961728e-05,  1.57539236e-01,  2.37399744e-01,  1.32170991e-01,\n",
       "       -6.83624887e-02,  2.50252029e-01,  2.08867114e-01,  2.39592660e-02,\n",
       "        8.75877562e-02,  2.70227197e-02,  2.04016493e-02,  2.41573385e-01,\n",
       "       -2.67234572e-01, -3.85953536e-01,  2.76751701e-02, -1.22661236e-01,\n",
       "       -3.98970256e-01, -5.85872722e-02,  2.56388830e-01, -1.53995699e-01,\n",
       "        1.32271526e-01, -2.37255313e-01, -3.59292017e-02,  2.56060393e-01,\n",
       "        1.83218488e-01,  7.27533108e-02,  2.73334208e-01,  2.02510370e-02,\n",
       "       -6.60480926e-02,  8.19515859e-02, -4.55935097e-01,  3.42787637e-01,\n",
       "        2.51291965e-01, -1.43301967e-01,  5.39523903e-02,  2.74463779e-01,\n",
       "       -2.19482480e-01, -5.59125706e-02, -1.83090048e-01,  5.90537389e-02,\n",
       "       -1.40176933e-01,  2.67104294e-01,  9.18290875e-02, -1.51155762e-01,\n",
       "       -6.21690970e-01,  2.00897817e-01, -2.15651218e-01, -9.82375103e-02,\n",
       "        2.33739881e-01,  2.29948724e-01, -2.87102027e-02, -2.74971525e-01,\n",
       "        1.12388528e-01,  2.01862804e-01,  1.40242456e-01, -2.44851437e-01,\n",
       "        6.80873209e-02, -3.29960465e-01, -2.11287166e-01,  1.45747901e-01,\n",
       "       -1.25794838e-01,  2.63341090e-01,  4.66480581e-01, -2.33066882e-01,\n",
       "        2.16773947e-01,  1.00616648e-01, -2.17919074e-01, -4.30545867e-02,\n",
       "        7.73813947e-02, -5.03948110e-01, -1.16029037e-01,  1.93601278e-01,\n",
       "        1.34477690e-01,  2.63013351e-01,  3.63745906e-01,  4.67628054e-01])"
      ]
     },
     "execution_count": 33,
     "metadata": {},
     "output_type": "execute_result"
    }
   ],
   "source": [
    "doc_cev[6]"
   ]
  },
  {
   "cell_type": "markdown",
   "metadata": {},
   "source": [
    "### 建立一个基础预测模型"
   ]
  },
  {
   "cell_type": "code",
   "execution_count": 35,
   "metadata": {},
   "outputs": [
    {
     "name": "stdout",
     "output_type": "stream",
     "text": [
      "0.8017418032786885\n",
      "Recall metric in the testing dataset:  0.7412935323383084\n",
      "accuracy metric in the testing dataset:  0.8017418032786885\n"
     ]
    },
    {
     "name": "stderr",
     "output_type": "stream",
     "text": [
      "C:\\Users\\jarod\\anaconda3\\lib\\site-packages\\sklearn\\linear_model\\_logistic.py:762: ConvergenceWarning: lbfgs failed to converge (status=1):\n",
      "STOP: TOTAL NO. of ITERATIONS REACHED LIMIT.\n",
      "\n",
      "Increase the number of iterations (max_iter) or scale the data as shown in:\n",
      "    https://scikit-learn.org/stable/modules/preprocessing.html\n",
      "Please also refer to the documentation for alternative solver options:\n",
      "    https://scikit-learn.org/stable/modules/linear_model.html#logistic-regression\n",
      "  n_iter_i = _check_optimize_result(\n"
     ]
    },
    {
     "data": {
      "image/png": "[encoded data removed]",
      "text/plain": [
       "<Figure size 432x288 with 2 Axes>"
      ]
     },
     "metadata": {
      "needs_background": "light"
     },
     "output_type": "display_data"
    }
   ],
   "source": [
    "# 逻辑回归\n",
    "from sklearn.linear_model import LogisticRegression\n",
    "from sklearn.metrics import confusion_matrix\n",
    "from sklearn.model_selection import train_test_split\n",
    "\n",
    "X_train, X_test, y_train, y_test = train_test_split(gender_train,genderlabel,test_size = 0.2, random_state = 0)\n",
    "\n",
    "LR_model = LogisticRegression()\n",
    "\n",
    "LR_model.fit(X_train,y_train)\n",
    "y_pred = LR_model.predict(X_test)\n",
    "print (LR_model.score(X_test,y_test))\n",
    "\n",
    "cnf_matrix = confusion_matrix(y_test,y_pred)\n",
    "\n",
    "print(\"Recall metric in the testing dataset: \", cnf_matrix[1,1]/(cnf_matrix[1,0]+cnf_matrix[1,1]))\n",
    "\n",
    "print(\"accuracy metric in the testing dataset: \", (cnf_matrix[1,1]+cnf_matrix[0,0])/(cnf_matrix[0,0]+cnf_matrix[1,1]+cnf_matrix[1,0]+cnf_matrix[0,1]))\n",
    "\n",
    "# Plot non-normalized confusion matrix\n",
    "class_names = [0,1]\n",
    "plt.figure()\n",
    "plot_confusion_matrix(cnf_matrix\n",
    "                      , classes=class_names\n",
    "                      , title='Gender-Confusion matrix')\n",
    "plt.show()"
   ]
  },
  {
   "cell_type": "code",
   "execution_count": 37,
   "metadata": {},
   "outputs": [
    {
     "name": "stdout",
     "output_type": "stream",
     "text": [
      "0.798155737704918\n",
      "Recall metric in the testing dataset:  0.7350746268656716\n",
      "accuracy metric in the testing dataset:  0.798155737704918\n"
     ]
    },
    {
     "data": {
      "image/png": "[encoded data removed]",
      "text/plain": [
       "<Figure size 432x288 with 2 Axes>"
      ]
     },
     "metadata": {
      "needs_background": "light"
     },
     "output_type": "display_data"
    }
   ],
   "source": [
    "# 随机森林\n",
    "from sklearn.ensemble import RandomForestClassifier\n",
    "from sklearn.metrics import confusion_matrix\n",
    "from sklearn.model_selection import train_test_split\n",
    "\n",
    "X_train, X_test, y_train, y_test = train_test_split(gender_train,genderlabel,test_size = 0.2, random_state = 0)\n",
    "\n",
    "RF_model = RandomForestClassifier(n_estimators=100,min_samples_split=5,max_depth=10)\n",
    "\n",
    "RF_model.fit(X_train,y_train)\n",
    "y_pred = RF_model.predict(X_test)\n",
    "print (RF_model.score(X_test,y_test))\n",
    "\n",
    "cnf_matrix = confusion_matrix(y_test,y_pred)\n",
    "\n",
    "print(\"Recall metric in the testing dataset: \", cnf_matrix[1,1]/(cnf_matrix[1,0]+cnf_matrix[1,1]))\n",
    "\n",
    "print(\"accuracy metric in the testing dataset: \", (cnf_matrix[1,1]+cnf_matrix[0,0])/(cnf_matrix[0,0]+cnf_matrix[1,1]+cnf_matrix[1,0]+cnf_matrix[0,1]))\n",
    "\n",
    "# Plot non-normalized confusion matrix\n",
    "class_names = [0,1]\n",
    "plt.figure()\n",
    "plot_confusion_matrix(cnf_matrix\n",
    "                      , classes=class_names\n",
    "                      , title='Gender-Confusion matrix')\n",
    "plt.show()"
   ]
  },
  {
   "cell_type": "code",
   "execution_count": null,
   "metadata": {},
   "outputs": [],
   "source": []
  }
 ],
 "metadata": {
  "anaconda-cloud": {},
  "kernelspec": {
   "display_name": "Python 3",
   "language": "python",
   "name": "python3"
  },
  "language_info": {
   "codemirror_mode": {
    "name": "ipython",
    "version": 3
   },
   "file_extension": ".py",
   "mimetype": "text/x-python",
   "name": "python",
   "nbconvert_exporter": "python",
   "pygments_lexer": "ipython3",
   "version": "3.8.3"
  }
 },
 "nbformat": 4,
 "nbformat_minor": 1
}
