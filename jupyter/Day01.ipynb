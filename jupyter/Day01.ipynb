{
 "cells": [
  {
   "cell_type": "code",
   "execution_count": 1,
   "metadata": {},
   "outputs": [
    {
     "name": "stdout",
     "output_type": "stream",
     "text": [
      "The Zen of Python, by Tim Peters\n",
      "\n",
      "Beautiful is better than ugly.\n",
      "Explicit is better than implicit.\n",
      "Simple is better than complex.\n",
      "Complex is better than complicated.\n",
      "Flat is better than nested.\n",
      "Sparse is better than dense.\n",
      "Readability counts.\n",
      "Special cases aren't special enough to break the rules.\n",
      "Although practicality beats purity.\n",
      "Errors should never pass silently.\n",
      "Unless explicitly silenced.\n",
      "In the face of ambiguity, refuse the temptation to guess.\n",
      "There should be one-- and preferably only one --obvious way to do it.\n",
      "Although that way may not be obvious at first unless you're Dutch.\n",
      "Now is better than never.\n",
      "Although never is often better than *right* now.\n",
      "If the implementation is hard to explain, it's a bad idea.\n",
      "If the implementation is easy to explain, it may be a good idea.\n",
      "Namespaces are one honking great idea -- let's do more of those!\n"
     ]
    }
   ],
   "source": [
    "import this"
   ]
  },
  {
   "cell_type": "markdown",
   "metadata": {},
   "source": [
    "## the zen of python 中文\n",
    "Beautiful is better than ugly.\n",
    "\n",
    "美丽优于丑陋（Python 以编写优美的代码为目标）\n",
    "\n",
    "Explicit is better than implicit.\n",
    "\n",
    "直白优于含蓄（优美的代码应当是明了的，命名规范，风格相似）\n",
    "\n",
    "Simple is better than complex.\n",
    "\n",
    "简单优于复杂（优美的代码应当是简洁的，不要有复杂的内部实现）\n",
    "\n",
    "Complex is better than complicated.\n",
    "\n",
    "复杂优于繁琐（如果复杂不可避免，那代码间也不能有难懂的关系，要保持接口简洁）\n",
    "\n",
    "Flat is better than nested.\n",
    "\n",
    "扁平优于嵌套（优美的代码应当是扁平的，不能有太多的嵌套）\n",
    "\n",
    "Sparse is better than dense.\n",
    "\n",
    "间隔优于紧凑（优美的代码有适当的间隔，不要奢望一行代码解决问题）\n",
    "\n",
    "Readability counts.\n",
    "\n",
    "可读性很重要（优美的代码是可读的 ）\n",
    "\n",
    "Special cases aren’t special enough to break the rules.\n",
    "\n",
    "即便假借特例的实用性之名，也不可违背这些规则（这些规则至高无上）\n",
    "\n",
    "Although practicality beats purity.\n",
    "\n",
    "Errors should never pass silently.\n",
    "\n",
    "Unless explicitly silenced.\n",
    "\n",
    "不要包容所有错误，除非你确定需要这样做（精准地捕获异常，不写 except:pass 风格的代码）\n",
    "\n",
    "In the face of ambiguity, refuse the temptation to guess.\n",
    "\n",
    "There should be one– and preferably only one –obvious way to do it.\n",
    "\n",
    "Although that way may not be obvious at first unless you’re Dutch.\n",
    "\n",
    "Now is better than never.\n",
    "\n",
    "Although never is often better than right now.\n",
    "\n",
    "当存在多种可能，不要尝试去猜测\n",
    "\n",
    "而是尽量找一种，最好是唯一一种明显的解决方案（如果不确定，就用穷举法）\n",
    "\n",
    "虽然这并不容易，因为你不是 Python 之父（这里的 Dutch 是指 Guido ）\n",
    "\n",
    "If the implementation is hard to explain, it’s a bad idea.\n",
    "\n",
    "做也许好过不做，但不假思索就动手还不如不做（动手之前要细思量）\n",
    "\n",
    "If the implementation is easy to explain, it may be a good idea.\n",
    "\n",
    "如果你无法向人描述你的方案，那肯定不是一个好方案；反之亦然（方案测评标准）\n",
    "\n",
    "Namespaces are one honking great idea – let’s do more of those!\n",
    "\n",
    "命名空间是一种绝妙的理念，我们应当多加利用（倡导与号召）"
   ]
  },
  {
   "cell_type": "markdown",
   "metadata": {},
   "source": [
    "## 1.1 Python环境配置"
   ]
  },
  {
   "cell_type": "markdown",
   "metadata": {},
   "source": [
    "## 1.2 基本库的安装"
   ]
  },
  {
   "cell_type": "markdown",
   "metadata": {},
   "source": [
    "## 1.3 Notebook使用"
   ]
  },
  {
   "cell_type": "markdown",
   "metadata": {},
   "source": [
    "## 1.4 Python简介"
   ]
  },
  {
   "cell_type": "markdown",
   "metadata": {},
   "source": [
    "    "
   ]
  }
 ],
 "metadata": {
  "kernelspec": {
   "display_name": "Python 3",
   "language": "python",
   "name": "python3"
  },
  "language_info": {
   "codemirror_mode": {
    "name": "ipython",
    "version": 3
   },
   "file_extension": ".py",
   "mimetype": "text/x-python",
   "name": "python",
   "nbconvert_exporter": "python",
   "pygments_lexer": "ipython3",
   "version": "3.7.2"
  }
 },
 "nbformat": 4,
 "nbformat_minor": 4
}
