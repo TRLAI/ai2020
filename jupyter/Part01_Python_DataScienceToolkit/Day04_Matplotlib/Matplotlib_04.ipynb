{
 "cells": [
  {
   "cell_type": "markdown",
   "metadata": {},
   "source": [
    "# 盒图"
   ]
  },
  {
   "cell_type": "markdown",
   "metadata": {},
   "source": [
    "![](./images/intro_boxplot.png)"
   ]
  },
  {
   "cell_type": "code",
   "execution_count": null,
   "metadata": {},
   "outputs": [],
   "source": [
    "import matplotlib.pyplot as plt\n",
    "import numpy as np\n",
    "%matplotlib inline"
   ]
  },
  {
   "cell_type": "markdown",
   "metadata": {},
   "source": [
    "盒图"
   ]
  },
  {
   "cell_type": "code",
   "execution_count": null,
   "metadata": {},
   "outputs": [],
   "source": [
    "t_data = [np.random.normal(0,std,100) for std in range(1,4)]\n",
    "fig = plt.figure(figsize = (8,6))\n",
    "# notch盒图形状设置，sym离群点形状，vert方向设置\n",
    "plt.boxplot(t_data,notch=False,sym='s',vert=True)\n",
    "\n",
    "plt.xticks([y+1 for y in range(len(t_data))],['x1','x2','x3'])\n",
    "plt.xlabel('x')\n",
    "plt.title('box plot')"
   ]
  },
  {
   "cell_type": "markdown",
   "metadata": {},
   "source": [
    "黑白线条"
   ]
  },
  {
   "cell_type": "code",
   "execution_count": null,
   "metadata": {},
   "outputs": [],
   "source": [
    "t2_data = [np.random.normal(0,std,100) for std in range(1,4)]\n",
    "fig = plt.figure(figsize = (8,6))\n",
    "bplot = plt.boxplot(t2_data,notch=False,sym='s',vert=True)\n",
    "\n",
    "plt.xticks([y+1 for y in range(len(t2_data))],['x1','x2','x3'])\n",
    "plt.xlabel('x')\n",
    "plt.title('box plot')\n",
    "\n",
    "for components in bplot.keys():\n",
    "    for line in bplot[components]:\n",
    "        # 设置所有线条都为黑色\n",
    "        line.set_color('black')"
   ]
  },
  {
   "cell_type": "markdown",
   "metadata": {},
   "source": [
    "横向盒图"
   ]
  },
  {
   "cell_type": "code",
   "execution_count": null,
   "metadata": {},
   "outputs": [],
   "source": [
    "t3_data = [np.random.normal(0,std,100) for std in range(1,4)]\n",
    "fig = plt.figure(figsize = (8,6))\n",
    "plt.boxplot(t3_data,notch=False,sym='s',vert=False)\n",
    "\n",
    "plt.yticks([y+1 for y in range(len(t3_data))],['x1','x2','x3'])\n",
    "plt.ylabel('x')\n",
    "plt.title('box plot')"
   ]
  },
  {
   "cell_type": "markdown",
   "metadata": {},
   "source": [
    "盒图专用图形"
   ]
  },
  {
   "cell_type": "code",
   "execution_count": null,
   "metadata": {},
   "outputs": [],
   "source": [
    "t4_data = [np.random.normal(0,std,100) for std in range(1,4)]\n",
    "fig = plt.figure(figsize = (8,6))\n",
    "plt.boxplot(t4_data,notch=True,sym='s',vert=False)\n",
    "\n",
    "plt.xticks([y+1 for y in range(len(t4_data))],['x1','x2','x3'])\n",
    "plt.xlabel('x')\n",
    "plt.title('box plot')"
   ]
  },
  {
   "cell_type": "markdown",
   "metadata": {},
   "source": [
    "填充颜色"
   ]
  },
  {
   "cell_type": "code",
   "execution_count": null,
   "metadata": {},
   "outputs": [],
   "source": [
    "t5_data = [np.random.normal(0,std,100) for std in range(1,4)]\n",
    "fig = plt.figure(figsize = (8,6))\n",
    "# patch_artist设置为True，才可以进行填充\n",
    "bplot = plt.boxplot(t5_data,notch=False,sym='s',vert=True,patch_artist=True)\n",
    "\n",
    "plt.xticks([y+1 for y in range(len(t5_data))],['x1','x2','x3'])\n",
    "plt.xlabel('x')\n",
    "plt.title('box plot')\n",
    "\n",
    "colors = ['pink','lightblue','lightgreen']\n",
    "for pathch,color in zip(bplot['boxes'],colors):\n",
    "    pathch.set_facecolor(color)"
   ]
  },
  {
   "cell_type": "markdown",
   "metadata": {},
   "source": [
    "小提琴图"
   ]
  },
  {
   "cell_type": "code",
   "execution_count": null,
   "metadata": {},
   "outputs": [],
   "source": [
    "fig,axes = plt.subplots(nrows=1,ncols=2,figsize=(12,5))\n",
    "t6_data = [np.random.normal(0,std,100) for std in range(6,10)]\n",
    "# 小提琴图\n",
    "axes[0].violinplot(t6_data,showmeans=False,showmedians=True)\n",
    "axes[0].set_title('violin plot')\n",
    "# 盒图，对比用\n",
    "axes[1].boxplot(t6_data)\n",
    "axes[1].set_title('box plot')\n",
    "# 加水平线\n",
    "for ax in axes:\n",
    "    ax.yaxis.grid(True)\n",
    "    ax.set_xticks([y+1 for y in range(len(t6_data))])\n",
    "# 设置轴的名字\n",
    "#plt.setp(axes,xticks=[y+1 for y in range(len(t6_data))],xticklabels=['x1','x2','x3','x4'])"
   ]
  },
  {
   "cell_type": "code",
   "execution_count": null,
   "metadata": {},
   "outputs": [],
   "source": []
  }
 ],
 "metadata": {
  "kernelspec": {
   "display_name": "Python 3",
   "language": "python",
   "name": "python3"
  },
  "language_info": {
   "codemirror_mode": {
    "name": "ipython",
    "version": 3
   },
   "file_extension": ".py",
   "mimetype": "text/x-python",
   "name": "python",
   "nbconvert_exporter": "python",
   "pygments_lexer": "ipython3",
   "version": "3.8.3"
  }
 },
 "nbformat": 4,
 "nbformat_minor": 4
}
