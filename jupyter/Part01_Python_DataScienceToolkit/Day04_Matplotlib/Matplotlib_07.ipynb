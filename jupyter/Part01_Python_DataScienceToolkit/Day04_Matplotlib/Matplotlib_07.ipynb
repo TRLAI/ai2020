{
 "cells": [
  {
   "cell_type": "markdown",
   "metadata": {},
   "source": [
    "# 饼图与布局"
   ]
  },
  {
   "cell_type": "code",
   "execution_count": null,
   "metadata": {},
   "outputs": [],
   "source": [
    "%matplotlib inline\n",
    "import matplotlib.pyplot as plt"
   ]
  },
  {
   "cell_type": "code",
   "execution_count": null,
   "metadata": {},
   "outputs": [],
   "source": [
    "m = 51212.\n",
    "f = 40742.\n",
    "m_perc = m/(m+f)\n",
    "f_perc = f/(m+f)\n",
    "\n",
    "colors = ['navy','lightcoral']\n",
    "labels = [\"Male\",\"Female\"]\n",
    "\n",
    "plt.figure(figsize=(8,8))\n",
    "paches,texts,autotexts = plt.pie([m_perc,f_perc],labels = labels,autopct = '%1.1f%%',explode=[0,0.05],colors = colors)\n",
    "\n",
    "for text in texts+autotexts:\n",
    "    text.set_fontsize(20)\n",
    "for text in autotexts:\n",
    "    text.set_color('white')"
   ]
  },
  {
   "cell_type": "markdown",
   "metadata": {},
   "source": [
    "设置子图布局"
   ]
  },
  {
   "cell_type": "code",
   "execution_count": null,
   "metadata": {},
   "outputs": [],
   "source": [
    "ax1 = plt.subplot2grid((3,3),(0,0))\n",
    "ax2 = plt.subplot2grid((3,3),(1,0))\n",
    "ax3 = plt.subplot2grid((3,3),(0,2),rowspan=3)\n",
    "ax4 = plt.subplot2grid((3,3),(2,0),colspan = 2)\n",
    "ax5 = plt.subplot2grid((3,3),(0,1),rowspan=2)"
   ]
  },
  {
   "cell_type": "markdown",
   "metadata": {},
   "source": [
    "嵌套图"
   ]
  },
  {
   "cell_type": "code",
   "execution_count": null,
   "metadata": {},
   "outputs": [],
   "source": [
    "import numpy as np\n",
    "\n",
    "x = np.linspace(0,10,1000)\n",
    "y2 = np.sin(x**2)\n",
    "y1 = x**2\n",
    "\n",
    "fig,ax1 = plt.subplots()\n",
    "\n",
    "left,bottom,width,height = [0.22,0.45,0.3,0.35]\n",
    "ax2 = fig.add_axes([left,bottom,width,height])\n",
    "\n",
    "ax1.plot(x,y1)\n",
    "ax2.plot(x,y2)"
   ]
  },
  {
   "cell_type": "code",
   "execution_count": null,
   "metadata": {},
   "outputs": [],
   "source": [
    "import matplotlib.pyplot as plt\n",
    "from mpl_toolkits.axes_grid1.inset_locator import inset_axes\n",
    "\n",
    "def autolabel(rects):\n",
    "    for rect in rects:\n",
    "        height = rect.get_height()\n",
    "        ax1.text(rect.get_x() + rect.get_width()/2., 1.02*height,\n",
    "        \"{:,}\".format(float(height)),\n",
    "        ha='center', va='bottom',fontsize=18)\n",
    "        \n",
    "top10_arrivals_countries = ['CANADA','MEXICO','UNITED\\nKINGDOM',\\\n",
    "                            'JAPAN','CHINA','GERMANY','SOUTH\\nKOREA',\\\n",
    "                            'FRANCE','BRAZIL','AUSTRALIA']\n",
    "top10_arrivals_values = [16.625687, 15.378026, 3.934508, 2.999718,\\\n",
    "                         2.618737, 1.769498, 1.628563, 1.419409,\\\n",
    "                         1.393710, 1.136974]\n",
    "arrivals_countries = ['WESTERN\\nEUROPE','ASIA','SOUTH\\nAMERICA',\\\n",
    "                      'OCEANIA','CARIBBEAN','MIDDLE\\nEAST',\\\n",
    "                      'CENTRAL\\nAMERICA','EASTERN\\nEUROPE','AFRICA']\n",
    "arrivals_percent = [36.9,30.4,13.8,4.4,4.0,3.6,2.9,2.6,1.5]\n",
    "\n",
    "fig, ax1 = plt.subplots(figsize=(20,12))\n",
    "t1 = ax1.bar(range(10),top10_arrivals_values,color='blue')\n",
    "plt.xticks(range(10),top10_arrivals_countries,fontsize=18)\n",
    "ax2 = inset_axes(ax1,width = 6,height = 6,loc = 5)\n",
    "explode = (0.08, 0.08, 0.05, 0.05,0.05,0.05,0.05,0.05,0.05)\n",
    "patches, texts, autotexts = ax2.pie(arrivals_percent,labels=arrivals_countries,autopct='%1.1f%%',explode=explode)\n",
    "\n",
    "for text in texts+autotexts:\n",
    "    text.set_fontsize(16)\n",
    "for spine in ax1.spines.values():\n",
    "    spine.set_visible(False)\n",
    "\n",
    "autolabel(t1) "
   ]
  },
  {
   "cell_type": "code",
   "execution_count": null,
   "metadata": {},
   "outputs": [],
   "source": [
    "import numpy as np\n",
    "from matplotlib.patches import Circle, Wedge, Polygon, Ellipse\n",
    "from matplotlib.collections import PatchCollection\n",
    "import matplotlib.pyplot as plt\n",
    "\n",
    "fig, ax = plt.subplots()\n",
    "\n",
    "patches = []\n",
    "\n",
    "# Full and ring sectors drawn by Wedge((x,y),r,deg1,deg2)\n",
    "leftstripe = Wedge((.46, .5), .15, 90,100)           # Full sector by default\n",
    "midstripe = Wedge((.5,.5), .15, 85,95)                      \n",
    "rightstripe = Wedge((.54,.5), .15, 80,90)\n",
    "lefteye = Wedge((.36, .46), .06, 0, 360, width=0.03)  # Ring sector drawn when width <1\n",
    "righteye = Wedge((.63, .46), .06, 0, 360, width=0.03)\n",
    "nose = Wedge((.5, .32), .08, 75,105, width=0.03)\n",
    "mouthleft = Wedge((.44, .4), .08, 240,320, width=0.01)\n",
    "mouthright = Wedge((.56, .4), .08, 220,300, width=0.01)\n",
    "patches += [leftstripe,midstripe,rightstripe,lefteye,righteye,nose,mouthleft,mouthright]\n",
    "\n",
    "# Circles\n",
    "leftiris = Circle((.36,.46),0.04)\n",
    "rightiris = Circle((.63,.46),0.04)\n",
    "patches += [leftiris,rightiris]\n",
    "\n",
    "# Polygons drawn by passing coordinates of vertices\n",
    "leftear = Polygon([[.2,.6],[.3,.8],[.4,.64]], True)\n",
    "rightear = Polygon([[.6,.64],[.7,.8],[.8,.6]], True)\n",
    "topleftwhisker = Polygon([[.01,.4],[.18,.38],[.17,.42]], True)\n",
    "bottomleftwhisker = Polygon([[.01,.3],[.18,.32],[.2,.28]], True)\n",
    "toprightwhisker = Polygon([[.99,.41],[.82,.39],[.82,.43]], True)\n",
    "bottomrightwhisker = Polygon([[.99,.31],[.82,.33],[.81,.29]], True)\n",
    "patches+=[leftear,rightear,topleftwhisker,bottomleftwhisker,toprightwhisker,bottomrightwhisker]\n",
    "\n",
    "# Ellipse drawn by Ellipse((x,y),width,height)\n",
    "body = Ellipse((0.5,-0.18),0.6,0.8)\n",
    "patches.append(body)\n",
    "\n",
    "# Draw the patches\n",
    "colors = 100*np.random.rand(len(patches)) # set random colors\n",
    "p = PatchCollection(patches, alpha=0.4)\n",
    "p.set_array(np.array(colors))\n",
    "ax.add_collection(p)\n",
    "\n",
    "# Show the figure\n",
    "plt.show()"
   ]
  },
  {
   "cell_type": "code",
   "execution_count": null,
   "metadata": {},
   "outputs": [],
   "source": []
  }
 ],
 "metadata": {
  "kernelspec": {
   "display_name": "Python 3",
   "language": "python",
   "name": "python3"
  },
  "language_info": {
   "codemirror_mode": {
    "name": "ipython",
    "version": 3
   },
   "file_extension": ".py",
   "mimetype": "text/x-python",
   "name": "python",
   "nbconvert_exporter": "python",
   "pygments_lexer": "ipython3",
   "version": "3.8.3"
  }
 },
 "nbformat": 4,
 "nbformat_minor": 4
}
