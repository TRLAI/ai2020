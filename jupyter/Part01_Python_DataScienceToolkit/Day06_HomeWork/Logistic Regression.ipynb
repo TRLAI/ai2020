{
 "cells": [
  {
   "cell_type": "markdown",
   "metadata": {
    "ExecuteTime": {
     "end_time": "2016-09-12T22:37:07.123000",
     "start_time": "2016-09-12T22:37:07.114000"
    },
    "collapsed": true
   },
   "source": [
    "# 逻辑回归"
   ]
  },
  {
   "cell_type": "markdown",
   "metadata": {},
   "source": [
    "## The data"
   ]
  },
  {
   "cell_type": "markdown",
   "metadata": {},
   "source": [
    "我们将建立一个逻辑回归模型来预测一个学生是否被大学录取。假设你是一个大学里，系的管理员，你想根据两次考试的结果来决定每个申请人的录取机会。你有以前的申请人的历史数据，你可以用它作为逻辑回归的训练集。对于每一个培训例子，你有两个考试的申请人的分数和录取决定。为了做到这一点，我们将建立一个分类模型，根据考试成绩估计入学概率。"
   ]
  },
  {
   "cell_type": "code",
   "execution_count": null,
   "metadata": {
    "ExecuteTime": {
     "end_time": "2016-09-12T22:41:59.715000",
     "start_time": "2016-09-12T22:41:52.726000"
    }
   },
   "outputs": [],
   "source": [
    "#三大件\n",
    "import numpy as np\n",
    "import pandas as pd\n",
    "import matplotlib.pyplot as plt\n",
    "%matplotlib inline"
   ]
  },
  {
   "cell_type": "code",
   "execution_count": null,
   "metadata": {
    "ExecuteTime": {
     "end_time": "2016-09-12T22:43:37.650000",
     "start_time": "2016-09-12T22:43:37.635000"
    }
   },
   "outputs": [],
   "source": [
    "import os\n",
    "# 读取txt文件\n",
    "path = 'data' + os.sep + 'LogiReg_data.txt'\n",
    "# 用Pandas读取,并转换成DataFrame结构，设置列名：第一次考试成绩，第二次考试成绩，是否被录取\n",
    "pdData = pd.read_csv(path, header=None, names=['Exam 1', 'Exam 2', 'Admitted'])\n",
    "pdData.head()"
   ]
  },
  {
   "cell_type": "code",
   "execution_count": null,
   "metadata": {
    "ExecuteTime": {
     "end_time": "2016-09-12T22:41:59.785000",
     "start_time": "2016-09-12T22:41:59.776000"
    }
   },
   "outputs": [],
   "source": [
    "# 查看数据维度\n",
    "pdData.shape "
   ]
  },
  {
   "cell_type": "code",
   "execution_count": null,
   "metadata": {
    "ExecuteTime": {
     "end_time": "2016-09-12T22:42:00.260000",
     "start_time": "2016-09-12T22:41:59.790000"
    }
   },
   "outputs": [],
   "source": [
    "# 正例\n",
    "positive = pdData[pdData['Admitted'] == 1]\n",
    "# 负例\n",
    "negative = pdData[pdData['Admitted'] == 0]\n",
    "plt.style.use(['ggplot','bmh'])\n",
    "# 指定画图区域大小\n",
    "fig, ax = plt.subplots(figsize=(10,5))\n",
    "# 正例散点图，设置：标记大小，颜色，标记样式，示例名\n",
    "ax.scatter(positive['Exam 1'], positive['Exam 2'], s=30, c='b', marker='o', label='Admitted')\n",
    "# 负例散点图，设置：标记大小，颜色，标记样式，示例名\n",
    "ax.scatter(negative['Exam 1'], negative['Exam 2'], s=30, c='r', marker='x', label='Not Admitted')\n",
    "# 显示示例\n",
    "ax.legend()\n",
    "# x,y轴的名称\n",
    "ax.set_xlabel('Exam 1 Score')\n",
    "ax.set_ylabel('Exam 2 Score')"
   ]
  },
  {
   "cell_type": "markdown",
   "metadata": {},
   "source": [
    "## The logistic regression"
   ]
  },
  {
   "cell_type": "markdown",
   "metadata": {},
   "source": [
    "目标：建立分类器（求解出三个参数 $\\theta_0         \\theta_1         \\theta_2 $）\n",
    "\n",
    "\n",
    "设定阈值，根据阈值判断录取结果\n",
    "\n",
    "### 要完成的模块\n",
    "-  `sigmoid` : 由值到概率的映射函数\n",
    "\n",
    "-  `model` : 返回预测结果值\n",
    "\n",
    "-  `cost` : 根据参数计算损失\n",
    "\n",
    "-  `gradient` : 计算每个参数的梯度方向\n",
    "\n",
    "-  `descent` : 进行参数更新\n",
    "\n",
    "-  `accuracy`: 计算精度"
   ]
  },
  {
   "cell_type": "markdown",
   "metadata": {},
   "source": [
    "###  `sigmoid` 函数\n",
    "\n",
    "$$\n",
    "g(z) = \\frac{1}{1+e^{-z}}\n",
    "$$"
   ]
  },
  {
   "cell_type": "code",
   "execution_count": null,
   "metadata": {
    "ExecuteTime": {
     "end_time": "2016-09-12T22:42:00.268000",
     "start_time": "2016-09-12T22:42:00.263000"
    }
   },
   "outputs": [],
   "source": [
    "def sigmoid(z):\n",
    "    return 1 / (1 + np.exp(-z))"
   ]
  },
  {
   "cell_type": "code",
   "execution_count": null,
   "metadata": {
    "ExecuteTime": {
     "end_time": "2016-09-12T22:42:00.574000",
     "start_time": "2016-09-12T22:42:00.270000"
    }
   },
   "outputs": [],
   "source": [
    "# 看一下sigmoid是什么样子\n",
    "nums = np.arange(-10, 10, step=1)\n",
    "fig, ax = plt.subplots(figsize=(12,4))\n",
    "ax.plot(nums, sigmoid(nums), 'r')"
   ]
  },
  {
   "cell_type": "markdown",
   "metadata": {},
   "source": [
    "### Sigmoid 取值范围\n",
    "* $g:\\mathbb{R} \\to [0,1]$\n",
    "* $g(0)=0.5$\n",
    "* $g(- \\infty)=0$\n",
    "* $g(+ \\infty)=1$"
   ]
  },
  {
   "cell_type": "code",
   "execution_count": null,
   "metadata": {
    "ExecuteTime": {
     "end_time": "2016-09-12T22:42:00.581000",
     "start_time": "2016-09-12T22:42:00.576000"
    }
   },
   "outputs": [],
   "source": [
    "# model是预测函数，X数据，theta参数\n",
    "def model(X, theta):\n",
    "    # 做一个矩阵乘法\n",
    "    return sigmoid(np.dot(X, theta.T))"
   ]
  },
  {
   "cell_type": "markdown",
   "metadata": {},
   "source": [
    "$$\n",
    "\\begin{array}{ccc}\n",
    "\\begin{pmatrix}\\theta_{0} & \\theta_{1} & \\theta_{2}\\end{pmatrix} & \\times & \\begin{pmatrix}1\\\\\n",
    "x_{1}\\\\\n",
    "x_{2}\n",
    "\\end{pmatrix}\\end{array}=\\theta_{0}+\\theta_{1}x_{1}+\\theta_{2}x_{2}\n",
    "$$"
   ]
  },
  {
   "cell_type": "code",
   "execution_count": null,
   "metadata": {
    "ExecuteTime": {
     "end_time": "2016-09-12T22:42:00.649000",
     "start_time": "2016-09-12T22:42:00.586000"
    }
   },
   "outputs": [],
   "source": [
    "# 插入一列，全为1的值\n",
    "pdData.insert(0, 'Ones', 1)\n",
    "orig_data = pdData.values\n",
    "cols = orig_data.shape[1]\n",
    "X = orig_data[:,0:cols-1]\n",
    "y = orig_data[:,cols-1:cols]\n",
    "#X = np.matrix(X.values)\n",
    "#y = np.matrix(data.iloc[:,3:4].values) #np.array(y.values)\n",
    "# 用0来填充并构造一个1行3列的矩阵，用来占位\n",
    "theta = np.zeros([1, 3])"
   ]
  },
  {
   "cell_type": "markdown",
   "metadata": {},
   "source": [
    "随做，随时检查"
   ]
  },
  {
   "cell_type": "code",
   "execution_count": null,
   "metadata": {},
   "outputs": [],
   "source": [
    "# 看一下X\n",
    "X[:5]"
   ]
  },
  {
   "cell_type": "code",
   "execution_count": null,
   "metadata": {},
   "outputs": [],
   "source": [
    "# 看一下y\n",
    "y[:5]"
   ]
  },
  {
   "cell_type": "code",
   "execution_count": null,
   "metadata": {},
   "outputs": [],
   "source": [
    "# 看一下theta\n",
    "theta"
   ]
  },
  {
   "cell_type": "code",
   "execution_count": null,
   "metadata": {
    "ExecuteTime": {
     "end_time": "2016-09-12T22:42:00.683000",
     "start_time": "2016-09-12T22:42:00.652000"
    }
   },
   "outputs": [],
   "source": [
    "# 查看一下3个变量的维度\n",
    "X.shape, y.shape, theta.shape"
   ]
  },
  {
   "cell_type": "markdown",
   "metadata": {},
   "source": [
    "### 损失函数\n",
    "将对数似然函数去负号\n",
    "\n",
    "$$\n",
    "D(h_\\theta(x), y) = -y\\log(h_\\theta(x)) - (1-y)\\log(1-h_\\theta(x))\n",
    "$$\n",
    "求平均损失\n",
    "$$\n",
    "J(\\theta)=\\frac{1}{n}\\sum_{i=1}^{n} D(h_\\theta(x_i), y_i)\n",
    "$$"
   ]
  },
  {
   "cell_type": "code",
   "execution_count": null,
   "metadata": {
    "ExecuteTime": {
     "end_time": "2016-09-12T22:42:00.712000",
     "start_time": "2016-09-12T22:42:00.686000"
    }
   },
   "outputs": [],
   "source": [
    "# 损失函数，X样本数据，y是标签，theta参数\n",
    "def cost(X, y, theta):\n",
    "    left = np.multiply(-y, np.log(model(X, theta)))\n",
    "    right = np.multiply(1 - y, np.log(1 - model(X, theta)))\n",
    "    return np.sum(left - right) / (len(X))"
   ]
  },
  {
   "cell_type": "code",
   "execution_count": null,
   "metadata": {
    "ExecuteTime": {
     "end_time": "2016-09-12T22:42:00.743000",
     "start_time": "2016-09-12T22:42:00.714000"
    }
   },
   "outputs": [],
   "source": [
    "cost(X, y, theta)"
   ]
  },
  {
   "cell_type": "markdown",
   "metadata": {},
   "source": [
    "### 计算梯度\n",
    "\n",
    "偏导\n",
    "\n",
    "$$\n",
    "\\frac{\\partial J}{\\partial \\theta_j}=-\\frac{1}{m}\\sum_{i=1}^n (y_i - h_\\theta (x_i))x_{ij}\n",
    "$$\n"
   ]
  },
  {
   "cell_type": "code",
   "execution_count": null,
   "metadata": {
    "ExecuteTime": {
     "end_time": "2016-09-12T22:42:00.769000",
     "start_time": "2016-09-12T22:42:00.747000"
    }
   },
   "outputs": [],
   "source": [
    "# 计算梯度函数\n",
    "def gradient(X, y, theta):\n",
    "    # 声明梯度的变量\n",
    "    grad = np.zeros(theta.shape)\n",
    "    error = (model(X, theta)- y).ravel()\n",
    "    # 每次的偏导，要求3此theta的偏导\n",
    "    for j in range(len(theta.ravel())):\n",
    "        term = np.multiply(error, X[:,j])\n",
    "        # 计算梯度\n",
    "        grad[0, j] = np.sum(term) / len(X)\n",
    "    \n",
    "    return grad"
   ]
  },
  {
   "cell_type": "markdown",
   "metadata": {},
   "source": [
    "### Gradient descent"
   ]
  },
  {
   "cell_type": "markdown",
   "metadata": {},
   "source": [
    "比较3中不同梯度下降方法\n"
   ]
  },
  {
   "cell_type": "code",
   "execution_count": null,
   "metadata": {
    "ExecuteTime": {
     "end_time": "2016-09-12T22:42:00.830000",
     "start_time": "2016-09-12T22:42:00.804000"
    }
   },
   "outputs": [],
   "source": [
    "# 按照迭代次数停止\n",
    "STOP_ITER = 0\n",
    "# 根据损失停止\n",
    "STOP_COST = 1\n",
    "# 根据梯度停止\n",
    "STOP_GRAD = 2\n",
    "\n",
    "def stopCriterion(type, value, threshold):\n",
    "    # 设定三种不同的停止策略\n",
    "    if type == STOP_ITER:        return value > threshold # 指定一个次数\n",
    "    elif type == STOP_COST:      return abs(value[-1]-value[-2]) < threshold # 指定阈值\n",
    "    elif type == STOP_GRAD:      return np.linalg.norm(value) < threshold # 指定阈值"
   ]
  },
  {
   "cell_type": "code",
   "execution_count": null,
   "metadata": {
    "ExecuteTime": {
     "end_time": "2016-09-12T22:42:00.858000",
     "start_time": "2016-09-12T22:42:00.833000"
    }
   },
   "outputs": [],
   "source": [
    "import numpy.random\n",
    "# 洗牌，打乱顺序，让有规律的数据无规律，增强函数得泛化能力\n",
    "def shuffleData(data):\n",
    "    # 使用random中的shuffle\n",
    "    np.random.shuffle(data)\n",
    "    cols = data.shape[1]\n",
    "    X = data[:, 0:cols-1]\n",
    "    y = data[:, cols-1:]\n",
    "    return X, y"
   ]
  },
  {
   "cell_type": "code",
   "execution_count": null,
   "metadata": {
    "ExecuteTime": {
     "end_time": "2016-09-12T22:42:00.918000",
     "start_time": "2016-09-12T22:42:00.862000"
    },
    "cell_style": "center"
   },
   "outputs": [],
   "source": [
    "import time\n",
    "# 不同的梯度下降策略，消耗的时间不同，要看一下，时间对结果的影响\n",
    "# data数据，theta参数，batchSize梯度策略，stopType停止策略，thresh策略对应的阈值，alpha学习率\n",
    "def descent(data, theta, batchSize, stopType, thresh, alpha):\n",
    "    #梯度下降求解，先做初始化\n",
    "    init_time = time.time()\n",
    "    i = 0 # 迭代次数\n",
    "    k = 0 # batch\n",
    "    X, y = shuffleData(data)\n",
    "    grad = np.zeros(theta.shape) # 计算的梯度\n",
    "    costs = [cost(X, y, theta)] # 损失值\n",
    "\n",
    "    while True:\n",
    "        # 根据不同策略，使用实际的x,y，进行梯度计算\n",
    "        grad = gradient(X[k:k+batchSize], y[k:k+batchSize], theta)\n",
    "        k += batchSize #取batch数量个数据\n",
    "        if k >= n: \n",
    "            k = 0 \n",
    "            X, y = shuffleData(data) #重新洗牌\n",
    "        theta = theta - alpha*grad # 参数更新\n",
    "        costs.append(cost(X, y, theta)) # 计算新的损失\n",
    "        i += 1\n",
    "        # 判断，是否停止\n",
    "        if stopType == STOP_ITER:       value = i\n",
    "        elif stopType == STOP_COST:     value = costs\n",
    "        elif stopType == STOP_GRAD:     value = grad\n",
    "        # break，进行停止\n",
    "        if stopCriterion(stopType, value, thresh): break\n",
    "    \n",
    "    return theta, i-1, costs, grad, time.time() - init_time"
   ]
  },
  {
   "cell_type": "code",
   "execution_count": null,
   "metadata": {
    "ExecuteTime": {
     "end_time": "2016-09-12T22:42:00.951000",
     "start_time": "2016-09-12T22:42:00.922000"
    }
   },
   "outputs": [],
   "source": [
    "def runExpe(data, theta, batchSize, stopType, thresh, alpha):\n",
    "    #import pdb; pdb.set_trace();\n",
    "    # 初始化，求解\n",
    "    theta, iter, costs, grad, dur = descent(data, theta, batchSize, stopType, thresh, alpha)\n",
    "    # 定义如何显示信息，根据参数，选择梯度下降方式以及停止策略\n",
    "    name = \"Original\" if (data[:,1]>2).sum() > 1 else \"Scaled\"\n",
    "    name += \" data - learning rate: {} - \".format(alpha)\n",
    "    if batchSize==n: strDescType = \"Gradient\"\n",
    "    elif batchSize==1:  strDescType = \"Stochastic\"\n",
    "    else: strDescType = \"Mini-batch ({})\".format(batchSize)\n",
    "    name += strDescType + \" descent - Stop: \"\n",
    "    # 停止\n",
    "    if stopType == STOP_ITER: strStop = \"{} iterations\".format(thresh)\n",
    "    elif stopType == STOP_COST: strStop = \"costs change < {}\".format(thresh)\n",
    "    else: strStop = \"gradient norm < {}\".format(thresh)\n",
    "    name += strStop\n",
    "    # 展示与画图\n",
    "    print (\"***{}\\nTheta: {} - Iter: {} - Last cost: {:03.2f} - Duration: {:03.2f}s\".format(\n",
    "        name, theta, iter, costs[-1], dur))\n",
    "    plt.style.use(['ggplot','bmh'])\n",
    "    fig, ax = plt.subplots(figsize=(12,4))\n",
    "    ax.plot(np.arange(len(costs)), costs, 'r')\n",
    "    ax.set_xlabel('Iterations')\n",
    "    ax.set_ylabel('Cost')\n",
    "    ax.set_title(name.upper() + ' - Error vs. Iteration')\n",
    "    return theta"
   ]
  },
  {
   "cell_type": "markdown",
   "metadata": {},
   "source": [
    "### 不同的停止策略"
   ]
  },
  {
   "cell_type": "markdown",
   "metadata": {},
   "source": [
    "#### 设定迭代次数"
   ]
  },
  {
   "cell_type": "code",
   "execution_count": null,
   "metadata": {
    "ExecuteTime": {
     "end_time": "2016-09-12T22:42:02.222000",
     "start_time": "2016-09-12T22:42:00.953000"
    }
   },
   "outputs": [],
   "source": [
    "# 选择的梯度下降方法是基于所有样本的\n",
    "n=100\n",
    "# 按照迭代次数STOP_ITER，迭代5000次thresh=5000，学习率alpha=0.000001\n",
    "runExpe(orig_data, theta, n, STOP_ITER, thresh=5000, alpha=0.000001)"
   ]
  },
  {
   "cell_type": "markdown",
   "metadata": {},
   "source": [
    "#### 根据损失值停止"
   ]
  },
  {
   "cell_type": "code",
   "execution_count": null,
   "metadata": {
    "ExecuteTime": {
     "end_time": "2016-09-12T22:42:23.816000",
     "start_time": "2016-09-12T22:42:02.225000"
    }
   },
   "outputs": [],
   "source": [
    "# 损失函数STOP_COST，两次之间小于thresh，\n",
    "runExpe(orig_data, theta, n, STOP_COST, thresh=0.000001, alpha=0.001)"
   ]
  },
  {
   "cell_type": "markdown",
   "metadata": {},
   "source": [
    "#### 根据梯度变化停止"
   ]
  },
  {
   "cell_type": "code",
   "execution_count": null,
   "metadata": {
    "ExecuteTime": {
     "end_time": "2016-09-12T22:42:32.050000",
     "start_time": "2016-09-12T22:42:23.818000"
    }
   },
   "outputs": [],
   "source": [
    "# 梯度STOP_GRAD，阈值小于thresh=0.05\n",
    "runExpe(orig_data, theta, n, STOP_GRAD, thresh=0.05, alpha=0.001)"
   ]
  },
  {
   "cell_type": "markdown",
   "metadata": {},
   "source": [
    "### 对比不同的梯度下降方法"
   ]
  },
  {
   "cell_type": "markdown",
   "metadata": {},
   "source": [
    "#### Stochastic descent"
   ]
  },
  {
   "cell_type": "code",
   "execution_count": null,
   "metadata": {
    "ExecuteTime": {
     "end_time": "2016-09-12T22:42:32.786000",
     "start_time": "2016-09-12T22:42:32.052000"
    }
   },
   "outputs": [],
   "source": [
    "# 1个样本\n",
    "runExpe(orig_data, theta, 1, STOP_ITER, thresh=5000, alpha=0.001)"
   ]
  },
  {
   "cell_type": "markdown",
   "metadata": {},
   "source": [
    "有点爆炸。。。很不稳定,再来试试把学习率调小一些"
   ]
  },
  {
   "cell_type": "code",
   "execution_count": null,
   "metadata": {
    "ExecuteTime": {
     "end_time": "2016-09-12T22:42:34.091000",
     "start_time": "2016-09-12T22:42:32.788000"
    }
   },
   "outputs": [],
   "source": [
    "runExpe(orig_data, theta, 1, STOP_ITER, thresh=15000, alpha=0.000002)"
   ]
  },
  {
   "cell_type": "markdown",
   "metadata": {},
   "source": [
    "速度快，但稳定性差，需要很小的学习率"
   ]
  },
  {
   "cell_type": "markdown",
   "metadata": {},
   "source": [
    "#### Mini-batch descent"
   ]
  },
  {
   "cell_type": "code",
   "execution_count": null,
   "metadata": {
    "ExecuteTime": {
     "end_time": "2016-09-12T22:42:36.331000",
     "start_time": "2016-09-12T22:42:34.094000"
    }
   },
   "outputs": [],
   "source": [
    "# 样本数16\n",
    "runExpe(orig_data, theta, 16, STOP_ITER, thresh=15000, alpha=0.001)"
   ]
  },
  {
   "cell_type": "markdown",
   "metadata": {},
   "source": [
    "浮动仍然比较大，我们来尝试下对数据进行标准化\n",
    "将数据按其属性(按列进行)减去其均值，然后除以其方差。最后得到的结果是，对每个属性/每列来说所有数据都聚集在0附近，方差值为1"
   ]
  },
  {
   "cell_type": "code",
   "execution_count": null,
   "metadata": {
    "ExecuteTime": {
     "end_time": "2016-09-12T22:42:40.439000",
     "start_time": "2016-09-12T22:42:36.333000"
    }
   },
   "outputs": [],
   "source": [
    "from sklearn import preprocessing as pp\n",
    "# 处理后的数据scaled_data\n",
    "scaled_data = orig_data.copy()\n",
    "scaled_data[:, 1:3] = pp.scale(orig_data[:, 1:3])\n",
    "\n",
    "runExpe(scaled_data, theta, n, STOP_ITER, thresh=5000, alpha=0.001)"
   ]
  },
  {
   "cell_type": "markdown",
   "metadata": {},
   "source": [
    "它好多了！原始数据，只能达到达到0.63左右，而我们得到了0.38个在这里！\n",
    "所以对数据做预处理是非常重要的\n",
    "### 有问题，先从数据层面下手"
   ]
  },
  {
   "cell_type": "code",
   "execution_count": null,
   "metadata": {
    "ExecuteTime": {
     "end_time": "2016-09-12T22:42:52.663000",
     "start_time": "2016-09-12T22:42:40.442000"
    }
   },
   "outputs": [],
   "source": [
    "# 样本100，使用梯度，阈值调整到thresh=0.02\n",
    "runExpe(scaled_data, theta, n, STOP_GRAD, thresh=0.02, alpha=0.001)"
   ]
  },
  {
   "cell_type": "markdown",
   "metadata": {},
   "source": [
    "更多的迭代次数会使得损失下降的更多！"
   ]
  },
  {
   "cell_type": "code",
   "execution_count": null,
   "metadata": {
    "ExecuteTime": {
     "end_time": "2016-09-12T22:42:58.954000",
     "start_time": "2016-09-12T22:42:52.665000"
    }
   },
   "outputs": [],
   "source": [
    "theta = runExpe(scaled_data, theta, 1, STOP_GRAD, thresh=0.002/5, alpha=0.001)"
   ]
  },
  {
   "cell_type": "markdown",
   "metadata": {},
   "source": [
    "随机梯度下降更快，但是我们需要迭代的次数也需要更多，所以还是用batch的比较合适！！！"
   ]
  },
  {
   "cell_type": "code",
   "execution_count": null,
   "metadata": {
    "ExecuteTime": {
     "end_time": "2016-09-12T22:42:59.693000",
     "start_time": "2016-09-12T22:42:58.957000"
    }
   },
   "outputs": [],
   "source": [
    "runExpe(scaled_data, theta, 16, STOP_GRAD, thresh=0.002*2, alpha=0.001)"
   ]
  },
  {
   "cell_type": "markdown",
   "metadata": {},
   "source": [
    "## 精度"
   ]
  },
  {
   "cell_type": "code",
   "execution_count": null,
   "metadata": {
    "ExecuteTime": {
     "end_time": "2016-09-12T22:42:59.703000",
     "start_time": "2016-09-12T22:42:59.699000"
    }
   },
   "outputs": [],
   "source": [
    "#设定阈值\n",
    "def predict(X, theta):\n",
    "    # 大于0.5被录取，小于0.5不被录取\n",
    "    return [1 if x >= 0.5 else 0 for x in model(X, theta)]"
   ]
  },
  {
   "cell_type": "code",
   "execution_count": null,
   "metadata": {
    "ExecuteTime": {
     "end_time": "2016-09-12T22:42:59.760000",
     "start_time": "2016-09-12T22:42:59.706000"
    }
   },
   "outputs": [],
   "source": [
    "scaled_X = scaled_data[:, :3]\n",
    "y = scaled_data[:, 3]\n",
    "predictions = predict(scaled_X, theta)\n",
    "# 精度，预测对了多少个\n",
    "correct = [1 if ((a == 1 and b == 1) or (a == 0 and b == 0)) else 0 for (a, b) in zip(predictions, y)]\n",
    "accuracy = (sum(map(int, correct)) % len(correct))\n",
    "print ('accuracy = {0}%'.format(accuracy))"
   ]
  },
  {
   "cell_type": "code",
   "execution_count": null,
   "metadata": {},
   "outputs": [],
   "source": []
  }
 ],
 "metadata": {
  "anaconda-cloud": {},
  "kernelspec": {
   "display_name": "Python 3",
   "language": "python",
   "name": "python3"
  },
  "language_info": {
   "codemirror_mode": {
    "name": "ipython",
    "version": 3
   },
   "file_extension": ".py",
   "mimetype": "text/x-python",
   "name": "python",
   "nbconvert_exporter": "python",
   "pygments_lexer": "ipython3",
   "version": "3.8.3"
  },
  "nav_menu": {},
  "toc": {
   "navigate_menu": true,
   "number_sections": true,
   "sideBar": true,
   "threshold": 6,
   "toc_cell": false,
   "toc_section_display": "block",
   "toc_window_display": true
  },
  "toc_position": {
   "height": "691px",
   "left": "0px",
   "right": "893.9px",
   "top": "32px",
   "width": "322px"
  }
 },
 "nbformat": 4,
 "nbformat_minor": 1
}
