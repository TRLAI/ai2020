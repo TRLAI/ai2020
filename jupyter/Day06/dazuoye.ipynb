{
 "cells": [
  {
   "cell_type": "code",
   "execution_count": 2,
   "metadata": {},
   "outputs": [
    {
     "name": "stdout",
     "output_type": "stream",
     "text": [
      "0.20829845152285587\n",
      "正确率: 89.0 %%\n"
     ]
    }
   ],
   "source": [
    "import os\n",
    "import numpy as np\n",
    "import pandas as pd\n",
    "import matplotlib.pyplot as plt\n",
    "def sigmoid(z):\n",
    "    return 1/(1+np.exp(-z))\n",
    "def cost_func(theta, x, y):\n",
    "    x = np.matrix(x)\n",
    "    y = np.matrix(y)\n",
    "    theta = np.matrix(theta)\n",
    "    z = x*theta.T\n",
    "    pos = np.multiply(y, np.log(sigmoid(z)))\n",
    "    neg = np.multiply(1-y, np.log(1-sigmoid(z)))\n",
    "    return np.sum(-pos-neg)/len(x)\n",
    "def grident(theta, x, y):\n",
    "    theta = np.matrix(theta)\n",
    "    x = np.matrix(x)\n",
    "    y = np.matrix(y)\n",
    "    para_num = x.shape[1]\n",
    "    grad = np.zeros(para_num)\n",
    "    error = sigmoid(x*theta.T)-y\n",
    "    for i in range(para_num):\n",
    "        term = np.multiply(error, x[:, i])\n",
    "        grad[i] = np.sum(term)/len(x)\n",
    "    return grad\n",
    "def f(x, y, theta, alpha, iters):\n",
    "    theta = np.matrix(theta)\n",
    "    x = np.matrix(x)\n",
    "    y = np.matrix(y)\n",
    "    for i in range(iters):\n",
    "        theta = theta - alpha*grident(theta, x, y)\n",
    "    return theta\n",
    "def predict(theta, x):\n",
    "    probability = sigmoid(x*theta.T)\n",
    "    return [1 if x >= 0.5 else 0 for x in probability]\n",
    "path = os.getcwd()\n",
    "data = pd.read_csv(path+'\\\\LogiReg_data.txt', names = ['exam1', 'exam2', 'admit'])\n",
    "\n",
    "data.insert(0, 'Ones', 1)\n",
    "cols = data.shape[1]\n",
    "x = data.iloc[:,:cols-1]\n",
    "x = np.array(x.values)\n",
    "y = data.iloc[:,cols-1:cols]\n",
    "y = np.array(y.values)\n",
    "th = np.zeros(3)\n",
    "#import scipy.optimize as opt\n",
    "#result = opt.fmin_tnc(func = cost_func, x0 = th, fprime= grident, args = (x, y))\n",
    "\n",
    "th = np.array([-20,0.21,0.2])\n",
    "th = f(x, y, th, 0.0001, 1000)\n",
    "print(cost_func(th, x, y))\n",
    "cnt = 0\n",
    "predictions = predict(th, x)\n",
    "for i in range(len(x)):\n",
    "    if predictions[i] == y[i]:\n",
    "        cnt+=1\n",
    "print(\"正确率:\",cnt/len(x)*100,'%%')"
   ]
  },
  {
   "cell_type": "code",
   "execution_count": null,
   "metadata": {},
   "outputs": [],
   "source": []
  }
 ],
 "metadata": {
  "kernelspec": {
   "display_name": "Python 3",
   "language": "python",
   "name": "python3"
  },
  "language_info": {
   "codemirror_mode": {
    "name": "ipython",
    "version": 3
   },
   "file_extension": ".py",
   "mimetype": "text/x-python",
   "name": "python",
   "nbconvert_exporter": "python",
   "pygments_lexer": "ipython3",
   "version": "3.8.3"
  }
 },
 "nbformat": 4,
 "nbformat_minor": 4
}
