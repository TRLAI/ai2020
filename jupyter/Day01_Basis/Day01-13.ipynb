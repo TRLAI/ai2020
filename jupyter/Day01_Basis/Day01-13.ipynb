{
 "cells": [
  {
   "cell_type": "markdown",
   "metadata": {},
   "source": [
    "### 文件操作"
   ]
  },
  {
   "cell_type": "code",
   "execution_count": null,
   "metadata": {},
   "outputs": [],
   "source": [
    "%%writefile text.txt\n",
    "hello python\n",
    "sun jia qi\n",
    "今天天气不错"
   ]
  },
  {
   "cell_type": "code",
   "execution_count": null,
   "metadata": {},
   "outputs": [],
   "source": [
    "txt = open('./data/text.txt')"
   ]
  },
  {
   "cell_type": "code",
   "execution_count": null,
   "metadata": {},
   "outputs": [],
   "source": [
    "print(txt)"
   ]
  },
  {
   "cell_type": "code",
   "execution_count": null,
   "metadata": {},
   "outputs": [],
   "source": [
    "txt_read = txt.read()\n",
    "print (txt_read)"
   ]
  },
  {
   "cell_type": "code",
   "execution_count": null,
   "metadata": {},
   "outputs": [],
   "source": [
    "txt = open('./data/text.txt')\n",
    "lines = txt.readlines()\n",
    "print (type(lines))\n",
    "print (lines)"
   ]
  },
  {
   "cell_type": "code",
   "execution_count": null,
   "metadata": {},
   "outputs": [],
   "source": [
    "for line in lines:\n",
    "    print ('cur_line:',line)"
   ]
  },
  {
   "cell_type": "code",
   "execution_count": null,
   "metadata": {},
   "outputs": [],
   "source": [
    "txt.close()"
   ]
  },
  {
   "cell_type": "code",
   "execution_count": null,
   "metadata": {},
   "outputs": [],
   "source": [
    "txt = open('py_write.txt','w')\n",
    "txt.write('jin tian tian qi bu cuo')\n",
    "txt.write('sun jia qi')\n",
    "txt.close()"
   ]
  },
  {
   "cell_type": "code",
   "execution_count": null,
   "metadata": {},
   "outputs": [],
   "source": [
    "txt = open('py_write.txt','w')\n",
    "txt.write('jin tian tian qi bu cuo')\n",
    "txt.write('\\n')\n",
    "txt.write('sun jia qi')\n",
    "txt.close()"
   ]
  },
  {
   "cell_type": "code",
   "execution_count": null,
   "metadata": {},
   "outputs": [],
   "source": [
    "txt = open('py_write.txt','w')\n",
    "txt.write('123')\n",
    "txt.write('\\n')\n",
    "txt.write('456')\n",
    "txt.close()"
   ]
  },
  {
   "cell_type": "code",
   "execution_count": null,
   "metadata": {},
   "outputs": [],
   "source": [
    "txt = open('py_write.txt','a')\n",
    "txt.write('1234')\n",
    "txt.write('\\n')\n",
    "txt.write('4567')\n",
    "txt.close()"
   ]
  },
  {
   "cell_type": "code",
   "execution_count": null,
   "metadata": {},
   "outputs": [],
   "source": [
    "txt = open('py_write.txt','w')\n",
    "for i in range(10):\n",
    "    txt.write(str(i)+'\\n')\n",
    "txt2 = open('py_write.txt','r')\n",
    "print (txt2.read())"
   ]
  },
  {
   "cell_type": "code",
   "execution_count": null,
   "metadata": {},
   "outputs": [],
   "source": [
    "txt = open('py_write.txt','w')\n",
    "for i in range(10):\n",
    "    txt.write(str(i)+'\\n')\n",
    "txt.close()\n",
    "txt2 = open('py_write.txt','r')\n",
    "print (txt2.read())"
   ]
  },
  {
   "cell_type": "code",
   "execution_count": null,
   "metadata": {},
   "outputs": [],
   "source": [
    "txt = open('py_write.txt','w')\n",
    "try:\n",
    "    for i in range(20):\n",
    "        10/(i-10)\n",
    "        txt.write(str(i)+'\\n')\n",
    "except Exception:\n",
    "    print ('error:',i)\n",
    "finally:\n",
    "    txt.close()"
   ]
  },
  {
   "cell_type": "code",
   "execution_count": null,
   "metadata": {},
   "outputs": [],
   "source": [
    "with open('py_write.txt','w') as f:\n",
    "    f.write('jin tian tian qi bu cuo')"
   ]
  },
  {
   "cell_type": "code",
   "execution_count": null,
   "metadata": {},
   "outputs": [],
   "source": []
  }
 ],
 "metadata": {
  "kernelspec": {
   "display_name": "Python 3",
   "language": "python",
   "name": "python3"
  },
  "language_info": {
   "codemirror_mode": {
    "name": "ipython",
    "version": 3
   },
   "file_extension": ".py",
   "mimetype": "text/x-python",
   "name": "python",
   "nbconvert_exporter": "python",
   "pygments_lexer": "ipython3",
   "version": "3.8.3"
  }
 },
 "nbformat": 4,
 "nbformat_minor": 4
}
