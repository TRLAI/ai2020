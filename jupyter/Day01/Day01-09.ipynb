{
 "cells": [
  {
   "cell_type": "markdown",
   "metadata": {},
   "source": [
    "### 循环"
   ]
  },
  {
   "cell_type": "code",
   "execution_count": null,
   "metadata": {},
   "outputs": [],
   "source": [
    "py1 = 0\n",
    "while py1 < 10:\n",
    "    print (py1)\n",
    "    py1 += 1"
   ]
  },
  {
   "cell_type": "code",
   "execution_count": null,
   "metadata": {},
   "outputs": [],
   "source": [
    "py2 = set(['python','set','dict'])\n",
    "while py2:\n",
    "    t1 = py2.pop()\n",
    "    print (t1)\n",
    "print(py2)"
   ]
  },
  {
   "cell_type": "code",
   "execution_count": null,
   "metadata": {},
   "outputs": [],
   "source": [
    "py3 = set(['python','set','dict'])\n",
    "for name in py3:\n",
    "    print(name)"
   ]
  },
  {
   "cell_type": "code",
   "execution_count": null,
   "metadata": {},
   "outputs": [],
   "source": [
    "for i in range(10):\n",
    "    print(i)"
   ]
  },
  {
   "cell_type": "code",
   "execution_count": null,
   "metadata": {},
   "outputs": [],
   "source": [
    "py4 = [12,23,34,45,56,67,78,89,90]\n",
    "for i in range(3):\n",
    "    print(py4[i])\n",
    "print('---'*5)\n",
    "for i in range(len(py4)):\n",
    "    print(py4[i])"
   ]
  },
  {
   "cell_type": "code",
   "execution_count": null,
   "metadata": {},
   "outputs": [],
   "source": [
    "py5 = [10,11,12,13,14,15]\n",
    "for i in py5:\n",
    "    if i%2 == 0:\n",
    "        print (i)\n",
    "    else:\n",
    "        continue\n",
    "    print (i)"
   ]
  },
  {
   "cell_type": "code",
   "execution_count": null,
   "metadata": {},
   "outputs": [],
   "source": [
    "py6 = [10,11,12,13,14,15]\n",
    "for i in py6:\n",
    "    if i%2 == 0:\n",
    "        print (i)\n",
    "    else:\n",
    "        break\n",
    "    print (i)"
   ]
  },
  {
   "cell_type": "code",
   "execution_count": null,
   "metadata": {},
   "outputs": [],
   "source": []
  }
 ],
 "metadata": {
  "kernelspec": {
   "display_name": "Python 3",
   "language": "python",
   "name": "python3"
  },
  "language_info": {
   "codemirror_mode": {
    "name": "ipython",
    "version": 3
   },
   "file_extension": ".py",
   "mimetype": "text/x-python",
   "name": "python",
   "nbconvert_exporter": "python",
   "pygments_lexer": "ipython3",
   "version": "3.8.3"
  }
 },
 "nbformat": 4,
 "nbformat_minor": 4
}
