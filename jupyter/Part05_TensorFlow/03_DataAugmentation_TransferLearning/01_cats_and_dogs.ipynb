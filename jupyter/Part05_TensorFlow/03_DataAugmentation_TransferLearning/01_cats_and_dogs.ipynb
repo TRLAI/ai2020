{
 "cells": [
  {
   "cell_type": "markdown",
   "metadata": {
    "colab_type": "text",
    "id": "3bSXLX4pkdxs"
   },
   "source": [
    "## 猫狗识别\n",
    "\n",
    "- 数据预处理：图像数据处理，准备训练和验证数据集\n",
    "- 卷积网络模型：构建网络架构\n",
    "- 过拟合问题：观察训练和验证效果，针对过拟合问题提出解决方法\n",
    "- 数据增强：图像数据增强方法与效果\n",
    "- 迁移学习：深度学习必备训练策略（使用类似的训练模型的参数）"
   ]
  },
  {
   "cell_type": "markdown",
   "metadata": {},
   "source": [
    "<img src=\"./img/1.png\" alt=\"FAO\" width=\"990\">"
   ]
  },
  {
   "cell_type": "markdown",
   "metadata": {
    "colab_type": "text",
    "id": "3TQcJVqBuYi4"
   },
   "source": [
    "### 导入工具包"
   ]
  },
  {
   "cell_type": "code",
   "execution_count": 14,
   "metadata": {
    "colab": {},
    "colab_type": "code",
    "id": "uyi-eUVGTe_j"
   },
   "outputs": [],
   "source": [
    "import os\n",
    "import warnings\n",
    "warnings.filterwarnings(\"ignore\")\n",
    "import time\n",
    "import datetime\n",
    "import tensorflow as tf\n",
    "from tensorflow.keras.optimizers import Adam\n",
    "from tensorflow.keras.preprocessing.image import ImageDataGenerator"
   ]
  },
  {
   "cell_type": "markdown",
   "metadata": {
    "colab_type": "text",
    "id": "gatL3NZbvj_p"
   },
   "source": [
    "### 指定好数据路径（训练和验证）"
   ]
  },
  {
   "cell_type": "code",
   "execution_count": 15,
   "metadata": {
    "colab": {},
    "colab_type": "code",
    "id": "CRLCp-a6vtCN"
   },
   "outputs": [],
   "source": [
    "# 数据所在文件夹\n",
    "base_dir = './data/cats_and_dogs'\n",
    "train_dir = os.path.join(base_dir, 'train')\n",
    "validation_dir = os.path.join(base_dir, 'validation')\n",
    "\n",
    "# 训练集\n",
    "train_cats_dir = os.path.join(train_dir, 'cats')\n",
    "train_dogs_dir = os.path.join(train_dir, 'dogs')\n",
    "\n",
    "# 验证集\n",
    "validation_cats_dir = os.path.join(validation_dir, 'cats')\n",
    "validation_dogs_dir = os.path.join(validation_dir, 'dogs')"
   ]
  },
  {
   "cell_type": "markdown",
   "metadata": {
    "colab_type": "text",
    "id": "D72OzHazUUK9"
   },
   "source": [
    "### 构建卷积神经网络模型\n",
    "- 几层都可以，大家可以随意玩\n",
    "- 经典数据集，都会使用224x224x3的图片\n",
    "- 如果用CPU训练，可以把输入设置的更小一些，输入大小对训练速度有较大影响，可以设置为64x64x3，速度会快10倍左右\n",
    "- 或者，放到Colab中，进行运算"
   ]
  },
  {
   "cell_type": "markdown",
   "metadata": {},
   "source": [
    "### Conv2D\n",
    "- filters：个数\n",
    "- kernel_size：filter的大小，3x3\n",
    "- strides：步长\n",
    "- padding：边界填充"
   ]
  },
  {
   "cell_type": "code",
   "execution_count": 16,
   "metadata": {
    "colab": {
     "base_uri": "https://localhost:8080/",
     "height": 88
    },
    "colab_type": "code",
    "id": "Aedt-HNewUP3",
    "outputId": "09cc6986-eb07-499d-ea6f-714f8035f3f3"
   },
   "outputs": [],
   "source": [
    "model = tf.keras.models.Sequential([\n",
    "    # 如果训练慢，可以把数据设置的更小一些\n",
    "    # 32：filters；\n",
    "    # (3,3)：kernel_size\n",
    "    # MaxPooling2D(2, 2)：W、H为原来的1/2\n",
    "    tf.keras.layers.Conv2D(32, (3,3), activation='relu', input_shape=(64, 64, 3)),\n",
    "    tf.keras.layers.MaxPooling2D(2, 2),\n",
    "\n",
    "    tf.keras.layers.Conv2D(64, (3,3), activation='relu'),\n",
    "    tf.keras.layers.MaxPooling2D(2,2),\n",
    "\n",
    "    tf.keras.layers.Conv2D(128, (3,3), activation='relu'),\n",
    "    tf.keras.layers.MaxPooling2D(2,2),\n",
    "    \n",
    "    # 为全连接层准备，Flatten拉长操作\n",
    "    tf.keras.layers.Flatten(),\n",
    "    \n",
    "    tf.keras.layers.Dense(512, activation='relu'),\n",
    "    # 二分类sigmoid就够了\n",
    "    tf.keras.layers.Dense(1, activation='sigmoid')\n",
    "])"
   ]
  },
  {
   "cell_type": "code",
   "execution_count": 17,
   "metadata": {
    "colab": {
     "base_uri": "https://localhost:8080/",
     "height": 527
    },
    "colab_type": "code",
    "id": "tDtm3juUWpw6",
    "outputId": "7822dc4f-3aa1-47bc-a635-f5161b71d079"
   },
   "outputs": [
    {
     "name": "stdout",
     "output_type": "stream",
     "text": [
      "Model: \"sequential_1\"\n",
      "_________________________________________________________________\n",
      "Layer (type)                 Output Shape              Param #   \n",
      "=================================================================\n",
      "conv2d_3 (Conv2D)            (None, 62, 62, 32)        896       \n",
      "_________________________________________________________________\n",
      "max_pooling2d_3 (MaxPooling2 (None, 31, 31, 32)        0         \n",
      "_________________________________________________________________\n",
      "conv2d_4 (Conv2D)            (None, 29, 29, 64)        18496     \n",
      "_________________________________________________________________\n",
      "max_pooling2d_4 (MaxPooling2 (None, 14, 14, 64)        0         \n",
      "_________________________________________________________________\n",
      "conv2d_5 (Conv2D)            (None, 12, 12, 128)       73856     \n",
      "_________________________________________________________________\n",
      "max_pooling2d_5 (MaxPooling2 (None, 6, 6, 128)         0         \n",
      "_________________________________________________________________\n",
      "flatten_1 (Flatten)          (None, 4608)              0         \n",
      "_________________________________________________________________\n",
      "dense_2 (Dense)              (None, 512)               2359808   \n",
      "_________________________________________________________________\n",
      "dense_3 (Dense)              (None, 1)                 513       \n",
      "=================================================================\n",
      "Total params: 2,453,569\n",
      "Trainable params: 2,453,569\n",
      "Non-trainable params: 0\n",
      "_________________________________________________________________\n"
     ]
    }
   ],
   "source": [
    "model.summary()"
   ]
  },
  {
   "cell_type": "markdown",
   "metadata": {},
   "source": [
    "#### Param 计算\n",
    "3x3x3x32+32\n",
    "kernel_size的乘积，乘以图像层数，乘以filters数量，加上偏置项的数量"
   ]
  },
  {
   "cell_type": "markdown",
   "metadata": {
    "colab_type": "text",
    "id": "GFnJT_vVWn1M"
   },
   "source": [
    "### 配置训练器"
   ]
  },
  {
   "cell_type": "code",
   "execution_count": 18,
   "metadata": {
    "colab": {
     "base_uri": "https://localhost:8080/",
     "height": 88
    },
    "colab_type": "code",
    "id": "anR2p_UMX9TA",
    "outputId": "b816458e-2cf8-4f30-a953-cb11f9f9a157"
   },
   "outputs": [],
   "source": [
    "# 损失函数，优化器，评估标准\n",
    "model.compile(loss='binary_crossentropy',\n",
    "              optimizer=Adam(lr=1e-4),\n",
    "              metrics=['acc'])"
   ]
  },
  {
   "cell_type": "markdown",
   "metadata": {},
   "source": [
    "### 数据预处理\n",
    "\n",
    "- 读进来的数据会被自动转换成tensor(float32)格式，分别准备训练和验证\n",
    "- 图像数据归一化（0-1）区间"
   ]
  },
  {
   "cell_type": "code",
   "execution_count": 19,
   "metadata": {
    "colab": {},
    "colab_type": "code",
    "id": "6iogIhqTxGeX"
   },
   "outputs": [],
   "source": [
    "train_datagen = ImageDataGenerator(rescale=1./255)\n",
    "test_datagen = ImageDataGenerator(rescale=1./255)"
   ]
  },
  {
   "cell_type": "code",
   "execution_count": 20,
   "metadata": {
    "colab": {
     "base_uri": "https://localhost:8080/",
     "height": 51
    },
    "colab_type": "code",
    "id": "f9D_MjIHx2XD",
    "outputId": "abc41e7c-48a1-4dad-b3fe-4442f2cf6953"
   },
   "outputs": [
    {
     "name": "stdout",
     "output_type": "stream",
     "text": [
      "Found 2000 images belonging to 2 classes.\n",
      "Found 1000 images belonging to 2 classes.\n"
     ]
    }
   ],
   "source": [
    "train_generator = train_datagen.flow_from_directory(\n",
    "        train_dir,  # 文件夹路径\n",
    "        target_size=(64, 64),  # 指定resize成的大小\n",
    "        batch_size=20,\n",
    "        # 如果one-hot就是categorical，二分类用binary就可以\n",
    "        class_mode='binary')\n",
    "\n",
    "validation_generator = test_datagen.flow_from_directory(\n",
    "        validation_dir,\n",
    "        target_size=(64, 64),\n",
    "        batch_size=20,\n",
    "        class_mode='binary')"
   ]
  },
  {
   "cell_type": "markdown",
   "metadata": {
    "colab_type": "text",
    "id": "I8TfHlDGx8Gz"
   },
   "source": [
    "### 训练网络模型\n",
    "- 直接fit也可以，但是通常内存没有那么大，不能把所有数据全部放入内存，fit_generator相当于一个生成器，动态产生所需的batch数据\n",
    "- steps_per_epoch相当给定一个停止条件，因为生成器会不断产生batch数据，说白了就是它不知道一个epoch里需要执行多少个step"
   ]
  },
  {
   "cell_type": "code",
   "execution_count": 21,
   "metadata": {
    "colab": {
     "base_uri": "https://localhost:8080/",
     "height": 1000
    },
    "colab_type": "code",
    "id": "m6yLZpibyMXB",
    "outputId": "7944b730-b558-4ee7-9ed7-18021ed7af4a"
   },
   "outputs": [
    {
     "name": "stdout",
     "output_type": "stream",
     "text": [
      "Epoch 1/20\n",
      "100/100 - 12s - loss: 0.6939 - acc: 0.5095 - val_loss: 0.6875 - val_acc: 0.5170\n",
      "Epoch 2/20\n",
      "100/100 - 13s - loss: 0.6694 - acc: 0.5870 - val_loss: 0.6640 - val_acc: 0.5930\n",
      "Epoch 3/20\n",
      "100/100 - 12s - loss: 0.6373 - acc: 0.6475 - val_loss: 0.6312 - val_acc: 0.6400\n",
      "Epoch 4/20\n",
      "100/100 - 12s - loss: 0.5908 - acc: 0.6900 - val_loss: 0.5956 - val_acc: 0.6780\n",
      "Epoch 5/20\n",
      "100/100 - 12s - loss: 0.5576 - acc: 0.7135 - val_loss: 0.5958 - val_acc: 0.6820\n",
      "Epoch 6/20\n",
      "100/100 - 12s - loss: 0.5152 - acc: 0.7585 - val_loss: 0.5826 - val_acc: 0.6910\n",
      "Epoch 7/20\n",
      "100/100 - 12s - loss: 0.4861 - acc: 0.7780 - val_loss: 0.5607 - val_acc: 0.7210\n",
      "Epoch 8/20\n",
      "100/100 - 13s - loss: 0.4659 - acc: 0.7895 - val_loss: 0.5842 - val_acc: 0.6910\n",
      "Epoch 9/20\n",
      "100/100 - 14s - loss: 0.4295 - acc: 0.8150 - val_loss: 0.5536 - val_acc: 0.7290\n",
      "Epoch 10/20\n",
      "100/100 - 14s - loss: 0.4189 - acc: 0.8130 - val_loss: 0.5430 - val_acc: 0.7430\n",
      "Epoch 11/20\n",
      "100/100 - 14s - loss: 0.3806 - acc: 0.8370 - val_loss: 0.5931 - val_acc: 0.7030\n",
      "Epoch 12/20\n",
      "100/100 - 15s - loss: 0.3505 - acc: 0.8555 - val_loss: 0.6027 - val_acc: 0.7000\n",
      "Epoch 13/20\n",
      "100/100 - 15s - loss: 0.3322 - acc: 0.8610 - val_loss: 0.5458 - val_acc: 0.7410\n",
      "Epoch 14/20\n",
      "100/100 - 14s - loss: 0.2976 - acc: 0.8840 - val_loss: 0.5665 - val_acc: 0.7390\n",
      "Epoch 15/20\n",
      "100/100 - 14s - loss: 0.2839 - acc: 0.8890 - val_loss: 0.5548 - val_acc: 0.7520\n",
      "Epoch 16/20\n",
      "100/100 - 14s - loss: 0.2486 - acc: 0.9090 - val_loss: 0.5619 - val_acc: 0.7320\n",
      "Epoch 17/20\n",
      "100/100 - 14s - loss: 0.2338 - acc: 0.9160 - val_loss: 0.5647 - val_acc: 0.7430\n",
      "Epoch 18/20\n",
      "100/100 - 14s - loss: 0.2168 - acc: 0.9240 - val_loss: 0.6716 - val_acc: 0.7010\n",
      "Epoch 19/20\n",
      "100/100 - 14s - loss: 0.2099 - acc: 0.9270 - val_loss: 0.5749 - val_acc: 0.7550\n",
      "Epoch 20/20\n",
      "100/100 - 12s - loss: 0.1723 - acc: 0.9490 - val_loss: 0.6008 - val_acc: 0.7390\n",
      "0:04:31.368368\n"
     ]
    }
   ],
   "source": [
    "start_time = time.time()\n",
    "history = model.fit_generator(\n",
    "      train_generator,\n",
    "      steps_per_epoch=100,  # 2000 images = batch_size * steps\n",
    "      epochs=20,\n",
    "      validation_data=validation_generator,\n",
    "      validation_steps=50,  # 1000 images = batch_size * steps\n",
    "      verbose=2)\n",
    "print(datetime.timedelta(seconds = time.time() - start_time))"
   ]
  },
  {
   "cell_type": "markdown",
   "metadata": {
    "colab_type": "text",
    "id": "jJFgckBNyhu8"
   },
   "source": [
    "### 效果展示"
   ]
  },
  {
   "cell_type": "code",
   "execution_count": 23,
   "metadata": {
    "colab": {
     "base_uri": "https://localhost:8080/",
     "height": 545
    },
    "colab_type": "code",
    "id": "Bc-Y9ymQz1nq",
    "outputId": "391f6998-8282-480d-b857-0dd569d0e661"
   },
   "outputs": [
    {
     "data": {
      "image/png": "[encoded data removed]",
      "text/plain": [
       "<Figure size 640x480 with 1 Axes>"
      ]
     },
     "metadata": {},
     "output_type": "display_data"
    },
    {
     "data": {
      "image/png": "[encoded data removed]",
      "text/plain": [
       "<Figure size 640x480 with 1 Axes>"
      ]
     },
     "metadata": {},
     "output_type": "display_data"
    },
    {
     "name": "stdout",
     "output_type": "stream",
     "text": [
      "0:00:00.148417\n"
     ]
    }
   ],
   "source": [
    "import matplotlib.pyplot as plt\n",
    "plt.style.use('classic')\n",
    "acc = history.history['acc']\n",
    "val_acc = history.history['val_acc']\n",
    "loss = history.history['loss']\n",
    "val_loss = history.history['val_loss']\n",
    "\n",
    "epochs = range(len(acc))\n",
    "\n",
    "plt.plot(epochs, acc, 'bo', label='Training accuracy')\n",
    "plt.plot(epochs, val_acc, 'b', label='Validation accuracy')\n",
    "plt.title('Training and validation accuracy')\n",
    "\n",
    "plt.figure()\n",
    "\n",
    "plt.plot(epochs, loss, 'bo', label='Training Loss')\n",
    "plt.plot(epochs, val_loss, 'b', label='Validation Loss')\n",
    "plt.title('Training and validation loss')\n",
    "plt.legend()\n",
    "\n",
    "plt.show()"
   ]
  },
  {
   "cell_type": "markdown",
   "metadata": {},
   "source": [
    "看起来完全过拟合了，如何解决呢？\n",
    "\n",
    "先从数据下手"
   ]
  }
 ],
 "metadata": {
  "accelerator": "GPU",
  "colab": {
   "collapsed_sections": [],
   "name": "dogsVcats_subset_v2",
   "provenance": [],
   "version": "0.3.2"
  },
  "kernelspec": {
   "display_name": "Python 3",
   "language": "python",
   "name": "python3"
  },
  "language_info": {
   "codemirror_mode": {
    "name": "ipython",
    "version": 3
   },
   "file_extension": ".py",
   "mimetype": "text/x-python",
   "name": "python",
   "nbconvert_exporter": "python",
   "pygments_lexer": "ipython3",
   "version": "3.8.3"
  },
  "toc": {
   "base_numbering": 1,
   "nav_menu": {},
   "number_sections": true,
   "sideBar": true,
   "skip_h1_title": false,
   "title_cell": "Table of Contents",
   "title_sidebar": "Contents",
   "toc_cell": false,
   "toc_position": {},
   "toc_section_display": true,
   "toc_window_display": false
  }
 },
 "nbformat": 4,
 "nbformat_minor": 1
}
