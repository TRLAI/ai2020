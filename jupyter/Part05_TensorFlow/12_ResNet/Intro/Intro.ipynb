{
 "cells": [
  {
   "cell_type": "markdown",
   "metadata": {},
   "source": [
    "# ResNet 深度残差网络"
   ]
  },
  {
   "cell_type": "markdown",
   "metadata": {},
   "source": [
    "## 是不是层数越多，效果越好？\n",
    "\n",
    "![](./images/01.png)"
   ]
  },
  {
   "cell_type": "markdown",
   "metadata": {},
   "source": [
    "## 如何让层数越多，效果越好？\n",
    "\n",
    "![](./images/02.png)\n",
    "\n",
    "### 不比原来差"
   ]
  },
  {
   "cell_type": "markdown",
   "metadata": {},
   "source": [
    "## 对比\n",
    "\n",
    "- 对比基本的网络架构和残差网络架构\n",
    "- 实线是小模块之间\n",
    "- 虚线是特征图变换之后，1x1的卷积，让64变为128\n",
    "\n",
    "![](./images/03.png)\n",
    "\n",
    "- 34层效果比较好\n",
    "- 50层-150层，效果会有提升，但是没有那么大提升"
   ]
  },
  {
   "cell_type": "markdown",
   "metadata": {},
   "source": [
    "## 从结果看效果\n",
    "\n",
    "![](./images/04.png)"
   ]
  },
  {
   "cell_type": "markdown",
   "metadata": {},
   "source": [
    "## 网络架构\n",
    "\n",
    "- ResNet-50\n",
    "\n",
    "![](./images/06.png)"
   ]
  },
  {
   "cell_type": "markdown",
   "metadata": {},
   "source": [
    "## Identity block\n",
    "\n",
    "- 输入和相加的特征图大小要相等\n",
    "\n",
    "![](./images/08.png)"
   ]
  },
  {
   "cell_type": "markdown",
   "metadata": {},
   "source": [
    "## Convolutional block\n",
    "\n",
    "![](./images/09.png)"
   ]
  },
  {
   "cell_type": "markdown",
   "metadata": {},
   "source": [
    "## 看下项目\n",
    "\n",
    "- original_dataset原始数据\n",
    "- dataset处理后的数据\n",
    "- models模型保存目录\n",
    "- saved_model训练完的模型"
   ]
  },
  {
   "cell_type": "markdown",
   "metadata": {},
   "source": [
    "## 网络结构图示意"
   ]
  },
  {
   "cell_type": "markdown",
   "metadata": {},
   "source": [
    "### 整体结构图\n",
    "\n",
    "参数含义：\n",
    "* K 代表 Kernel，是卷积核的大小 或者 池化层池化核的大小\n",
    "* F 代表 Filter，是卷积操作输出的特征通道数目\n",
    "* S 代表 Stride，是卷积核的步幅 (两次卷积之间跳过的像素的数目)\n",
    "\n",
    "<img src=\"images/ResNet-Page-3.png\"  alt=\"ResNet Architecture\" style=\"width: 35%;background:white\"/>"
   ]
  },
  {
   "cell_type": "markdown",
   "metadata": {},
   "source": [
    "### Bottleneck 模块结构图 (Stride = 2)\n",
    "\n",
    "注意点：\n",
    "* Bottleneck 的参数 F 代表的是传入的 Filter 大小，实际上整个模块输出的特征通道是 $4 \\cdot F$\n",
    "\n",
    "<img src=\"images/ResNet-Page-1.png\" alt=\"ResNet Bottleneck Block S=2\" style=\"width: 80%;background:white\"/>"
   ]
  },
  {
   "cell_type": "markdown",
   "metadata": {},
   "source": [
    "### Bottleneck 模块结构图 (Stride = 1)\n",
    "\n",
    "注意点：\n",
    "* Bottleneck 的参数 F 代表的是传入的 Filter 大小，实际上整个模块输出的特征通道是 $4 \\cdot F$\n",
    "\n",
    "<img src=\"images/ResNet-Page-2.png\" alt=\"ResNet Bottleneck Block S=1\" style=\"width: 60%;background:white\"/>"
   ]
  },
  {
   "cell_type": "markdown",
   "metadata": {},
   "source": [
    "## 网络结构简图\n",
    "\n",
    "![](./images/15.jpg)"
   ]
  },
  {
   "cell_type": "markdown",
   "metadata": {},
   "source": [
    "## 完整网络结构\n",
    "\n",
    "![](./images/10.png)"
   ]
  },
  {
   "cell_type": "markdown",
   "metadata": {},
   "source": [
    "# 补充阅读\n",
    "\n",
    "论文地址\n",
    "\n",
    "https://arxiv.org/pdf/1512.03385.pdf"
   ]
  }
 ],
 "metadata": {
  "kernelspec": {
   "display_name": "Python 3",
   "language": "python",
   "name": "python3"
  },
  "language_info": {
   "codemirror_mode": {
    "name": "ipython",
    "version": 3
   },
   "file_extension": ".py",
   "mimetype": "text/x-python",
   "name": "python",
   "nbconvert_exporter": "python",
   "pygments_lexer": "ipython3",
   "version": "3.8.3"
  },
  "toc": {
   "base_numbering": 1,
   "nav_menu": {},
   "number_sections": true,
   "sideBar": true,
   "skip_h1_title": false,
   "title_cell": "Table of Contents",
   "title_sidebar": "Contents",
   "toc_cell": false,
   "toc_position": {
    "height": "calc(100% - 180px)",
    "left": "10px",
    "top": "150px",
    "width": "341.333px"
   },
   "toc_section_display": true,
   "toc_window_display": false
  }
 },
 "nbformat": 4,
 "nbformat_minor": 4
}
