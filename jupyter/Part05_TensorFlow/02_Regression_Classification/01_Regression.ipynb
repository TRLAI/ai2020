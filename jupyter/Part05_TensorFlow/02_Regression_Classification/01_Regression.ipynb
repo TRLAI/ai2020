{
 "cells": [
  {
   "cell_type": "markdown",
   "metadata": {},
   "source": [
    "# 搭建神经网络进行气温预测"
   ]
  },
  {
   "cell_type": "markdown",
   "metadata": {},
   "source": [
    "## 回归问题预测\n",
    "- Tensorflow2版本中将大量使用keras的简洁建模方法"
   ]
  },
  {
   "cell_type": "code",
   "execution_count": 1,
   "metadata": {},
   "outputs": [],
   "source": [
    "import numpy as np\n",
    "import pandas as pd\n",
    "import matplotlib.pyplot as plt\n",
    "import tensorflow as tf\n",
    "from tensorflow.keras import layers\n",
    "import tensorflow.keras\n",
    "import warnings\n",
    "warnings.filterwarnings(\"ignore\")\n",
    "%matplotlib inline"
   ]
  },
  {
   "cell_type": "code",
   "execution_count": 2,
   "metadata": {},
   "outputs": [
    {
     "data": {
      "text/html": [
       "<div>\n",
       "<style scoped>\n",
       "    .dataframe tbody tr th:only-of-type {\n",
       "        vertical-align: middle;\n",
       "    }\n",
       "\n",
       "    .dataframe tbody tr th {\n",
       "        vertical-align: top;\n",
       "    }\n",
       "\n",
       "    .dataframe thead th {\n",
       "        text-align: right;\n",
       "    }\n",
       "</style>\n",
       "<table border=\"1\" class=\"dataframe\">\n",
       "  <thead>\n",
       "    <tr style=\"text-align: right;\">\n",
       "      <th></th>\n",
       "      <th>year</th>\n",
       "      <th>month</th>\n",
       "      <th>day</th>\n",
       "      <th>week</th>\n",
       "      <th>temp_2</th>\n",
       "      <th>temp_1</th>\n",
       "      <th>average</th>\n",
       "      <th>actual</th>\n",
       "      <th>friend</th>\n",
       "    </tr>\n",
       "  </thead>\n",
       "  <tbody>\n",
       "    <tr>\n",
       "      <th>0</th>\n",
       "      <td>2016</td>\n",
       "      <td>1</td>\n",
       "      <td>1</td>\n",
       "      <td>Fri</td>\n",
       "      <td>45</td>\n",
       "      <td>45</td>\n",
       "      <td>45.6</td>\n",
       "      <td>45</td>\n",
       "      <td>29</td>\n",
       "    </tr>\n",
       "    <tr>\n",
       "      <th>1</th>\n",
       "      <td>2016</td>\n",
       "      <td>1</td>\n",
       "      <td>2</td>\n",
       "      <td>Sat</td>\n",
       "      <td>44</td>\n",
       "      <td>45</td>\n",
       "      <td>45.7</td>\n",
       "      <td>44</td>\n",
       "      <td>61</td>\n",
       "    </tr>\n",
       "    <tr>\n",
       "      <th>2</th>\n",
       "      <td>2016</td>\n",
       "      <td>1</td>\n",
       "      <td>3</td>\n",
       "      <td>Sun</td>\n",
       "      <td>45</td>\n",
       "      <td>44</td>\n",
       "      <td>45.8</td>\n",
       "      <td>41</td>\n",
       "      <td>56</td>\n",
       "    </tr>\n",
       "    <tr>\n",
       "      <th>3</th>\n",
       "      <td>2016</td>\n",
       "      <td>1</td>\n",
       "      <td>4</td>\n",
       "      <td>Mon</td>\n",
       "      <td>44</td>\n",
       "      <td>41</td>\n",
       "      <td>45.9</td>\n",
       "      <td>40</td>\n",
       "      <td>53</td>\n",
       "    </tr>\n",
       "    <tr>\n",
       "      <th>4</th>\n",
       "      <td>2016</td>\n",
       "      <td>1</td>\n",
       "      <td>5</td>\n",
       "      <td>Tues</td>\n",
       "      <td>41</td>\n",
       "      <td>40</td>\n",
       "      <td>46.0</td>\n",
       "      <td>44</td>\n",
       "      <td>41</td>\n",
       "    </tr>\n",
       "  </tbody>\n",
       "</table>\n",
       "</div>"
      ],
      "text/plain": [
       "   year  month  day  week  temp_2  temp_1  average  actual  friend\n",
       "0  2016      1    1   Fri      45      45     45.6      45      29\n",
       "1  2016      1    2   Sat      44      45     45.7      44      61\n",
       "2  2016      1    3   Sun      45      44     45.8      41      56\n",
       "3  2016      1    4   Mon      44      41     45.9      40      53\n",
       "4  2016      1    5  Tues      41      40     46.0      44      41"
      ]
     },
     "execution_count": 2,
     "metadata": {},
     "output_type": "execute_result"
    }
   ],
   "source": [
    "features = pd.read_csv('temps.csv')\n",
    "\n",
    "# 看看数据长什么样子\n",
    "features.head()"
   ]
  },
  {
   "cell_type": "markdown",
   "metadata": {},
   "source": [
    "### 数据表说明\n",
    "* year,moth,day,week分别表示的具体的时间\n",
    "* temp_2：前天的最高温度值\n",
    "* temp_1：昨天的最高温度值\n",
    "* average：在历史中，每年这一天的平均最高温度值\n",
    "* actual：这就是我们的标签值了，当天的真实最高温度\n",
    "* friend：这一列可能是凑热闹的，你的朋友猜测的可能值，咱们不管它就好了"
   ]
  },
  {
   "cell_type": "code",
   "execution_count": 3,
   "metadata": {},
   "outputs": [
    {
     "name": "stdout",
     "output_type": "stream",
     "text": [
      "数据维度: (348, 9)\n"
     ]
    }
   ],
   "source": [
    "print('数据维度:', features.shape)"
   ]
  },
  {
   "cell_type": "code",
   "execution_count": 4,
   "metadata": {},
   "outputs": [],
   "source": [
    "# 处理时间数据\n",
    "import datetime\n",
    "\n",
    "# 分别得到年，月，日\n",
    "years = features['year']\n",
    "months = features['month']\n",
    "days = features['day']\n",
    "\n",
    "# datetime格式\n",
    "dates = [str(int(year)) + '-' + str(int(month)) + '-' + str(int(day)) for year, month, day in zip(years, months, days)]\n",
    "dates = [datetime.datetime.strptime(date, '%Y-%m-%d') for date in dates]"
   ]
  },
  {
   "cell_type": "code",
   "execution_count": 5,
   "metadata": {},
   "outputs": [
    {
     "data": {
      "text/plain": [
       "[datetime.datetime(2016, 1, 1, 0, 0),\n",
       " datetime.datetime(2016, 1, 2, 0, 0),\n",
       " datetime.datetime(2016, 1, 3, 0, 0),\n",
       " datetime.datetime(2016, 1, 4, 0, 0),\n",
       " datetime.datetime(2016, 1, 5, 0, 0)]"
      ]
     },
     "execution_count": 5,
     "metadata": {},
     "output_type": "execute_result"
    }
   ],
   "source": [
    "dates[:5]"
   ]
  },
  {
   "cell_type": "code",
   "execution_count": 6,
   "metadata": {},
   "outputs": [
    {
     "data": {
      "image/png": "[encoded data removed]",
      "text/plain": [
       "<Figure size 720x720 with 4 Axes>"
      ]
     },
     "metadata": {},
     "output_type": "display_data"
    }
   ],
   "source": [
    "# 准备画图\n",
    "# 指定默认风格\n",
    "plt.style.use('fivethirtyeight')\n",
    "\n",
    "# 设置布局\n",
    "fig, ((ax1, ax2), (ax3, ax4)) = plt.subplots(nrows=2, ncols=2, figsize = (10,10))\n",
    "fig.autofmt_xdate(rotation = 45)\n",
    "\n",
    "# 标签值\n",
    "ax1.plot(dates, features['actual'])\n",
    "ax1.set_xlabel(''); ax1.set_ylabel('Temperature'); ax1.set_title('Max Temp')\n",
    "\n",
    "# 昨天\n",
    "ax2.plot(dates, features['temp_1'])\n",
    "ax2.set_xlabel(''); ax2.set_ylabel('Temperature'); ax2.set_title('Previous Max Temp')\n",
    "\n",
    "# 前天\n",
    "ax3.plot(dates, features['temp_2'])\n",
    "ax3.set_xlabel('Date'); ax3.set_ylabel('Temperature'); ax3.set_title('Two Days Prior Max Temp')\n",
    "\n",
    "# 我的朋友\n",
    "ax4.plot(dates, features['friend'])\n",
    "ax4.set_xlabel('Date'); ax4.set_ylabel('Temperature'); ax4.set_title('Friend Estimate')\n",
    "\n",
    "plt.tight_layout(pad=2)"
   ]
  },
  {
   "cell_type": "code",
   "execution_count": 7,
   "metadata": {},
   "outputs": [
    {
     "data": {
      "text/html": [
       "<div>\n",
       "<style scoped>\n",
       "    .dataframe tbody tr th:only-of-type {\n",
       "        vertical-align: middle;\n",
       "    }\n",
       "\n",
       "    .dataframe tbody tr th {\n",
       "        vertical-align: top;\n",
       "    }\n",
       "\n",
       "    .dataframe thead th {\n",
       "        text-align: right;\n",
       "    }\n",
       "</style>\n",
       "<table border=\"1\" class=\"dataframe\">\n",
       "  <thead>\n",
       "    <tr style=\"text-align: right;\">\n",
       "      <th></th>\n",
       "      <th>year</th>\n",
       "      <th>month</th>\n",
       "      <th>day</th>\n",
       "      <th>temp_2</th>\n",
       "      <th>temp_1</th>\n",
       "      <th>average</th>\n",
       "      <th>actual</th>\n",
       "      <th>friend</th>\n",
       "      <th>week_Fri</th>\n",
       "      <th>week_Mon</th>\n",
       "      <th>week_Sat</th>\n",
       "      <th>week_Sun</th>\n",
       "      <th>week_Thurs</th>\n",
       "      <th>week_Tues</th>\n",
       "      <th>week_Wed</th>\n",
       "    </tr>\n",
       "  </thead>\n",
       "  <tbody>\n",
       "    <tr>\n",
       "      <th>0</th>\n",
       "      <td>2016</td>\n",
       "      <td>1</td>\n",
       "      <td>1</td>\n",
       "      <td>45</td>\n",
       "      <td>45</td>\n",
       "      <td>45.6</td>\n",
       "      <td>45</td>\n",
       "      <td>29</td>\n",
       "      <td>1</td>\n",
       "      <td>0</td>\n",
       "      <td>0</td>\n",
       "      <td>0</td>\n",
       "      <td>0</td>\n",
       "      <td>0</td>\n",
       "      <td>0</td>\n",
       "    </tr>\n",
       "    <tr>\n",
       "      <th>1</th>\n",
       "      <td>2016</td>\n",
       "      <td>1</td>\n",
       "      <td>2</td>\n",
       "      <td>44</td>\n",
       "      <td>45</td>\n",
       "      <td>45.7</td>\n",
       "      <td>44</td>\n",
       "      <td>61</td>\n",
       "      <td>0</td>\n",
       "      <td>0</td>\n",
       "      <td>1</td>\n",
       "      <td>0</td>\n",
       "      <td>0</td>\n",
       "      <td>0</td>\n",
       "      <td>0</td>\n",
       "    </tr>\n",
       "    <tr>\n",
       "      <th>2</th>\n",
       "      <td>2016</td>\n",
       "      <td>1</td>\n",
       "      <td>3</td>\n",
       "      <td>45</td>\n",
       "      <td>44</td>\n",
       "      <td>45.8</td>\n",
       "      <td>41</td>\n",
       "      <td>56</td>\n",
       "      <td>0</td>\n",
       "      <td>0</td>\n",
       "      <td>0</td>\n",
       "      <td>1</td>\n",
       "      <td>0</td>\n",
       "      <td>0</td>\n",
       "      <td>0</td>\n",
       "    </tr>\n",
       "    <tr>\n",
       "      <th>3</th>\n",
       "      <td>2016</td>\n",
       "      <td>1</td>\n",
       "      <td>4</td>\n",
       "      <td>44</td>\n",
       "      <td>41</td>\n",
       "      <td>45.9</td>\n",
       "      <td>40</td>\n",
       "      <td>53</td>\n",
       "      <td>0</td>\n",
       "      <td>1</td>\n",
       "      <td>0</td>\n",
       "      <td>0</td>\n",
       "      <td>0</td>\n",
       "      <td>0</td>\n",
       "      <td>0</td>\n",
       "    </tr>\n",
       "    <tr>\n",
       "      <th>4</th>\n",
       "      <td>2016</td>\n",
       "      <td>1</td>\n",
       "      <td>5</td>\n",
       "      <td>41</td>\n",
       "      <td>40</td>\n",
       "      <td>46.0</td>\n",
       "      <td>44</td>\n",
       "      <td>41</td>\n",
       "      <td>0</td>\n",
       "      <td>0</td>\n",
       "      <td>0</td>\n",
       "      <td>0</td>\n",
       "      <td>0</td>\n",
       "      <td>1</td>\n",
       "      <td>0</td>\n",
       "    </tr>\n",
       "  </tbody>\n",
       "</table>\n",
       "</div>"
      ],
      "text/plain": [
       "   year  month  day  temp_2  temp_1  average  actual  friend  week_Fri  \\\n",
       "0  2016      1    1      45      45     45.6      45      29         1   \n",
       "1  2016      1    2      44      45     45.7      44      61         0   \n",
       "2  2016      1    3      45      44     45.8      41      56         0   \n",
       "3  2016      1    4      44      41     45.9      40      53         0   \n",
       "4  2016      1    5      41      40     46.0      44      41         0   \n",
       "\n",
       "   week_Mon  week_Sat  week_Sun  week_Thurs  week_Tues  week_Wed  \n",
       "0         0         0         0           0          0         0  \n",
       "1         0         1         0           0          0         0  \n",
       "2         0         0         1           0          0         0  \n",
       "3         1         0         0           0          0         0  \n",
       "4         0         0         0           0          1         0  "
      ]
     },
     "execution_count": 7,
     "metadata": {},
     "output_type": "execute_result"
    }
   ],
   "source": [
    "# 独热编码\n",
    "features = pd.get_dummies(features)\n",
    "features.head(5)"
   ]
  },
  {
   "cell_type": "code",
   "execution_count": 8,
   "metadata": {},
   "outputs": [],
   "source": [
    "# 标签\n",
    "labels = np.array(features['actual'])\n",
    "\n",
    "# 在特征中去掉标签\n",
    "features= features.drop('actual', axis = 1)\n",
    "\n",
    "# 名字单独保存一下，以备后患\n",
    "feature_list = list(features.columns)\n",
    "\n",
    "# 转换成合适的格式\n",
    "features = np.array(features)"
   ]
  },
  {
   "cell_type": "code",
   "execution_count": 9,
   "metadata": {},
   "outputs": [
    {
     "data": {
      "text/plain": [
       "(348, 14)"
      ]
     },
     "execution_count": 9,
     "metadata": {},
     "output_type": "execute_result"
    }
   ],
   "source": [
    "features.shape"
   ]
  },
  {
   "cell_type": "code",
   "execution_count": 10,
   "metadata": {},
   "outputs": [],
   "source": [
    "from sklearn import preprocessing\n",
    "input_features = preprocessing.StandardScaler().fit_transform(features)"
   ]
  },
  {
   "cell_type": "code",
   "execution_count": 11,
   "metadata": {},
   "outputs": [
    {
     "data": {
      "text/plain": [
       "array([ 0.        , -1.5678393 , -1.65682171, -1.48452388, -1.49443549,\n",
       "       -1.3470703 , -1.98891668,  2.44131112, -0.40482045, -0.40961596,\n",
       "       -0.40482045, -0.40482045, -0.41913682, -0.40482045])"
      ]
     },
     "execution_count": 11,
     "metadata": {},
     "output_type": "execute_result"
    }
   ],
   "source": [
    "input_features[0]"
   ]
  },
  {
   "cell_type": "markdown",
   "metadata": {},
   "source": [
    "## 基于Keras构建网络模型\n",
    "\n",
    "一些常用参数已经列出，如下所示："
   ]
  },
  {
   "cell_type": "markdown",
   "metadata": {},
   "source": [
    "- activation：激活函数的选择，一般常用relu\n",
    "- kernel_initializer,bias_initializer：权重与偏置参数的初始化方法，有时候不收敛换种初始化就突然好使了。。。玄学\n",
    "- kernel_regularizer，bias_regularizer：要不要加入正则化，\n",
    "- inputs：输入，可以自己指定，也可以让网络自动选\n",
    "- units：神经元个数"
   ]
  },
  {
   "cell_type": "markdown",
   "metadata": {},
   "source": [
    "### 按顺序构造网络模型"
   ]
  },
  {
   "cell_type": "code",
   "execution_count": 12,
   "metadata": {},
   "outputs": [],
   "source": [
    "model = tf.keras.Sequential()\n",
    "model.add(layers.Dense(16))\n",
    "model.add(layers.Dense(32))\n",
    "model.add(layers.Dense(1))"
   ]
  },
  {
   "cell_type": "markdown",
   "metadata": {},
   "source": [
    "### compile相当于对网络进行配置，指定好优化器和损失函数等"
   ]
  },
  {
   "cell_type": "code",
   "execution_count": 13,
   "metadata": {},
   "outputs": [],
   "source": [
    "model.compile(optimizer=tf.keras.optimizers.SGD(0.001),\n",
    "             loss='mean_squared_error')"
   ]
  },
  {
   "cell_type": "code",
   "execution_count": 14,
   "metadata": {},
   "outputs": [
    {
     "name": "stdout",
     "output_type": "stream",
     "text": [
      "Epoch 1/10\n",
      "5/5 [==============================] - 0s 24ms/step - loss: 4250.7407 - val_loss: 3190.7722\n",
      "Epoch 2/10\n",
      "5/5 [==============================] - 0s 7ms/step - loss: 1949.6639 - val_loss: 3769.4749\n",
      "Epoch 3/10\n",
      "5/5 [==============================] - 0s 3ms/step - loss: 133.0157 - val_loss: 2237.9556\n",
      "Epoch 4/10\n",
      "5/5 [==============================] - 0s 3ms/step - loss: 151.8830 - val_loss: 1745.0427\n",
      "Epoch 5/10\n",
      "5/5 [==============================] - 0s 4ms/step - loss: 72.6130 - val_loss: 1196.3461\n",
      "Epoch 6/10\n",
      "5/5 [==============================] - 0s 3ms/step - loss: 63.2490 - val_loss: 886.8547\n",
      "Epoch 7/10\n",
      "5/5 [==============================] - 0s 3ms/step - loss: 47.1692 - val_loss: 880.7474\n",
      "Epoch 8/10\n",
      "5/5 [==============================] - 0s 3ms/step - loss: 70.7081 - val_loss: 597.1439\n",
      "Epoch 9/10\n",
      "5/5 [==============================] - 0s 3ms/step - loss: 46.4062 - val_loss: 634.3498\n",
      "Epoch 10/10\n",
      "5/5 [==============================] - 0s 3ms/step - loss: 59.1993 - val_loss: 499.8946\n"
     ]
    },
    {
     "data": {
      "text/plain": [
       "<tensorflow.python.keras.callbacks.History at 0x2a1bc67bd30>"
      ]
     },
     "execution_count": 14,
     "metadata": {},
     "output_type": "execute_result"
    }
   ],
   "source": [
    "model.fit(input_features, labels, validation_split=0.25, epochs=10, batch_size=64)"
   ]
  },
  {
   "cell_type": "code",
   "execution_count": 15,
   "metadata": {},
   "outputs": [
    {
     "data": {
      "text/plain": [
       "(348, 14)"
      ]
     },
     "execution_count": 15,
     "metadata": {},
     "output_type": "execute_result"
    }
   ],
   "source": [
    "input_features.shape"
   ]
  },
  {
   "cell_type": "markdown",
   "metadata": {},
   "source": [
    "### 似乎存在一些问题，模型还没有完全收敛，能不能调些参数呢"
   ]
  },
  {
   "cell_type": "code",
   "execution_count": 16,
   "metadata": {},
   "outputs": [
    {
     "name": "stdout",
     "output_type": "stream",
     "text": [
      "Model: \"sequential\"\n",
      "_________________________________________________________________\n",
      "Layer (type)                 Output Shape              Param #   \n",
      "=================================================================\n",
      "dense (Dense)                (None, 16)                240       \n",
      "_________________________________________________________________\n",
      "dense_1 (Dense)              (None, 32)                544       \n",
      "_________________________________________________________________\n",
      "dense_2 (Dense)              (None, 1)                 33        \n",
      "=================================================================\n",
      "Total params: 817\n",
      "Trainable params: 817\n",
      "Non-trainable params: 0\n",
      "_________________________________________________________________\n"
     ]
    }
   ],
   "source": [
    "model.summary()"
   ]
  },
  {
   "cell_type": "markdown",
   "metadata": {},
   "source": [
    "## 更改初始化方法后"
   ]
  },
  {
   "cell_type": "code",
   "execution_count": 17,
   "metadata": {},
   "outputs": [],
   "source": [
    "model = tf.keras.Sequential()\n",
    "model.add(layers.Dense(16,kernel_initializer='random_normal'))\n",
    "model.add(layers.Dense(32,kernel_initializer='random_normal'))\n",
    "model.add(layers.Dense(1,kernel_initializer='random_normal'))"
   ]
  },
  {
   "cell_type": "code",
   "execution_count": 18,
   "metadata": {},
   "outputs": [
    {
     "name": "stdout",
     "output_type": "stream",
     "text": [
      "Epoch 1/100\n",
      "5/5 [==============================] - 0s 18ms/step - loss: 4389.2275 - val_loss: 2868.7166\n",
      "Epoch 2/100\n",
      "5/5 [==============================] - 0s 3ms/step - loss: 4288.4639 - val_loss: 2780.1021\n",
      "Epoch 3/100\n",
      "5/5 [==============================] - 0s 3ms/step - loss: 4150.6606 - val_loss: 2648.6716\n",
      "Epoch 4/100\n",
      "5/5 [==============================] - 0s 3ms/step - loss: 3784.9058 - val_loss: 2475.6768\n",
      "Epoch 5/100\n",
      "5/5 [==============================] - 0s 3ms/step - loss: 1418.9622 - val_loss: 2320.0420\n",
      "Epoch 6/100\n",
      "5/5 [==============================] - 0s 4ms/step - loss: 85.3802 - val_loss: 1637.6143\n",
      "Epoch 7/100\n",
      "5/5 [==============================] - 0s 3ms/step - loss: 62.1261 - val_loss: 1254.9003\n",
      "Epoch 8/100\n",
      "5/5 [==============================] - 0s 3ms/step - loss: 48.4438 - val_loss: 907.7795\n",
      "Epoch 9/100\n",
      "5/5 [==============================] - 0s 3ms/step - loss: 38.9194 - val_loss: 824.5661\n",
      "Epoch 10/100\n",
      "5/5 [==============================] - 0s 3ms/step - loss: 75.1072 - val_loss: 573.7496\n",
      "Epoch 11/100\n",
      "5/5 [==============================] - 0s 4ms/step - loss: 42.3503 - val_loss: 462.8839\n",
      "Epoch 12/100\n",
      "5/5 [==============================] - 0s 3ms/step - loss: 35.6837 - val_loss: 378.8432\n",
      "Epoch 13/100\n",
      "5/5 [==============================] - 0s 3ms/step - loss: 31.8657 - val_loss: 392.5022\n",
      "Epoch 14/100\n",
      "5/5 [==============================] - 0s 3ms/step - loss: 43.1033 - val_loss: 348.8884\n",
      "Epoch 15/100\n",
      "5/5 [==============================] - 0s 3ms/step - loss: 28.8721 - val_loss: 249.1881\n",
      "Epoch 16/100\n",
      "5/5 [==============================] - 0s 3ms/step - loss: 36.7868 - val_loss: 306.4256\n",
      "Epoch 17/100\n",
      "5/5 [==============================] - 0s 3ms/step - loss: 35.5345 - val_loss: 251.4272\n",
      "Epoch 18/100\n",
      "5/5 [==============================] - 0s 3ms/step - loss: 32.7827 - val_loss: 237.2076\n",
      "Epoch 19/100\n",
      "5/5 [==============================] - 0s 3ms/step - loss: 54.3401 - val_loss: 158.6803\n",
      "Epoch 20/100\n",
      "5/5 [==============================] - 0s 3ms/step - loss: 28.0441 - val_loss: 139.8556\n",
      "Epoch 21/100\n",
      "5/5 [==============================] - 0s 3ms/step - loss: 25.9278 - val_loss: 89.9999\n",
      "Epoch 22/100\n",
      "5/5 [==============================] - 0s 3ms/step - loss: 25.8326 - val_loss: 107.7194\n",
      "Epoch 23/100\n",
      "5/5 [==============================] - 0s 3ms/step - loss: 25.9410 - val_loss: 101.9975\n",
      "Epoch 24/100\n",
      "5/5 [==============================] - 0s 3ms/step - loss: 32.4433 - val_loss: 127.3838\n",
      "Epoch 25/100\n",
      "5/5 [==============================] - 0s 3ms/step - loss: 32.3410 - val_loss: 91.5364\n",
      "Epoch 26/100\n",
      "5/5 [==============================] - 0s 3ms/step - loss: 36.0728 - val_loss: 93.2341\n",
      "Epoch 27/100\n",
      "5/5 [==============================] - 0s 4ms/step - loss: 56.5013 - val_loss: 168.6171\n",
      "Epoch 28/100\n",
      "5/5 [==============================] - 0s 4ms/step - loss: 65.5192 - val_loss: 79.2262\n",
      "Epoch 29/100\n",
      "5/5 [==============================] - 0s 3ms/step - loss: 25.8063 - val_loss: 83.6447\n",
      "Epoch 30/100\n",
      "5/5 [==============================] - 0s 4ms/step - loss: 28.2276 - val_loss: 45.1366\n",
      "Epoch 31/100\n",
      "5/5 [==============================] - 0s 4ms/step - loss: 37.5997 - val_loss: 58.3567\n",
      "Epoch 32/100\n",
      "5/5 [==============================] - 0s 3ms/step - loss: 29.1976 - val_loss: 57.5754\n",
      "Epoch 33/100\n",
      "5/5 [==============================] - ETA: 0s - loss: 67.33 - 0s 3ms/step - loss: 37.6587 - val_loss: 31.4729\n",
      "Epoch 34/100\n",
      "5/5 [==============================] - 0s 3ms/step - loss: 28.9133 - val_loss: 30.7464\n",
      "Epoch 35/100\n",
      "5/5 [==============================] - 0s 3ms/step - loss: 46.0823 - val_loss: 64.7230\n",
      "Epoch 36/100\n",
      "5/5 [==============================] - 0s 4ms/step - loss: 92.5339 - val_loss: 30.8528\n",
      "Epoch 37/100\n",
      "5/5 [==============================] - 0s 3ms/step - loss: 24.7892 - val_loss: 53.6606\n",
      "Epoch 38/100\n",
      "5/5 [==============================] - 0s 4ms/step - loss: 38.5429 - val_loss: 30.7578\n",
      "Epoch 39/100\n",
      "5/5 [==============================] - 0s 3ms/step - loss: 31.5868 - val_loss: 34.9167\n",
      "Epoch 40/100\n",
      "5/5 [==============================] - 0s 3ms/step - loss: 32.8074 - val_loss: 36.3813\n",
      "Epoch 41/100\n",
      "5/5 [==============================] - 0s 4ms/step - loss: 29.0988 - val_loss: 30.8600\n",
      "Epoch 42/100\n",
      "5/5 [==============================] - 0s 3ms/step - loss: 28.4093 - val_loss: 20.6041\n",
      "Epoch 43/100\n",
      "5/5 [==============================] - 0s 3ms/step - loss: 27.5854 - val_loss: 44.1732\n",
      "Epoch 44/100\n",
      "5/5 [==============================] - 0s 3ms/step - loss: 29.4908 - val_loss: 30.7511\n",
      "Epoch 45/100\n",
      "5/5 [==============================] - 0s 3ms/step - loss: 26.2840 - val_loss: 58.1802\n",
      "Epoch 46/100\n",
      "5/5 [==============================] - 0s 3ms/step - loss: 39.2236 - val_loss: 34.2490\n",
      "Epoch 47/100\n",
      "5/5 [==============================] - 0s 3ms/step - loss: 29.1007 - val_loss: 25.1148\n",
      "Epoch 48/100\n",
      "5/5 [==============================] - 0s 3ms/step - loss: 27.0574 - val_loss: 25.4893\n",
      "Epoch 49/100\n",
      "5/5 [==============================] - 0s 3ms/step - loss: 30.7252 - val_loss: 35.9459\n",
      "Epoch 50/100\n",
      "5/5 [==============================] - 0s 4ms/step - loss: 35.6121 - val_loss: 33.8810\n",
      "Epoch 51/100\n",
      "5/5 [==============================] - 0s 4ms/step - loss: 29.7478 - val_loss: 19.9722\n",
      "Epoch 52/100\n",
      "5/5 [==============================] - 0s 3ms/step - loss: 32.1440 - val_loss: 41.6000\n",
      "Epoch 53/100\n",
      "5/5 [==============================] - 0s 4ms/step - loss: 30.0009 - val_loss: 28.6484\n",
      "Epoch 54/100\n",
      "5/5 [==============================] - 0s 4ms/step - loss: 36.5738 - val_loss: 23.1848\n",
      "Epoch 55/100\n",
      "5/5 [==============================] - 0s 3ms/step - loss: 26.2725 - val_loss: 25.3869\n",
      "Epoch 56/100\n",
      "5/5 [==============================] - 0s 3ms/step - loss: 30.6193 - val_loss: 30.4476\n",
      "Epoch 57/100\n",
      "5/5 [==============================] - 0s 4ms/step - loss: 25.2896 - val_loss: 24.7872\n",
      "Epoch 58/100\n",
      "5/5 [==============================] - 0s 3ms/step - loss: 27.5086 - val_loss: 29.7868\n",
      "Epoch 59/100\n",
      "5/5 [==============================] - 0s 3ms/step - loss: 30.8028 - val_loss: 20.7991\n",
      "Epoch 60/100\n",
      "5/5 [==============================] - 0s 3ms/step - loss: 23.9930 - val_loss: 44.1682\n",
      "Epoch 61/100\n",
      "5/5 [==============================] - 0s 3ms/step - loss: 37.2894 - val_loss: 24.9741\n",
      "Epoch 62/100\n",
      "5/5 [==============================] - 0s 3ms/step - loss: 28.0741 - val_loss: 29.2095\n",
      "Epoch 63/100\n",
      "5/5 [==============================] - 0s 3ms/step - loss: 26.9099 - val_loss: 29.8037\n",
      "Epoch 64/100\n",
      "5/5 [==============================] - 0s 3ms/step - loss: 37.9538 - val_loss: 34.7048\n",
      "Epoch 65/100\n",
      "5/5 [==============================] - 0s 4ms/step - loss: 25.3478 - val_loss: 23.2448\n",
      "Epoch 66/100\n",
      "5/5 [==============================] - 0s 3ms/step - loss: 30.2424 - val_loss: 36.3695\n",
      "Epoch 67/100\n",
      "5/5 [==============================] - 0s 4ms/step - loss: 39.8862 - val_loss: 21.4579\n",
      "Epoch 68/100\n",
      "5/5 [==============================] - 0s 4ms/step - loss: 24.4919 - val_loss: 25.0231\n",
      "Epoch 69/100\n",
      "5/5 [==============================] - 0s 4ms/step - loss: 27.5474 - val_loss: 22.7960\n",
      "Epoch 70/100\n",
      "5/5 [==============================] - 0s 3ms/step - loss: 26.0433 - val_loss: 20.5737\n",
      "Epoch 71/100\n",
      "5/5 [==============================] - 0s 3ms/step - loss: 41.3580 - val_loss: 33.1296\n",
      "Epoch 72/100\n",
      "5/5 [==============================] - 0s 3ms/step - loss: 32.9776 - val_loss: 32.6057\n",
      "Epoch 73/100\n",
      "5/5 [==============================] - 0s 3ms/step - loss: 25.6243 - val_loss: 17.7236\n",
      "Epoch 74/100\n",
      "5/5 [==============================] - 0s 3ms/step - loss: 26.1835 - val_loss: 25.0585\n",
      "Epoch 75/100\n",
      "5/5 [==============================] - 0s 3ms/step - loss: 32.2764 - val_loss: 28.2966\n",
      "Epoch 76/100\n",
      "5/5 [==============================] - 0s 3ms/step - loss: 45.0372 - val_loss: 20.3067\n",
      "Epoch 77/100\n",
      "5/5 [==============================] - 0s 3ms/step - loss: 25.5614 - val_loss: 21.3777\n",
      "Epoch 78/100\n",
      "5/5 [==============================] - 0s 3ms/step - loss: 27.9883 - val_loss: 19.5489\n",
      "Epoch 79/100\n",
      "5/5 [==============================] - 0s 3ms/step - loss: 34.0809 - val_loss: 50.3155\n",
      "Epoch 80/100\n",
      "5/5 [==============================] - 0s 3ms/step - loss: 49.6468 - val_loss: 17.4539\n",
      "Epoch 81/100\n",
      "5/5 [==============================] - 0s 3ms/step - loss: 32.5487 - val_loss: 22.6383\n",
      "Epoch 82/100\n",
      "5/5 [==============================] - 0s 4ms/step - loss: 30.0841 - val_loss: 20.3543\n",
      "Epoch 83/100\n",
      "5/5 [==============================] - ETA: 0s - loss: 21.99 - 0s 3ms/step - loss: 25.1731 - val_loss: 35.7049\n",
      "Epoch 84/100\n",
      "5/5 [==============================] - 0s 3ms/step - loss: 29.4555 - val_loss: 24.0990\n",
      "Epoch 85/100\n",
      "5/5 [==============================] - 0s 3ms/step - loss: 29.2845 - val_loss: 27.5571\n",
      "Epoch 86/100\n",
      "5/5 [==============================] - 0s 3ms/step - loss: 30.1991 - val_loss: 28.8628\n",
      "Epoch 87/100\n",
      "5/5 [==============================] - 0s 3ms/step - loss: 31.1447 - val_loss: 43.8182\n",
      "Epoch 88/100\n",
      "5/5 [==============================] - 0s 3ms/step - loss: 30.9825 - val_loss: 18.3639\n",
      "Epoch 89/100\n",
      "5/5 [==============================] - 0s 3ms/step - loss: 32.8141 - val_loss: 25.4230\n",
      "Epoch 90/100\n",
      "5/5 [==============================] - 0s 3ms/step - loss: 38.4581 - val_loss: 17.8529\n",
      "Epoch 91/100\n",
      "5/5 [==============================] - 0s 4ms/step - loss: 28.1015 - val_loss: 31.0204\n",
      "Epoch 92/100\n",
      "5/5 [==============================] - 0s 3ms/step - loss: 29.4904 - val_loss: 23.7590\n",
      "Epoch 93/100\n",
      "5/5 [==============================] - 0s 3ms/step - loss: 27.1520 - val_loss: 19.4891\n",
      "Epoch 94/100\n",
      "5/5 [==============================] - 0s 3ms/step - loss: 26.6937 - val_loss: 28.5671\n",
      "Epoch 95/100\n",
      "5/5 [==============================] - 0s 4ms/step - loss: 59.8883 - val_loss: 26.5790\n",
      "Epoch 96/100\n",
      "5/5 [==============================] - 0s 3ms/step - loss: 28.5916 - val_loss: 18.8897\n",
      "Epoch 97/100\n",
      "5/5 [==============================] - 0s 3ms/step - loss: 24.1331 - val_loss: 19.6187\n",
      "Epoch 98/100\n",
      "5/5 [==============================] - 0s 4ms/step - loss: 28.1640 - val_loss: 24.2486\n",
      "Epoch 99/100\n",
      "5/5 [==============================] - 0s 3ms/step - loss: 30.7345 - val_loss: 18.7133\n",
      "Epoch 100/100\n",
      "5/5 [==============================] - 0s 3ms/step - loss: 27.6169 - val_loss: 42.4853\n"
     ]
    },
    {
     "data": {
      "text/plain": [
       "<tensorflow.python.keras.callbacks.History at 0x2a1c41fa4f0>"
      ]
     },
     "execution_count": 18,
     "metadata": {},
     "output_type": "execute_result"
    }
   ],
   "source": [
    "model.compile(optimizer=tf.keras.optimizers.SGD(0.001),\n",
    "             loss='mean_squared_error')\n",
    "model.fit(input_features, labels, validation_split=0.25, epochs=100, batch_size=64)"
   ]
  },
  {
   "cell_type": "markdown",
   "metadata": {},
   "source": [
    "## 加入正则化惩罚项"
   ]
  },
  {
   "cell_type": "code",
   "execution_count": 19,
   "metadata": {},
   "outputs": [
    {
     "name": "stdout",
     "output_type": "stream",
     "text": [
      "Epoch 1/100\n",
      "5/5 [==============================] - 0s 21ms/step - loss: 4390.3818 - val_loss: 2870.9739\n",
      "Epoch 2/100\n",
      "5/5 [==============================] - 0s 3ms/step - loss: 4295.6743 - val_loss: 2788.5601\n",
      "Epoch 3/100\n",
      "5/5 [==============================] - 0s 3ms/step - loss: 4177.5166 - val_loss: 2678.1348\n",
      "Epoch 4/100\n",
      "5/5 [==============================] - 0s 3ms/step - loss: 3960.3782 - val_loss: 2484.9258\n",
      "Epoch 5/100\n",
      "5/5 [==============================] - 0s 3ms/step - loss: 2944.1274 - val_loss: 3631.2563\n",
      "Epoch 6/100\n",
      "5/5 [==============================] - 0s 3ms/step - loss: 249.0989 - val_loss: 1581.5094\n",
      "Epoch 7/100\n",
      "5/5 [==============================] - 0s 3ms/step - loss: 69.9898 - val_loss: 1314.5250\n",
      "Epoch 8/100\n",
      "5/5 [==============================] - 0s 3ms/step - loss: 65.2161 - val_loss: 1018.7784\n",
      "Epoch 9/100\n",
      "5/5 [==============================] - 0s 8ms/step - loss: 58.6896 - val_loss: 860.9908\n",
      "Epoch 10/100\n",
      "5/5 [==============================] - 0s 3ms/step - loss: 42.4353 - val_loss: 770.3229\n",
      "Epoch 11/100\n",
      "5/5 [==============================] - 0s 3ms/step - loss: 45.1667 - val_loss: 594.3721\n",
      "Epoch 12/100\n",
      "5/5 [==============================] - 0s 4ms/step - loss: 54.0406 - val_loss: 412.6564\n",
      "Epoch 13/100\n",
      "5/5 [==============================] - 0s 3ms/step - loss: 38.2791 - val_loss: 332.3522\n",
      "Epoch 14/100\n",
      "5/5 [==============================] - 0s 3ms/step - loss: 42.9138 - val_loss: 284.7815\n",
      "Epoch 15/100\n",
      "5/5 [==============================] - 0s 3ms/step - loss: 38.9511 - val_loss: 200.4330\n",
      "Epoch 16/100\n",
      "5/5 [==============================] - 0s 3ms/step - loss: 41.1518 - val_loss: 224.3539\n",
      "Epoch 17/100\n",
      "5/5 [==============================] - 0s 4ms/step - loss: 31.6241 - val_loss: 199.0509\n",
      "Epoch 18/100\n",
      "5/5 [==============================] - 0s 3ms/step - loss: 31.2264 - val_loss: 167.4324\n",
      "Epoch 19/100\n",
      "5/5 [==============================] - 0s 3ms/step - loss: 36.6693 - val_loss: 133.2774\n",
      "Epoch 20/100\n",
      "5/5 [==============================] - 0s 3ms/step - loss: 31.8935 - val_loss: 155.8993\n",
      "Epoch 21/100\n",
      "5/5 [==============================] - 0s 3ms/step - loss: 29.6313 - val_loss: 93.5629\n",
      "Epoch 22/100\n",
      "5/5 [==============================] - 0s 3ms/step - loss: 30.7419 - val_loss: 121.0970\n",
      "Epoch 23/100\n",
      "5/5 [==============================] - 0s 3ms/step - loss: 30.9611 - val_loss: 65.3292\n",
      "Epoch 24/100\n",
      "5/5 [==============================] - 0s 3ms/step - loss: 41.6266 - val_loss: 178.3526\n",
      "Epoch 25/100\n",
      "5/5 [==============================] - 0s 4ms/step - loss: 88.7383 - val_loss: 106.5454\n",
      "Epoch 26/100\n",
      "5/5 [==============================] - 0s 3ms/step - loss: 29.1961 - val_loss: 81.7656\n",
      "Epoch 27/100\n",
      "5/5 [==============================] - 0s 4ms/step - loss: 41.5887 - val_loss: 35.8083\n",
      "Epoch 28/100\n",
      "5/5 [==============================] - 0s 3ms/step - loss: 35.2784 - val_loss: 73.5280\n",
      "Epoch 29/100\n",
      "5/5 [==============================] - 0s 3ms/step - loss: 36.1252 - val_loss: 29.3999\n",
      "Epoch 30/100\n",
      "5/5 [==============================] - 0s 3ms/step - loss: 29.1797 - val_loss: 33.4390\n",
      "Epoch 31/100\n",
      "5/5 [==============================] - 0s 3ms/step - loss: 25.4167 - val_loss: 30.3630\n",
      "Epoch 32/100\n",
      "5/5 [==============================] - 0s 3ms/step - loss: 38.8982 - val_loss: 43.9582\n",
      "Epoch 33/100\n",
      "5/5 [==============================] - 0s 3ms/step - loss: 30.4262 - val_loss: 33.5676\n",
      "Epoch 34/100\n",
      "5/5 [==============================] - 0s 3ms/step - loss: 24.6207 - val_loss: 34.9629\n",
      "Epoch 35/100\n",
      "5/5 [==============================] - 0s 3ms/step - loss: 28.6779 - val_loss: 37.7629\n",
      "Epoch 36/100\n",
      "5/5 [==============================] - 0s 3ms/step - loss: 30.4322 - val_loss: 55.0848\n",
      "Epoch 37/100\n",
      "5/5 [==============================] - 0s 3ms/step - loss: 35.6608 - val_loss: 28.2493\n",
      "Epoch 38/100\n",
      "5/5 [==============================] - 0s 3ms/step - loss: 26.2593 - val_loss: 26.0441\n",
      "Epoch 39/100\n",
      "5/5 [==============================] - ETA: 0s - loss: 24.88 - 0s 3ms/step - loss: 25.9097 - val_loss: 30.0357\n",
      "Epoch 40/100\n",
      "5/5 [==============================] - 0s 3ms/step - loss: 35.7853 - val_loss: 41.6375\n",
      "Epoch 41/100\n",
      "5/5 [==============================] - 0s 3ms/step - loss: 31.2982 - val_loss: 19.6983\n",
      "Epoch 42/100\n",
      "5/5 [==============================] - 0s 3ms/step - loss: 30.6215 - val_loss: 69.7425\n",
      "Epoch 43/100\n",
      "5/5 [==============================] - 0s 3ms/step - loss: 70.9647 - val_loss: 21.5670\n",
      "Epoch 44/100\n",
      "5/5 [==============================] - 0s 3ms/step - loss: 24.8639 - val_loss: 32.5819\n",
      "Epoch 45/100\n",
      "5/5 [==============================] - 0s 3ms/step - loss: 32.3786 - val_loss: 64.8582\n",
      "Epoch 46/100\n",
      "5/5 [==============================] - 0s 3ms/step - loss: 102.9182 - val_loss: 35.0224\n",
      "Epoch 47/100\n",
      "5/5 [==============================] - 0s 3ms/step - loss: 27.6974 - val_loss: 34.1253\n",
      "Epoch 48/100\n",
      "5/5 [==============================] - 0s 3ms/step - loss: 26.9906 - val_loss: 49.2947\n",
      "Epoch 49/100\n",
      "5/5 [==============================] - 0s 7ms/step - loss: 43.7688 - val_loss: 23.6668\n",
      "Epoch 50/100\n",
      "5/5 [==============================] - 0s 3ms/step - loss: 28.1906 - val_loss: 32.1742\n",
      "Epoch 51/100\n",
      "5/5 [==============================] - 0s 3ms/step - loss: 40.4919 - val_loss: 25.9306\n",
      "Epoch 52/100\n",
      "5/5 [==============================] - 0s 3ms/step - loss: 31.0982 - val_loss: 30.6425\n",
      "Epoch 53/100\n",
      "5/5 [==============================] - 0s 3ms/step - loss: 37.1179 - val_loss: 40.2486\n",
      "Epoch 54/100\n",
      "5/5 [==============================] - 0s 3ms/step - loss: 66.5622 - val_loss: 26.4117\n",
      "Epoch 55/100\n",
      "5/5 [==============================] - 0s 3ms/step - loss: 25.5552 - val_loss: 22.2100\n",
      "Epoch 56/100\n",
      "5/5 [==============================] - 0s 3ms/step - loss: 25.3176 - val_loss: 30.4523\n",
      "Epoch 57/100\n",
      "5/5 [==============================] - 0s 3ms/step - loss: 38.2864 - val_loss: 30.2596\n",
      "Epoch 58/100\n",
      "5/5 [==============================] - 0s 3ms/step - loss: 30.0447 - val_loss: 45.7249\n",
      "Epoch 59/100\n",
      "5/5 [==============================] - 0s 4ms/step - loss: 38.3516 - val_loss: 41.5056\n",
      "Epoch 60/100\n",
      "5/5 [==============================] - 0s 3ms/step - loss: 33.7175 - val_loss: 36.8246\n",
      "Epoch 61/100\n",
      "5/5 [==============================] - 0s 3ms/step - loss: 36.3976 - val_loss: 26.0577\n",
      "Epoch 62/100\n",
      "5/5 [==============================] - 0s 3ms/step - loss: 54.5340 - val_loss: 45.9445\n",
      "Epoch 63/100\n",
      "5/5 [==============================] - 0s 3ms/step - loss: 41.5510 - val_loss: 31.8539\n",
      "Epoch 64/100\n",
      "5/5 [==============================] - 0s 3ms/step - loss: 48.0950 - val_loss: 41.5579\n",
      "Epoch 65/100\n",
      "5/5 [==============================] - 0s 3ms/step - loss: 29.9686 - val_loss: 29.4127\n",
      "Epoch 66/100\n",
      "5/5 [==============================] - 0s 3ms/step - loss: 39.0320 - val_loss: 20.7547\n",
      "Epoch 67/100\n",
      "5/5 [==============================] - 0s 3ms/step - loss: 26.4579 - val_loss: 22.8643\n",
      "Epoch 68/100\n",
      "5/5 [==============================] - 0s 3ms/step - loss: 27.1460 - val_loss: 21.1309\n",
      "Epoch 69/100\n",
      "5/5 [==============================] - 0s 3ms/step - loss: 32.4989 - val_loss: 29.1730\n",
      "Epoch 70/100\n",
      "5/5 [==============================] - 0s 3ms/step - loss: 25.2248 - val_loss: 47.3711\n",
      "Epoch 71/100\n",
      "5/5 [==============================] - 0s 3ms/step - loss: 67.7378 - val_loss: 51.1092\n",
      "Epoch 72/100\n",
      "5/5 [==============================] - 0s 3ms/step - loss: 29.1784 - val_loss: 44.9649\n",
      "Epoch 73/100\n",
      "5/5 [==============================] - 0s 3ms/step - loss: 28.6067 - val_loss: 51.0454\n",
      "Epoch 74/100\n",
      "5/5 [==============================] - 0s 3ms/step - loss: 33.7222 - val_loss: 48.2323\n",
      "Epoch 75/100\n",
      "5/5 [==============================] - 0s 3ms/step - loss: 54.3730 - val_loss: 32.8955\n",
      "Epoch 76/100\n",
      "5/5 [==============================] - 0s 3ms/step - loss: 35.2029 - val_loss: 25.8267\n",
      "Epoch 77/100\n",
      "5/5 [==============================] - 0s 3ms/step - loss: 31.2629 - val_loss: 23.0410\n",
      "Epoch 78/100\n",
      "5/5 [==============================] - 0s 3ms/step - loss: 31.3388 - val_loss: 22.2291\n",
      "Epoch 79/100\n",
      "5/5 [==============================] - 0s 3ms/step - loss: 24.5902 - val_loss: 40.3355\n",
      "Epoch 80/100\n",
      "5/5 [==============================] - 0s 3ms/step - loss: 35.6320 - val_loss: 19.7261\n",
      "Epoch 81/100\n",
      "5/5 [==============================] - 0s 3ms/step - loss: 25.6833 - val_loss: 21.6469\n",
      "Epoch 82/100\n",
      "5/5 [==============================] - 0s 3ms/step - loss: 27.2536 - val_loss: 18.9300\n",
      "Epoch 83/100\n",
      "5/5 [==============================] - 0s 3ms/step - loss: 32.3854 - val_loss: 25.3683\n",
      "Epoch 84/100\n",
      "5/5 [==============================] - 0s 3ms/step - loss: 25.9449 - val_loss: 26.8685\n",
      "Epoch 85/100\n",
      "5/5 [==============================] - 0s 3ms/step - loss: 28.6065 - val_loss: 34.7982\n",
      "Epoch 86/100\n",
      "5/5 [==============================] - 0s 3ms/step - loss: 29.5706 - val_loss: 31.7618\n",
      "Epoch 87/100\n",
      "5/5 [==============================] - 0s 3ms/step - loss: 32.8982 - val_loss: 20.0737\n",
      "Epoch 88/100\n",
      "5/5 [==============================] - 0s 3ms/step - loss: 28.7960 - val_loss: 19.2844\n",
      "Epoch 89/100\n",
      "5/5 [==============================] - 0s 3ms/step - loss: 25.1724 - val_loss: 46.4438\n",
      "Epoch 90/100\n",
      "5/5 [==============================] - 0s 3ms/step - loss: 38.3487 - val_loss: 20.6968\n",
      "Epoch 91/100\n",
      "5/5 [==============================] - 0s 3ms/step - loss: 28.2914 - val_loss: 53.6768\n",
      "Epoch 92/100\n",
      "5/5 [==============================] - 0s 3ms/step - loss: 56.5646 - val_loss: 29.1847\n",
      "Epoch 93/100\n",
      "5/5 [==============================] - 0s 3ms/step - loss: 33.9594 - val_loss: 23.1007\n",
      "Epoch 94/100\n",
      "5/5 [==============================] - 0s 3ms/step - loss: 38.4263 - val_loss: 33.0131\n",
      "Epoch 95/100\n",
      "5/5 [==============================] - 0s 4ms/step - loss: 33.8168 - val_loss: 19.1549\n",
      "Epoch 96/100\n",
      "5/5 [==============================] - 0s 3ms/step - loss: 27.0253 - val_loss: 30.4457\n",
      "Epoch 97/100\n",
      "5/5 [==============================] - 0s 3ms/step - loss: 40.8590 - val_loss: 18.5327\n",
      "Epoch 98/100\n",
      "5/5 [==============================] - 0s 3ms/step - loss: 25.2139 - val_loss: 31.2669\n",
      "Epoch 99/100\n",
      "5/5 [==============================] - 0s 3ms/step - loss: 33.3865 - val_loss: 21.3285\n",
      "Epoch 100/100\n",
      "5/5 [==============================] - 0s 3ms/step - loss: 33.0451 - val_loss: 20.5396\n"
     ]
    },
    {
     "data": {
      "text/plain": [
       "<tensorflow.python.keras.callbacks.History at 0x2a1ba55a670>"
      ]
     },
     "execution_count": 19,
     "metadata": {},
     "output_type": "execute_result"
    }
   ],
   "source": [
    "model = tf.keras.Sequential()\n",
    "model.add(layers.Dense(16,kernel_initializer='random_normal',kernel_regularizer=tf.keras.regularizers.l2(0.03)))\n",
    "model.add(layers.Dense(32,kernel_initializer='random_normal',kernel_regularizer=tf.keras.regularizers.l2(0.03)))\n",
    "model.add(layers.Dense(1,kernel_initializer='random_normal',kernel_regularizer=tf.keras.regularizers.l2(0.03)))\n",
    "\n",
    "model.compile(optimizer=tf.keras.optimizers.SGD(0.001),\n",
    "             loss='mean_squared_error')\n",
    "model.fit(input_features, labels, validation_split=0.25, epochs=100, batch_size=64)"
   ]
  },
  {
   "cell_type": "markdown",
   "metadata": {},
   "source": [
    "## 预测模型结果"
   ]
  },
  {
   "cell_type": "code",
   "execution_count": 20,
   "metadata": {},
   "outputs": [],
   "source": [
    "predict = model.predict(input_features)"
   ]
  },
  {
   "cell_type": "code",
   "execution_count": 21,
   "metadata": {},
   "outputs": [
    {
     "data": {
      "text/plain": [
       "(348, 1)"
      ]
     },
     "execution_count": 21,
     "metadata": {},
     "output_type": "execute_result"
    }
   ],
   "source": [
    "predict.shape"
   ]
  },
  {
   "cell_type": "markdown",
   "metadata": {},
   "source": [
    "## 测试结果并进行展示"
   ]
  },
  {
   "cell_type": "code",
   "execution_count": 22,
   "metadata": {},
   "outputs": [],
   "source": [
    "# 转换日期格式\n",
    "dates = [str(int(year)) + '-' + str(int(month)) + '-' + str(int(day)) for year, month, day in zip(years, months, days)]\n",
    "dates = [datetime.datetime.strptime(date, '%Y-%m-%d') for date in dates]\n",
    "\n",
    "# 创建一个表格来存日期和其对应的标签数值\n",
    "true_data = pd.DataFrame(data = {'date': dates, 'actual': labels})\n",
    "\n",
    "# 同理，再创建一个来存日期和其对应的模型预测值\n",
    "months = features[:, feature_list.index('month')]\n",
    "days = features[:, feature_list.index('day')]\n",
    "years = features[:, feature_list.index('year')]\n",
    "\n",
    "test_dates = [str(int(year)) + '-' + str(int(month)) + '-' + str(int(day)) for year, month, day in zip(years, months, days)]\n",
    "\n",
    "test_dates = [datetime.datetime.strptime(date, '%Y-%m-%d') for date in test_dates]\n",
    "\n",
    "predictions_data = pd.DataFrame(data = {'date': test_dates, 'prediction': predict.reshape(-1)}) "
   ]
  },
  {
   "cell_type": "code",
   "execution_count": 23,
   "metadata": {},
   "outputs": [
    {
     "data": {
      "image/png": "[encoded data removed]",
      "text/plain": [
       "<Figure size 432x288 with 1 Axes>"
      ]
     },
     "metadata": {},
     "output_type": "display_data"
    }
   ],
   "source": [
    "# 真实值\n",
    "plt.plot(true_data['date'], true_data['actual'], 'b-', label = 'actual')\n",
    "\n",
    "# 预测值\n",
    "plt.plot(predictions_data['date'], predictions_data['prediction'], 'ro', label = 'prediction')\n",
    "plt.xticks(rotation = '60'); \n",
    "plt.legend()\n",
    "\n",
    "# 图名\n",
    "plt.xlabel('Date'); plt.ylabel('Maximum Temperature (F)'); plt.title('Actual and Predicted Values');\n"
   ]
  },
  {
   "cell_type": "code",
   "execution_count": null,
   "metadata": {
    "collapsed": true
   },
   "outputs": [],
   "source": []
  }
 ],
 "metadata": {
  "kernelspec": {
   "display_name": "Python 3",
   "language": "python",
   "name": "python3"
  },
  "language_info": {
   "codemirror_mode": {
    "name": "ipython",
    "version": 3
   },
   "file_extension": ".py",
   "mimetype": "text/x-python",
   "name": "python",
   "nbconvert_exporter": "python",
   "pygments_lexer": "ipython3",
   "version": "3.8.3"
  },
  "toc": {
   "base_numbering": 1,
   "nav_menu": {},
   "number_sections": true,
   "sideBar": true,
   "skip_h1_title": false,
   "title_cell": "Table of Contents",
   "title_sidebar": "Contents",
   "toc_cell": false,
   "toc_position": {
    "height": "calc(100% - 180px)",
    "left": "10px",
    "top": "150px",
    "width": "307.2px"
   },
   "toc_section_display": true,
   "toc_window_display": false
  }
 },
 "nbformat": 4,
 "nbformat_minor": 2
}
