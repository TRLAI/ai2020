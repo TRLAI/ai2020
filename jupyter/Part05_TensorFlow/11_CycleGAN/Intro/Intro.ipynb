{
 "cells": [
  {
   "cell_type": "markdown",
   "metadata": {},
   "source": [
    "# CycleGan"
   ]
  },
  {
   "cell_type": "markdown",
   "metadata": {},
   "source": [
    "## 能做什么\n",
    "\n",
    "![](./images/01.jpg)"
   ]
  },
  {
   "cell_type": "markdown",
   "metadata": {},
   "source": [
    "## 是否需要配对儿\n",
    "\n",
    "![](./images/03.png)"
   ]
  },
  {
   "cell_type": "markdown",
   "metadata": {},
   "source": [
    "## 先看一下数据集"
   ]
  },
  {
   "cell_type": "markdown",
   "metadata": {},
   "source": [
    "## 传统GAN是单向的\n",
    "\n",
    "![](./images/02.png)"
   ]
  },
  {
   "cell_type": "markdown",
   "metadata": {},
   "source": [
    "## 整体网络架构\n",
    "\n",
    "![](./images/04.jpg)\n",
    "\n",
    "---------\n",
    "\n",
    "![](./images/05.jpg)"
   ]
  },
  {
   "cell_type": "markdown",
   "metadata": {},
   "source": [
    "## 涉及的损失函数\n",
    "\n",
    "- G网络\n",
    "- D网络\n",
    "- Cycle"
   ]
  },
  {
   "cell_type": "markdown",
   "metadata": {},
   "source": [
    "## PatchGan\n",
    "\n",
    "![](./images/06.png)"
   ]
  },
  {
   "cell_type": "markdown",
   "metadata": {},
   "source": [
    "# 补充阅读\n",
    "\n",
    "项目主页\n",
    "\n",
    "https://junyanz.github.io/CycleGAN/\n",
    "\n",
    "数据集下载地址\n",
    "\n",
    "https://people.eecs.berkeley.edu/~taesung_park/CycleGAN/datasets/\n",
    "\n",
    "CycleGan论文地址\n",
    "\n",
    "https://arxiv.org/pdf/1703.10593.pdf\n",
    "\n",
    "项目源码\n",
    "\n",
    "https://github.com/junyanz/pytorch-CycleGAN-and-pix2pix\n",
    "\n",
    "CycleGan教程\n",
    "\n",
    "https://tensorflow.google.cn/tutorials/generative/cyclegan\n",
    "\n",
    "Pix2Pix教程\n",
    "\n",
    "https://tensorflow.google.cn/tutorials/generative/pix2pix\n",
    "\n",
    "Pix2Pix论文\n",
    "\n",
    "https://arxiv.org/pdf/1611.07004v3.pdf"
   ]
  }
 ],
 "metadata": {
  "kernelspec": {
   "display_name": "Python 3",
   "language": "python",
   "name": "python3"
  },
  "language_info": {
   "codemirror_mode": {
    "name": "ipython",
    "version": 3
   },
   "file_extension": ".py",
   "mimetype": "text/x-python",
   "name": "python",
   "nbconvert_exporter": "python",
   "pygments_lexer": "ipython3",
   "version": "3.8.3"
  },
  "toc": {
   "base_numbering": 1,
   "nav_menu": {},
   "number_sections": true,
   "sideBar": true,
   "skip_h1_title": false,
   "title_cell": "Table of Contents",
   "title_sidebar": "Contents",
   "toc_cell": false,
   "toc_position": {},
   "toc_section_display": true,
   "toc_window_display": false
  }
 },
 "nbformat": 4,
 "nbformat_minor": 4
}
