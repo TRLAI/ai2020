{
 "cells": [
  {
   "cell_type": "markdown",
   "metadata": {},
   "source": [
    "# Matplotlib 简介"
   ]
  },
  {
   "cell_type": "code",
   "execution_count": null,
   "metadata": {},
   "outputs": [],
   "source": [
    "import numpy as np\n",
    "import matplotlib.pyplot as plt"
   ]
  },
  {
   "cell_type": "code",
   "execution_count": null,
   "metadata": {},
   "outputs": [],
   "source": [
    "%matplotlib inline\n",
    "# 在notebook中，不用使用plt.show()，就可以直接把图画出来"
   ]
  },
  {
   "cell_type": "markdown",
   "metadata": {},
   "source": [
    "最基本的一个图"
   ]
  },
  {
   "cell_type": "code",
   "execution_count": null,
   "metadata": {},
   "outputs": [],
   "source": [
    "# 构造一个折线图\n",
    "plt.plot([1,2,3,4,5],[1,2,3,4,5])\n",
    "# 会自动的设置出x，y轴的值"
   ]
  },
  {
   "cell_type": "code",
   "execution_count": null,
   "metadata": {},
   "outputs": [],
   "source": [
    "plt.plot([1,2,3,4,5],[1,4,9,16,25])\n",
    "# 给x轴命名，并设置x轴名字的字体大小\n",
    "plt.xlabel('xlabel',fontsize = 16)\n",
    "# 给y轴命名\n",
    "plt.ylabel('ylabel')"
   ]
  },
  {
   "cell_type": "markdown",
   "metadata": {},
   "source": [
    "不同样子的线条"
   ]
  },
  {
   "cell_type": "code",
   "execution_count": null,
   "metadata": {},
   "outputs": [],
   "source": [
    "plt.plot([1,2,3,4,5],[1,4,9,16,25],'-.')\n",
    "plt.xlabel('xlabel',fontsize = 16)\n",
    "plt.ylabel('ylabel',fontsize = 16)"
   ]
  },
  {
   "cell_type": "markdown",
   "metadata": {},
   "source": [
    "字符|类型 | 字符|类型\n",
    "---|--- | --- | ---\n",
    "`  '-'\t`| 实线 | `'--'`|\t虚线\n",
    "`'-.'`|\t虚点线 | `':'`|\t点线\n",
    "`'.'`|\t点 | `','`| 像素点\n",
    "`'o'`\t|圆点 | `'v'`|\t下三角点\n",
    "`'^'`|\t上三角点 | `'<'`|\t左三角点\n",
    "`'>'`|\t右三角点 | `'1'`|\t下三叉点\n",
    "`'2'`|\t上三叉点 | `'3'`|\t左三叉点\n",
    "`'4'`|\t右三叉点 | `'s'`|\t正方点\n",
    "`'p'`\t| 五角点 | `'*'`|\t星形点\n",
    "`'h'`|\t六边形点1 | `'H'`|\t六边形点2 \n",
    "`'+'`|\t加号点 | `'x'`|\t乘号点\n",
    "`'D'`|\t实心菱形点 | `'d'`|\t瘦菱形点 \n",
    "`'_'`|\t横线点 | |"
   ]
  },
  {
   "cell_type": "markdown",
   "metadata": {},
   "source": [
    "颜色"
   ]
  },
  {
   "cell_type": "code",
   "execution_count": null,
   "metadata": {},
   "outputs": [],
   "source": [
    "plt.plot([1,2,3,4,5],[1,4,9,16,25],'-.',color='r')\n",
    "plt.xlabel('xlabel',fontsize = 16)\n",
    "plt.ylabel('ylabel',fontsize = 16)"
   ]
  },
  {
   "cell_type": "code",
   "execution_count": null,
   "metadata": {},
   "outputs": [],
   "source": [
    "plt.plot([1,2,3,4,5],[1,4,9,16,25],'ro')\n",
    "plt.xlabel('xlabel',fontsize = 16)\n",
    "plt.ylabel('ylabel',fontsize = 16)"
   ]
  },
  {
   "cell_type": "markdown",
   "metadata": {},
   "source": [
    "表示颜色的字符参数有：\n",
    "\n",
    "字符 | 颜色\n",
    "-- | -- \n",
    "`‘b’`|\t蓝色，blue\n",
    "`‘g’`|\t绿色，green\n",
    "`‘r’`|\t红色，red\n",
    "`‘c’`|\t青色，cyan\n",
    "`‘m’`|\t品红，magenta\n",
    "`‘y’`|\t黄色，yellow\n",
    "`‘k’`|\t黑色，black\n",
    "`‘w’`|\t白色，white"
   ]
  },
  {
   "cell_type": "markdown",
   "metadata": {},
   "source": [
    "绘制多条线"
   ]
  },
  {
   "cell_type": "code",
   "execution_count": null,
   "metadata": {},
   "outputs": [],
   "source": [
    "t_numpy = np.arange(0,10,0.5)\n",
    "plt.plot(t_numpy,t_numpy,'r--',color='r')\n",
    "plt.plot(t_numpy,t_numpy**2,'bs')\n",
    "plt.plot(t_numpy,t_numpy**3,'go')"
   ]
  },
  {
   "cell_type": "code",
   "execution_count": null,
   "metadata": {},
   "outputs": [],
   "source": [
    "# 另外一种方式\n",
    "plt.plot(t_numpy,t_numpy,'r--',\n",
    "        t_numpy,t_numpy**2,'bs',\n",
    "        t_numpy,t_numpy**3,'go')"
   ]
  },
  {
   "cell_type": "markdown",
   "metadata": {},
   "source": [
    "指定线条宽度"
   ]
  },
  {
   "cell_type": "code",
   "execution_count": null,
   "metadata": {},
   "outputs": [],
   "source": [
    "x = np.linspace(-10,10)\n",
    "y = np.sin(x)\n",
    "plt.plot(x,y,linewidth = 3.0)"
   ]
  },
  {
   "cell_type": "code",
   "execution_count": null,
   "metadata": {},
   "outputs": [],
   "source": [
    "# color颜色，linestyle线条样式，marker关键点样式，markerfacecolor关键点颜色，markersize关键点大小\n",
    "plt.plot(x,y,color='b',linestyle=':',marker = 'o',markerfacecolor='r',markersize = 6)"
   ]
  },
  {
   "cell_type": "code",
   "execution_count": null,
   "metadata": {},
   "outputs": [],
   "source": [
    "line = plt.plot(x,y)\n",
    "# 设置颜色，线的粗细，透明度\n",
    "plt.setp(line,color='r',linewidth = 2.0, alpha = 0.1)"
   ]
  },
  {
   "cell_type": "markdown",
   "metadata": {},
   "source": [
    "子图"
   ]
  },
  {
   "cell_type": "code",
   "execution_count": null,
   "metadata": {},
   "outputs": [],
   "source": [
    "# 211 表示一会要画的图是2行一列的 最后一个1表示的是子图当中的第1个图\n",
    "plt.subplot(211)\n",
    "plt.plot(x,y,color='r')\n",
    "\n",
    "# 212 表示一会要画的图是2行一列的 最后一个2表示的是子图当中的第2个图\n",
    "plt.subplot(212)\n",
    "plt.plot(x,y,color='b')"
   ]
  },
  {
   "cell_type": "markdown",
   "metadata": {},
   "source": [
    "简单的理解：同一张图中，显示出2个图⬆"
   ]
  },
  {
   "cell_type": "code",
   "execution_count": null,
   "metadata": {},
   "outputs": [],
   "source": [
    "# 121 表示一会要画的图是1行2列的 最后一个1表示的是子图当中的第1个图\n",
    "plt.subplot(121)\n",
    "plt.plot(x,y,color='r')\n",
    "\n",
    "# 122 表示一会要画的图是1行2列的 最后一个2表示的是子图当中的第2个图\n",
    "plt.subplot(122)\n",
    "plt.plot(x,y,color='b')"
   ]
  },
  {
   "cell_type": "code",
   "execution_count": null,
   "metadata": {},
   "outputs": [],
   "source": [
    "# 3行2列，第一张图\n",
    "plt.subplot(321)\n",
    "plt.plot(x,y,color='r')\n",
    "# 3行2列，最后一张图\n",
    "plt.subplot(326)\n",
    "plt.plot(x,y,color='b')"
   ]
  },
  {
   "cell_type": "markdown",
   "metadata": {},
   "source": [
    "给图上加上注释"
   ]
  },
  {
   "cell_type": "code",
   "execution_count": null,
   "metadata": {},
   "outputs": [],
   "source": [
    "plt.plot(x,y,color='b',linestyle=':',marker = 'o',markerfacecolor='r',markersize = 10)\n",
    "# x轴的名字\n",
    "plt.xlabel('x:---')\n",
    "# y轴的名字\n",
    "plt.ylabel('y:---')\n",
    "# 图的标题\n",
    "plt.title('Matplot:---')\n",
    "# 0，0位置的注释\n",
    "plt.text(0,0,'P')\n",
    "# 显示网格\n",
    "plt.grid(True)\n",
    "# 指定-5，0位置的注释，xytext设置注释的位置；arrowprops来设置箭头的属性，facecolor设置颜色，shrink箭头尾部的长短，headlength箭头头部长度，headwidth箭头头部宽度\n",
    "plt.annotate('mask',xy=(-5,0),xytext=(-2,0.3),arrowprops = dict(facecolor='red',shrink=0.05,headlength= 20,headwidth = 20))"
   ]
  },
  {
   "cell_type": "code",
   "execution_count": null,
   "metadata": {},
   "outputs": [],
   "source": []
  }
 ],
 "metadata": {
  "kernelspec": {
   "display_name": "Python 3",
   "language": "python",
   "name": "python3"
  },
  "language_info": {
   "codemirror_mode": {
    "name": "ipython",
    "version": 3
   },
   "file_extension": ".py",
   "mimetype": "text/x-python",
   "name": "python",
   "nbconvert_exporter": "python",
   "pygments_lexer": "ipython3",
   "version": "3.8.3"
  }
 },
 "nbformat": 4,
 "nbformat_minor": 4
}
