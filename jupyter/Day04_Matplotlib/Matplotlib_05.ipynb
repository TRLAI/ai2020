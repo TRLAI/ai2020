{
 "cells": [
  {
   "cell_type": "markdown",
   "metadata": {},
   "source": [
    "# 直方图 散点图"
   ]
  },
  {
   "cell_type": "code",
   "execution_count": null,
   "metadata": {},
   "outputs": [],
   "source": [
    "import numpy as np\n",
    "import matplotlib.pyplot as plt"
   ]
  },
  {
   "cell_type": "code",
   "execution_count": null,
   "metadata": {},
   "outputs": [],
   "source": [
    "data = np.random.normal(0,20,1000)\n",
    "bins = np.arange(-100,100,5)\n",
    "\n",
    "plt.hist(data,bins=bins)\n",
    "plt.xlim([min(data)-5,max(data)+5])\n",
    "plt.show()"
   ]
  },
  {
   "cell_type": "code",
   "execution_count": null,
   "metadata": {},
   "outputs": [],
   "source": [
    "import random\n",
    "data1 = [random.gauss(15,10) for i in range(500)]\n",
    "data2 = [random.gauss(5,5) for i in range(500)]\n",
    "bins = np.arange(-50,50,2.5)\n",
    "\n",
    "plt.hist(data1,bins=bins,label='class 1',alpha = 0.3)\n",
    "plt.hist(data2,bins=bins,label='class 2',alpha = 0.3)\n",
    "plt.legend(loc='best')\n",
    "plt.show()"
   ]
  },
  {
   "cell_type": "code",
   "execution_count": null,
   "metadata": {},
   "outputs": [],
   "source": [
    "mu_vec1 = np.array([0,0])\n",
    "cov_mat1 = np.array([[2,0],[0,2]])\n",
    "\n",
    "x1_samples = np.random.multivariate_normal(mu_vec1, cov_mat1, 100)\n",
    "x2_samples = np.random.multivariate_normal(mu_vec1+0.2, cov_mat1+0.2, 100)\n",
    "x3_samples = np.random.multivariate_normal(mu_vec1+0.4, cov_mat1+0.4, 100)\n",
    "\n",
    "plt.figure(figsize = (8,6))\n",
    "plt.scatter(x1_samples[:,0],x1_samples[:,1],marker ='x',color='blue',alpha=0.6,label='x1')\n",
    "plt.scatter(x2_samples[:,0],x2_samples[:,1],marker ='o',color='red',alpha=0.6,label='x2')\n",
    "plt.scatter(x3_samples[:,0],x3_samples[:,1],marker ='^',color='green',alpha=0.6,label='x3')\n",
    "plt.legend(loc='best')\n",
    "plt.show()"
   ]
  },
  {
   "cell_type": "code",
   "execution_count": null,
   "metadata": {},
   "outputs": [],
   "source": [
    "x_coords = [0.13, 0.22, 0.39, 0.59, 0.68, 0.74, 0.93]\n",
    "y_coords = [0.75, 0.34, 0.44, 0.52, 0.80, 0.25, 0.55]\n",
    "\n",
    "plt.figure(figsize = (8,6))\n",
    "plt.scatter(x_coords,y_coords,marker='s',s=50)\n",
    "\n",
    "for x,y in zip(x_coords,y_coords):\n",
    "    plt.annotate('(%s,%s)'%(x,y),xy=(x,y),xytext=(0,-15),textcoords = 'offset points',ha='center')\n",
    "plt.show()"
   ]
  },
  {
   "cell_type": "code",
   "execution_count": null,
   "metadata": {},
   "outputs": [],
   "source": [
    "mu_vec1 = np.array([0,0])\n",
    "cov_mat1 = np.array([[1,0],[0,1]])\n",
    "X = np.random.multivariate_normal(mu_vec1, cov_mat1, 500)\n",
    "fig = plt.figure(figsize=(8,6))\n",
    "\n",
    "R=X**2\n",
    "R_sum=R.sum(axis = 1)\n",
    "\n",
    "plt.scatter(X[:,0],X[:,1],color='grey',marker='o',s=20*R_sum,alpha=0.5)\n",
    "plt.show()"
   ]
  },
  {
   "cell_type": "code",
   "execution_count": null,
   "metadata": {},
   "outputs": [],
   "source": []
  }
 ],
 "metadata": {
  "kernelspec": {
   "display_name": "Python 3",
   "language": "python",
   "name": "python3"
  },
  "language_info": {
   "codemirror_mode": {
    "name": "ipython",
    "version": 3
   },
   "file_extension": ".py",
   "mimetype": "text/x-python",
   "name": "python",
   "nbconvert_exporter": "python",
   "pygments_lexer": "ipython3",
   "version": "3.8.3"
  }
 },
 "nbformat": 4,
 "nbformat_minor": 4
}
