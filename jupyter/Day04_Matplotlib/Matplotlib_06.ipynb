{
 "cells": [
  {
   "cell_type": "markdown",
   "metadata": {},
   "source": [
    "# 3D图"
   ]
  },
  {
   "cell_type": "code",
   "execution_count": null,
   "metadata": {},
   "outputs": [],
   "source": [
    "import matplotlib.pyplot as plt\n",
    "import numpy as np\n",
    "from mpl_toolkits.mplot3d import Axes3D"
   ]
  },
  {
   "cell_type": "code",
   "execution_count": null,
   "metadata": {},
   "outputs": [],
   "source": [
    "fig = plt.figure()\n",
    "ax = Axes3D(fig)\n",
    "\n",
    "x = np.arange(-4,4,0.25)\n",
    "y = np.arange(-4,4,0.25)\n",
    "\n",
    "X,Y = np.meshgrid(x,y)\n",
    "\n",
    "Z = np.sin(np.sqrt(X**2+Y**2))\n",
    "ax.plot_surface(X,Y,Z,rstride = 1,cstride = 1,cmap='rainbow')\n",
    "ax.contour(X,Y,Z,zdim='z',offset = -2 ,cmap='rainbow')\n",
    "\n",
    "ax.set_zlim(-2,2)\n",
    "plt.show()"
   ]
  },
  {
   "cell_type": "code",
   "execution_count": null,
   "metadata": {},
   "outputs": [],
   "source": [
    "import matplotlib.pyplot as plt\n",
    "from mpl_toolkits.mplot3d import Axes3D\n",
    "\n",
    "fig = plt.figure()\n",
    "ax = fig.add_subplot(111,projection = '3d')\n",
    "plt.show()\n"
   ]
  },
  {
   "cell_type": "code",
   "execution_count": null,
   "metadata": {},
   "outputs": [],
   "source": [
    "fig = plt.figure()\n",
    "ax = fig.gca(projection='3d')\n",
    "\n",
    "theta = np.linspace(-4 * np.pi, 4 * np.pi, 100)\n",
    "z = np.linspace(-2, 2, 100)\n",
    "r = z**2 + 1\n",
    "x = r * np.sin(theta)\n",
    "y = r * np.cos(theta)\n",
    "\n",
    "ax.plot(x,y,z)\n",
    "plt.show()"
   ]
  },
  {
   "cell_type": "code",
   "execution_count": null,
   "metadata": {},
   "outputs": [],
   "source": [
    "np.random.seed(1)\n",
    "def randrange(n,vmin,vmax):\n",
    "    return (vmax-vmin)*np.random.rand(n)+vmin\n",
    "\n",
    "\n",
    "fig = plt.figure()\n",
    "ax = fig.add_subplot(111,projection = '3d')\n",
    "n = 100\n",
    "for c,m,zlow,zhigh in [('r','o',-50,-25),('b','x','-30','-5')]:\n",
    "    xs = randrange(n,23,32)\n",
    "    ys = randrange(n,0,100)\n",
    "    zs = randrange(n,int(zlow),int(zhigh))\n",
    "    ax.scatter(xs,ys,zs,c=c,marker=m)\n",
    "plt.show()"
   ]
  },
  {
   "cell_type": "code",
   "execution_count": null,
   "metadata": {},
   "outputs": [],
   "source": [
    "np.random.seed(1)\n",
    "def randrange(n,vmin,vmax):\n",
    "    return (vmax-vmin)*np.random.rand(n)+vmin\n",
    "\n",
    "\n",
    "fig = plt.figure()\n",
    "ax = fig.add_subplot(111,projection = '3d')\n",
    "n = 100\n",
    "for c,m,zlow,zhigh in [('r','o',-50,-25),('b','x','-30','-5')]:\n",
    "    xs = randrange(n,23,32)\n",
    "    ys = randrange(n,0,100)\n",
    "    zs = randrange(n,int(zlow),int(zhigh))\n",
    "    ax.scatter(xs,ys,zs,c=c,marker=m)\n",
    "    \n",
    "ax.view_init(40,0)\n",
    "plt.show()"
   ]
  },
  {
   "cell_type": "code",
   "execution_count": null,
   "metadata": {},
   "outputs": [],
   "source": [
    "fig = plt.figure()  \n",
    "ax = fig.add_subplot(111, projection='3d') \n",
    "\n",
    "for c, z in zip(['r', 'g', 'b', 'y'], [30, 20, 10, 0]): \n",
    "    xs = np.arange(20)\n",
    "    ys = np.random.rand(20)\n",
    "    cs = [c]*len(xs)\n",
    "    ax.bar(xs,ys,zs = z,zdir='y',color = cs,alpha = 0.5)\n",
    "plt.show()"
   ]
  },
  {
   "cell_type": "code",
   "execution_count": null,
   "metadata": {},
   "outputs": [],
   "source": []
  }
 ],
 "metadata": {
  "kernelspec": {
   "display_name": "Python 3",
   "language": "python",
   "name": "python3"
  },
  "language_info": {
   "codemirror_mode": {
    "name": "ipython",
    "version": 3
   },
   "file_extension": ".py",
   "mimetype": "text/x-python",
   "name": "python",
   "nbconvert_exporter": "python",
   "pygments_lexer": "ipython3",
   "version": "3.8.3"
  }
 },
 "nbformat": 4,
 "nbformat_minor": 4
}
