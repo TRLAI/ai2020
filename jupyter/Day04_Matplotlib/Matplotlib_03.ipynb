{
 "cells": [
  {
   "cell_type": "markdown",
   "metadata": {},
   "source": [
    "# 条形图"
   ]
  },
  {
   "cell_type": "code",
   "execution_count": null,
   "metadata": {},
   "outputs": [],
   "source": [
    "import numpy as np\n",
    "import matplotlib\n",
    "# notebook中的agg，后端使用agg，用来生成图\n",
    "matplotlib.use('nbagg')\n",
    "import matplotlib.pyplot as plt"
   ]
  },
  {
   "cell_type": "code",
   "execution_count": null,
   "metadata": {},
   "outputs": [],
   "source": [
    "np.random.seed(0)\n",
    "x = np.arange(5)\n",
    "y = np.random.randint(-5,5,5)\n",
    "print (y)\n",
    "# 画一个子图\n",
    "fig,axes = plt.subplots(ncols = 2)\n",
    "# 一个横向柱状图\n",
    "v_bars = axes[0].bar(x,y,color='red')\n",
    "# 一个纵向柱状图\n",
    "h_bars = axes[1].barh(x,y,color='red')\n",
    "# 在0的位置，画一条辅助线\n",
    "axes[0].axhline(0,color='grey',linewidth=2)\n",
    "axes[1].axvline(0,color='grey',linewidth=2)\n",
    "# 不使用%matplotlib inline，需要使用plt.show(),pychram中也需要使用。\n",
    "plt.show()"
   ]
  },
  {
   "cell_type": "code",
   "execution_count": null,
   "metadata": {},
   "outputs": [],
   "source": [
    "fig,ax = plt.subplots()\n",
    "# 设置默认为浅蓝色\n",
    "v_bars = ax.bar(x,y,color='lightblue')\n",
    "# zip是打包元组函数\n",
    "for bar,height in zip(v_bars,y):\n",
    "    # 小于0的是绿色\n",
    "    if height < 0:\n",
    "        bar.set(color = 'green')\n",
    "plt.show()"
   ]
  },
  {
   "cell_type": "markdown",
   "metadata": {},
   "source": [
    "填充"
   ]
  },
  {
   "cell_type": "code",
   "execution_count": null,
   "metadata": {},
   "outputs": [],
   "source": [
    "x = np.random.randn(100).cumsum()\n",
    "y = np.linspace(0,10,100)\n",
    "\n",
    "fig,ax = plt.subplots()\n",
    "# 填充颜色为浅蓝色\n",
    "ax.fill_between(x,y,color='lightblue')\n",
    "#ax.plot(x,y)\n",
    "plt.show()"
   ]
  },
  {
   "cell_type": "code",
   "execution_count": null,
   "metadata": {
    "scrolled": false
   },
   "outputs": [],
   "source": [
    "x = np.linspace(0,10,200)\n",
    "y1 = 2*x +1\n",
    "y2 = 3*x +1.2\n",
    "y_mean = 0.5*x*np.cos(2*x) + 2.5*x +1.1\n",
    "fig,ax = plt.subplots()\n",
    "# 填充x，y1，y2之前的区域\n",
    "ax.fill_between(x,y1,y2,color='red')\n",
    "# 画出x，y_mean构造的线\n",
    "ax.plot(x,y_mean,color='black')\n",
    "plt.show()"
   ]
  },
  {
   "cell_type": "code",
   "execution_count": null,
   "metadata": {},
   "outputs": [],
   "source": [
    "\n",
    "mean_values = [1,2,3]\n",
    "variance = [0.2,0.4,0.5]\n",
    "bar_label = ['bar1','bar2','bar3']\n",
    "\n",
    "x_pos = list(range(len(bar_label)))\n",
    "# 画出误差棒yerr=variance\n",
    "plt.bar(x_pos,mean_values,yerr=variance,alpha=0.3)\n",
    "max_y = max(zip(mean_values,variance))\n",
    "plt.ylim([0,(max_y[0]+max_y[1])*1.2])\n",
    "plt.ylabel('variable y')\n",
    "plt.xticks(x_pos,bar_label)\n",
    "plt.show()"
   ]
  },
  {
   "cell_type": "code",
   "execution_count": null,
   "metadata": {},
   "outputs": [],
   "source": [
    "x1 = np.array([1,2,3])\n",
    "x2 = np.array([2,2,3])\n",
    "\n",
    "bar_labels = ['bat1','bar2','bar3']\n",
    "# 指定区域大小\n",
    "fig = plt.figure(figsize = (8,6))\n",
    "y_pos = np.arange(len(x1))\n",
    "y_pos = [x for x in y_pos]\n",
    "# x1和x2背靠背\n",
    "plt.barh(y_pos,x1,color='g',alpha = 0.5)\n",
    "plt.barh(y_pos,-x2,color='b',alpha = 0.5)\n",
    "# 两边,上下，留出空白\n",
    "plt.xlim(-max(x2)-1,max(x1)+1)\n",
    "plt.ylim(-1,len(x1)+1)\n",
    "plt.show()"
   ]
  },
  {
   "cell_type": "code",
   "execution_count": null,
   "metadata": {},
   "outputs": [],
   "source": [
    "green_data = [1, 2, 3]\n",
    "blue_data = [3, 2, 1]\n",
    "red_data = [2, 3, 3]\n",
    "labels = ['group 1', 'group 2', 'group 3']\n",
    "\n",
    "pos = list(range(len(green_data))) \n",
    "width = 0.2 \n",
    "fig, ax = plt.subplots(figsize=(8,6))\n",
    "\n",
    "plt.bar(pos,green_data,width,alpha=0.5,color='g',label=labels[0])\n",
    "plt.bar([p+width for p in pos],blue_data,width,alpha=0.5,color='b',label=labels[1])\n",
    "plt.bar([p+width*2 for p in pos],red_data,width,alpha=0.5,color='r',label=labels[2])\n",
    "plt.show()"
   ]
  },
  {
   "cell_type": "code",
   "execution_count": null,
   "metadata": {},
   "outputs": [],
   "source": [
    "data = range(200, 225, 5)\n",
    "\n",
    "bar_labels = ['a', 'b', 'c', 'd', 'e']\n",
    "\n",
    "fig = plt.figure(figsize=(10,8))\n",
    "\n",
    "y_pos = np.arange(len(data))\n",
    "\n",
    "plt.yticks(y_pos, bar_labels, fontsize=16)\n",
    "\n",
    "bars = plt.barh(y_pos,data,alpha = 0.5,color='g')\n",
    "# 竖线，在最小值的位置\n",
    "plt.vlines(min(data),-1,len(data)+0.5,linestyle = 'dashed')\n",
    "# 最小值的n%\n",
    "for b,d in zip(bars,data):\n",
    "    plt.text(b.get_width()+b.get_width()*0.05,b.get_y()+b.get_height()/2,'{0:.2%}'.format(d/min(data)))\n",
    "plt.show()"
   ]
  },
  {
   "cell_type": "markdown",
   "metadata": {},
   "source": [
    "彩虹图"
   ]
  },
  {
   "cell_type": "code",
   "execution_count": null,
   "metadata": {},
   "outputs": [],
   "source": [
    "mean_values = range(10,18)\n",
    "x_pos = range(len(mean_values))\n",
    "# 调用colors\n",
    "import matplotlib.colors as col\n",
    "import matplotlib.cm as cm\n",
    "\n",
    "cmap1 = cm.ScalarMappable(col.Normalize(min(mean_values),max(mean_values),cm.hot))\n",
    "cmap2 = cm.ScalarMappable(col.Normalize(0,20,cm.hot))\n",
    "\n",
    "plt.subplot(121)\n",
    "plt.bar(x_pos,mean_values,color = cmap1.to_rgba(mean_values))\n",
    "\n",
    "plt.subplot(122)\n",
    "plt.bar(x_pos,mean_values,color = cmap2.to_rgba(mean_values))\n",
    "\n",
    "plt.show()"
   ]
  },
  {
   "cell_type": "code",
   "execution_count": null,
   "metadata": {},
   "outputs": [],
   "source": [
    "patterns = ('-', '+', 'x', '\\\\', '*', 'o', 'O', '.')\n",
    "\n",
    "fig = plt.gca()\n",
    "\n",
    "mean_value = range(1,len(patterns)+1)\n",
    "x_pos = list(range(len(mean_value)))\n",
    "\n",
    "bars = plt.bar(x_pos,mean_value,color='white')\n",
    "\n",
    "for bar,pattern in zip(bars,patterns):\n",
    "    bar.set_hatch(pattern)\n",
    "plt.show()"
   ]
  },
  {
   "cell_type": "code",
   "execution_count": null,
   "metadata": {},
   "outputs": [],
   "source": []
  }
 ],
 "metadata": {
  "kernelspec": {
   "display_name": "Python 3",
   "language": "python",
   "name": "python3"
  },
  "language_info": {
   "codemirror_mode": {
    "name": "ipython",
    "version": 3
   },
   "file_extension": ".py",
   "mimetype": "text/x-python",
   "name": "python",
   "nbconvert_exporter": "python",
   "pygments_lexer": "ipython3",
   "version": "3.8.3"
  }
 },
 "nbformat": 4,
 "nbformat_minor": 4
}
