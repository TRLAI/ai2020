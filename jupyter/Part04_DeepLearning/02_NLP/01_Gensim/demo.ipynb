{
 "cells": [
  {
   "cell_type": "code",
   "execution_count": 2,
   "metadata": {},
   "outputs": [],
   "source": [
    "from gensim.models import word2vec\n",
    "import logging\n",
    "# 自定义log格式\n",
    "logging.basicConfig(format='%(asctime)s : %(levelname)s : %(message)s', level=logging.INFO)"
   ]
  },
  {
   "cell_type": "code",
   "execution_count": 3,
   "metadata": {},
   "outputs": [],
   "source": [
    "raw_sentences = [\"the quick brown fox jumps over the lazy dogs\", \"yoyoyo you go home now to sleep\"]"
   ]
  },
  {
   "cell_type": "code",
   "execution_count": 4,
   "metadata": {},
   "outputs": [
    {
     "name": "stdout",
     "output_type": "stream",
     "text": [
      "[['the', 'quick', 'brown', 'fox', 'jumps', 'over', 'the', 'lazy', 'dogs'], ['yoyoyo', 'you', 'go', 'home', 'now', 'to', 'sleep']]\n"
     ]
    }
   ],
   "source": [
    "sentences = [s.split() for s in raw_sentences]\n",
    "print(sentences)"
   ]
  },
  {
   "cell_type": "code",
   "execution_count": 7,
   "metadata": {},
   "outputs": [
    {
     "name": "stderr",
     "output_type": "stream",
     "text": [
      "2020-09-30 09:31:07,195 : WARNING : consider setting layer size to a multiple of 4 for greater performance\n",
      "2020-09-30 09:31:07,196 : INFO : collecting all words and their counts\n",
      "2020-09-30 09:31:07,197 : INFO : PROGRESS: at sentence #0, processed 0 words, keeping 0 word types\n",
      "2020-09-30 09:31:07,197 : INFO : collected 15 word types from a corpus of 16 raw words and 2 sentences\n",
      "2020-09-30 09:31:07,198 : INFO : Loading a fresh vocabulary\n",
      "2020-09-30 09:31:07,198 : INFO : effective_min_count=1 retains 15 unique words (100% of original 15, drops 0)\n",
      "2020-09-30 09:31:07,200 : INFO : effective_min_count=1 leaves 16 word corpus (100% of original 16, drops 0)\n",
      "2020-09-30 09:31:07,201 : INFO : deleting the raw counts dictionary of 15 items\n",
      "2020-09-30 09:31:07,201 : INFO : sample=0.001 downsamples 15 most-common words\n",
      "2020-09-30 09:31:07,202 : INFO : downsampling leaves estimated 2 word corpus (13.7% of prior 16)\n",
      "2020-09-30 09:31:07,202 : INFO : estimated required memory for 15 words and 50 dimensions: 13500 bytes\n",
      "2020-09-30 09:31:07,202 : INFO : resetting layer weights\n",
      "2020-09-30 09:31:07,208 : INFO : training model with 3 workers on 15 vocabulary and 50 features, using sg=0 hs=0 sample=0.001 negative=5 window=5\n",
      "2020-09-30 09:31:07,213 : INFO : worker thread finished; awaiting finish of 2 more threads\n",
      "2020-09-30 09:31:07,213 : INFO : worker thread finished; awaiting finish of 1 more threads\n",
      "2020-09-30 09:31:07,213 : INFO : worker thread finished; awaiting finish of 0 more threads\n",
      "2020-09-30 09:31:07,214 : INFO : EPOCH - 1 : training on 16 raw words (2 effective words) took 0.0s, 1589 effective words/s\n",
      "2020-09-30 09:31:07,216 : INFO : worker thread finished; awaiting finish of 2 more threads\n",
      "2020-09-30 09:31:07,218 : INFO : worker thread finished; awaiting finish of 1 more threads\n",
      "2020-09-30 09:31:07,218 : INFO : worker thread finished; awaiting finish of 0 more threads\n",
      "2020-09-30 09:31:07,220 : INFO : EPOCH - 2 : training on 16 raw words (3 effective words) took 0.0s, 771 effective words/s\n",
      "2020-09-30 09:31:07,226 : INFO : worker thread finished; awaiting finish of 2 more threads\n",
      "2020-09-30 09:31:07,227 : INFO : worker thread finished; awaiting finish of 1 more threads\n",
      "2020-09-30 09:31:07,227 : INFO : worker thread finished; awaiting finish of 0 more threads\n",
      "2020-09-30 09:31:07,228 : INFO : EPOCH - 3 : training on 16 raw words (1 effective words) took 0.0s, 327 effective words/s\n",
      "2020-09-30 09:31:07,232 : INFO : worker thread finished; awaiting finish of 2 more threads\n",
      "2020-09-30 09:31:07,233 : INFO : worker thread finished; awaiting finish of 1 more threads\n",
      "2020-09-30 09:31:07,235 : INFO : worker thread finished; awaiting finish of 0 more threads\n",
      "2020-09-30 09:31:07,235 : INFO : EPOCH - 4 : training on 16 raw words (2 effective words) took 0.0s, 623 effective words/s\n",
      "2020-09-30 09:31:07,243 : INFO : worker thread finished; awaiting finish of 2 more threads\n",
      "2020-09-30 09:31:07,245 : INFO : worker thread finished; awaiting finish of 1 more threads\n",
      "2020-09-30 09:31:07,245 : INFO : worker thread finished; awaiting finish of 0 more threads\n",
      "2020-09-30 09:31:07,245 : INFO : EPOCH - 5 : training on 16 raw words (2 effective words) took 0.0s, 574 effective words/s\n",
      "2020-09-30 09:31:07,247 : INFO : training on a 80 raw words (10 effective words) took 0.0s, 268 effective words/s\n",
      "2020-09-30 09:31:07,247 : WARNING : under 10 jobs per worker: consider setting a smaller `batch_words' for smoother alpha decay\n"
     ]
    }
   ],
   "source": [
    "model = word2vec.Word2Vec(sentences, min_count=1, size=50)"
   ]
  },
  {
   "cell_type": "markdown",
   "metadata": {},
   "source": [
    "### min_count\n",
    "\n",
    "在不同大小的语料集中，我们对于基准词频的需求也是不一样的。比如在较大的语料集中，我们希望忽略那些只出现一两次的单词，这里我们就可以通过设置min_count参数进行控制。一般来说，合理的参数值设置在0-100之间\n",
    "\n",
    "### size\n",
    "\n",
    "size参数主要是用来设置神经网络的层数，Word2Vec中默认值是设置为100层。更大的层次设置意味着更多的输入数据，不过也能提升整体的准确度，合理的设置范围10-几百。"
   ]
  },
  {
   "cell_type": "code",
   "execution_count": 8,
   "metadata": {},
   "outputs": [
    {
     "data": {
      "text/plain": [
       "0.006137833"
      ]
     },
     "execution_count": 8,
     "metadata": {},
     "output_type": "execute_result"
    }
   ],
   "source": [
    "model.wv.similarity('dogs', 'you')"
   ]
  },
  {
   "cell_type": "code",
   "execution_count": null,
   "metadata": {},
   "outputs": [],
   "source": []
  }
 ],
 "metadata": {
  "kernelspec": {
   "display_name": "Python 3",
   "language": "python",
   "name": "python3"
  },
  "language_info": {
   "codemirror_mode": {
    "name": "ipython",
    "version": 3
   },
   "file_extension": ".py",
   "mimetype": "text/x-python",
   "name": "python",
   "nbconvert_exporter": "python",
   "pygments_lexer": "ipython3",
   "version": "3.8.3"
  }
 },
 "nbformat": 4,
 "nbformat_minor": 4
}
