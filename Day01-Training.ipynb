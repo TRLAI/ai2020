{
 "cells": [
  {
   "cell_type": "markdown",
   "metadata": {},
   "source": [
    "### 练习题"
   ]
  },
  {
   "cell_type": "markdown",
   "metadata": {},
   "source": [
    "### T01\n",
    "\n",
    "有四个数字：1、2、3、4，能组成多少个互不相同且无重复数字的三位数？各是多少？"
   ]
  },
  {
   "cell_type": "markdown",
   "metadata": {},
   "source": [
    "### T02\n",
    "\n",
    "企业发放的奖金根据利润提成。利润(I)低于或等于10万元时，奖金可提10%；利润高于10万元，低于20万元时，低于10万元的部分按10%提成，高于10万元的部分，可提成7.5%；20万到40万之间时，高于20万元的部分，可提成5%；40万到60万之间时高于40万元的部分，可提成3%；60万到100万之间时，高于60万元的部分，可提成1.5%，高于100万元时，超过100万元的部分按1%提成，从键盘输入当月利润I，求应发放奖金总数？"
   ]
  },
  {
   "cell_type": "markdown",
   "metadata": {},
   "source": [
    "### T03\n",
    "\n",
    "输入三个整数x,y,z，请把这三个数由小到大输出"
   ]
  },
  {
   "cell_type": "markdown",
   "metadata": {},
   "source": [
    "### T04\n",
    "\n",
    "将一个列表的数据复制到另一个列表中"
   ]
  },
  {
   "cell_type": "markdown",
   "metadata": {},
   "source": [
    "### T05\n",
    "\n",
    "暂停一秒输出,并格式化当前时间。使用 time 模块的 sleep() 函数。"
   ]
  },
  {
   "cell_type": "markdown",
   "metadata": {},
   "source": [
    "### T06\n",
    "\n",
    "打印出所有的\"水仙花数\"，所谓\"水仙花数\"是指一个三位数，其各位数字立方和等于该数本身。例如：153是一个\"水仙花数\"，因为153=1的三次方＋5的三次方＋3的三次方。"
   ]
  },
  {
   "cell_type": "markdown",
   "metadata": {},
   "source": [
    "### T07\n",
    "\n",
    "输入一行字符，分别统计出其中英文字母、空格、数字和其它字符的个数。"
   ]
  },
  {
   "cell_type": "markdown",
   "metadata": {},
   "source": [
    "### T08\n",
    "\n",
    "一球从100米高度自由落下，每次落地后反跳回原高度的一半；再落下，求它在第10次落地时，共经过多少米？第10次反弹多高？"
   ]
  },
  {
   "cell_type": "code",
   "execution_count": 3,
   "metadata": {},
   "outputs": [
    {
     "name": "stdout",
     "output_type": "stream",
     "text": [
      "123\n",
      "124\n",
      "132\n",
      "134\n",
      "142\n",
      "143\n",
      "213\n",
      "214\n",
      "231\n",
      "234\n",
      "241\n",
      "243\n",
      "312\n",
      "314\n",
      "321\n",
      "324\n",
      "341\n",
      "342\n",
      "412\n",
      "413\n",
      "421\n",
      "423\n",
      "431\n",
      "432\n",
      "结果是24\n"
     ]
    }
   ],
   "source": [
    "count = 0\n",
    "for i in range(1, 5):\n",
    "     for j in range(1, 5):\n",
    "        for k in range(1, 5):\n",
    "           if i != j and j != k and i != k:\n",
    "               count += 1\n",
    "               print(i * 100 + j * 10 + k)\n",
    "print(\"结果是%d\" % count)"
   ]
  },
  {
   "cell_type": "code",
   "execution_count": 4,
   "metadata": {},
   "outputs": [
    {
     "name": "stdout",
     "output_type": "stream",
     "text": [
      "profit:20\n"
     ]
    }
   ],
   "source": [
    "bonus = 0\n",
    "profit = int(input(\"profit:\"))\n",
    "if profit <= 10:\n",
    "    bonus += profit*0.1\n",
    "if 10 < profit <= 20:\n",
    "    bonus += 10*0.1 + (profit-10)*0.075\n",
    "if 20 < profit <= 40:\n",
    "    bonus += 10*0.1 + (20-10)*0.0075 + (profit-20)*0.005\n",
    "if 40 < profit <= 60:\n",
    "    bonus += 10*0.1 + (20-10)*0.075 + (40-20)*0.005 + (profit-40)*0.003\n",
    "if 60 < profit <= 100:\n",
    "    bonus += 10*0.1 + (20-10)*0.075 + (40-20)*0.005 + (60-40)*0.003 + (profit-60)*0.0015\n",
    "else:\n",
    "    bonus += 10*0.1 + (20-10)*0.075 + (40-20)*0.005 + (60-40)*0.003 + (100-60)*0.0015 + (profit-100)*0.001"
   ]
  },
  {
   "cell_type": "code",
   "execution_count": 5,
   "metadata": {},
   "outputs": [
    {
     "name": "stdout",
     "output_type": "stream",
     "text": [
      "x=1\n",
      "y=2\n",
      "z=3\n",
      "['1', '2', '3']\n"
     ]
    }
   ],
   "source": [
    "x = input(\"x=\")\n",
    "y = input(\"y=\")\n",
    "z = input(\"z=\")\n",
    "list = []\n",
    "list.append(x)\n",
    "list.append(y)\n",
    "list.append(z)\n",
    "list.sort()\n",
    "print(list)"
   ]
  },
  {
   "cell_type": "code",
   "execution_count": 7,
   "metadata": {},
   "outputs": [
    {
     "name": "stdout",
     "output_type": "stream",
     "text": [
      "[3, 6, 9]\n",
      "[3, 6, 9]\n",
      "[3, 6, 9]\n"
     ]
    }
   ],
   "source": [
    "list1 = [3, 6, 9]\n",
    "list2 = list1\n",
    "print(list2)\n",
    "list3 = list1.copy()\n",
    "print(list3)\n",
    "list4 = [x for x in list1]\n",
    "print(list4)"
   ]
  },
  {
   "cell_type": "code",
   "execution_count": 9,
   "metadata": {},
   "outputs": [
    {
     "name": "stdout",
     "output_type": "stream",
     "text": [
      "0\n",
      "1\n",
      "2\n",
      "3\n",
      "4\n",
      "5\n",
      "6\n",
      "7\n",
      "8\n",
      "9\n"
     ]
    }
   ],
   "source": [
    "import time\n",
    "\n",
    "for i in range(10):\n",
    "    if i == 5:\n",
    "        time.sleep(1)\n",
    "    print(i)"
   ]
  },
  {
   "cell_type": "code",
   "execution_count": 10,
   "metadata": {},
   "outputs": [
    {
     "name": "stdout",
     "output_type": "stream",
     "text": [
      "153\n",
      "370\n",
      "371\n",
      "407\n"
     ]
    }
   ],
   "source": [
    "for i in range(100, 1000):\n",
    "    x = i // 100\n",
    "    y = (i // 10) % 10\n",
    "    z = i % 10\n",
    "    if x**3 + y**3 + z**3 == i:\n",
    "        print(i)"
   ]
  },
  {
   "cell_type": "code",
   "execution_count": 11,
   "metadata": {},
   "outputs": [
    {
     "name": "stdout",
     "output_type": "stream",
     "text": [
      "输入字符串：12abc;\n",
      "英文字母为：3，空格为：0，数字为：2，其他为：1\n"
     ]
    }
   ],
   "source": [
    "s = input(\"输入字符串：\")\n",
    "letter = 0\n",
    "intger = 0\n",
    "space = 0\n",
    "other = 0\n",
    "for i in s:\n",
    "    if 'a' <= i <= 'z' or 'A' <= i <= 'Z':\n",
    "        letter += 1\n",
    "    elif i in '0123456789':\n",
    "        intger += 1\n",
    "    elif i == ' ':\n",
    "        space += 1\n",
    "    else:\n",
    "        other += 1\n",
    "print(\"英文字母为：%d，空格为：%d，数字为：%d，其他为：%d\" % (letter, space, intger, other))"
   ]
  },
  {
   "cell_type": "code",
   "execution_count": 12,
   "metadata": {},
   "outputs": [
    {
     "name": "stdout",
     "output_type": "stream",
     "text": [
      "29.9609375\n",
      "0.009765625\n"
     ]
    }
   ],
   "source": [
    "meter = 10\n",
    "s = meter\n",
    "for i in range(9):\n",
    "    s += meter\n",
    "    meter /= 2\n",
    "print(s)\n",
    "print(meter/2)"
   ]
  },
  {
   "cell_type": "code",
   "execution_count": null,
   "metadata": {},
   "outputs": [],
   "source": []
  }
 ],
 "metadata": {
  "kernelspec": {
   "display_name": "Python 3",
   "language": "python",
   "name": "python3"
  },
  "language_info": {
   "codemirror_mode": {
    "name": "ipython",
    "version": 3
   },
   "file_extension": ".py",
   "mimetype": "text/x-python",
   "name": "python",
   "nbconvert_exporter": "python",
   "pygments_lexer": "ipython3",
   "version": "3.8.3"
  }
 },
 "nbformat": 4,
 "nbformat_minor": 4
}
