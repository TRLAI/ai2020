{
 "cells": [
  {
   "cell_type": "code",
   "execution_count": 6,
   "metadata": {
    "scrolled": true
   },
   "outputs": [
    {
     "name": "stdout",
     "output_type": "stream",
     "text": [
      "1 2 3\n",
      "1 2 4\n",
      "1 3 2\n",
      "1 3 4\n",
      "1 4 2\n",
      "1 4 3\n",
      "2 1 3\n",
      "2 1 4\n",
      "2 3 1\n",
      "2 3 4\n",
      "2 4 1\n",
      "2 4 3\n",
      "3 1 2\n",
      "3 1 4\n",
      "3 2 1\n",
      "3 2 4\n",
      "3 4 1\n",
      "3 4 2\n",
      "4 1 2\n",
      "4 1 3\n",
      "4 2 1\n",
      "4 2 3\n",
      "4 3 1\n",
      "4 3 2\n",
      "能组成24\n"
     ]
    }
   ],
   "source": [
    "\n",
    "count = 0\n",
    "for i in range(1,5):\n",
    " for j in range(1,5):\n",
    "  for k in range(1,5):\n",
    "   if i!=j and i!=k and j!=k:\n",
    "            print(i,j,k)\n",
    "            count+=1\n",
    "print(\"能组成{}\".format(count))"
   ]
  },
  {
   "cell_type": "code",
   "execution_count": 14,
   "metadata": {},
   "outputs": [
    {
     "name": "stdout",
     "output_type": "stream",
     "text": [
      "请输入利润12\n",
      "1.15\n"
     ]
    }
   ],
   "source": [
    "Ratio=[0.1,0.075,0.05,0.03,0.015,0.01]\n",
    "fund=[0,10,20,40,60,100]\n",
    "Profit=int(input('请输入利润'))\n",
    "Money=0\n",
    "for i in range(0,6):\n",
    "    if Profit>fund[5-i]:\n",
    "        Money+=(Profit-fund[5-i])*Ratio[5-i]\n",
    "        Profit=fund[5-i]\n",
    "print(Money)"
   ]
  },
  {
   "cell_type": "code",
   "execution_count": 3,
   "metadata": {},
   "outputs": [
    {
     "name": "stdout",
     "output_type": "stream",
     "text": [
      "请输入第一个数1\n",
      "请输入第二个数2\n",
      "请输入第三个数3\n",
      "从大到小排序1>2>3\n"
     ]
    }
   ],
   "source": [
    "a=int(input('请输入第一个数'))\n",
    "b=int(input('请输入第二个数'))\n",
    "c=int(input('请输入第三个数'))\n",
    "\n",
    "k=0\n",
    "\n",
    "if a>b:\n",
    "    k=a\n",
    "    a=b\n",
    "    b=k\n",
    "if a>c:\n",
    "    k=c\n",
    "    a=c\n",
    "    c=k\n",
    "if b>c:\n",
    "    k=c\n",
    "    b=c\n",
    "    c=k\n",
    "print('从小到大排序{}>{}>{}'.format(a,b,c))\n",
    "\n",
    "    "
   ]
  },
  {
   "cell_type": "code",
   "execution_count": 5,
   "metadata": {},
   "outputs": [
    {
     "name": "stdout",
     "output_type": "stream",
     "text": [
      "[1, 2, 3, 4, 5, 6]\n"
     ]
    }
   ],
   "source": [
    "a = [1,2,3,4,5,6]\n",
    "b = a[:]\n",
    "print(b) "
   ]
  },
  {
   "cell_type": "code",
   "execution_count": 14,
   "metadata": {},
   "outputs": [
    {
     "name": "stdout",
     "output_type": "stream",
     "text": [
      "2020-09-01 14:37:14\n",
      "2020-01-01 14:37:15\n"
     ]
    }
   ],
   "source": [
    "import time\n",
    "print(time.strftime('%Y-%m-%d %H:%M:%S',time.localtime()))\n",
    "time.sleep(1)\n",
    "print(time.strftime('%Y-%d-%d %H:%M:%S',time.localtime()))"
   ]
  },
  {
   "cell_type": "code",
   "execution_count": 25,
   "metadata": {},
   "outputs": [
    {
     "name": "stdout",
     "output_type": "stream",
     "text": [
      "153 370 371 407 "
     ]
    }
   ],
   "source": [
    "import math\n",
    "\n",
    "for i in range(100, 1000):\n",
    "    x = math.floor(i/100)  \n",
    "    y = math.floor((i - x*100)/10)  \n",
    "    z = i - math.floor(i/10) *10 \n",
    "    if i == x**3 + y**3 + z**3:\n",
    "        print(i, end=' ')"
   ]
  },
  {
   "cell_type": "code",
   "execution_count": 27,
   "metadata": {},
   "outputs": [
    {
     "name": "stdout",
     "output_type": "stream",
     "text": [
      "请输入字符串：123 ++- 789 lll\n",
      "字母=3\n",
      "数字=6\n",
      "空格=3\n",
      "其他=3\n"
     ]
    }
   ],
   "source": [
    "tmpStr = input('请输入字符串：')\n",
    "english=0\n",
    "numbers=0\n",
    "space=0\n",
    "other=0\n",
    "for i in tmpStr:\n",
    "    if i.isalpha():\n",
    "        english +=1\n",
    "    elif i.isnumeric():\n",
    "        numbers +=1\n",
    "    elif i.isspace():\n",
    "        space +=1\n",
    "    else:\n",
    "        other +=1\n",
    "print('字母=%d'%english)\n",
    "print('数字=%d'%numbers)\n",
    "print('空格=%d'%space)\n",
    "print('其他=%d'%other)"
   ]
  },
  {
   "cell_type": "code",
   "execution_count": 31,
   "metadata": {},
   "outputs": [
    {
     "name": "stdout",
     "output_type": "stream",
     "text": [
      "0.09765625,299.70703125\n"
     ]
    }
   ],
   "source": [
    "num=0\n",
    "count=0\n",
    "ball=100\n",
    "for i in range(0,10):\n",
    "    count = ball/2\n",
    "    num = num + ball+count\n",
    "    ball = count\n",
    "print(\"{},{}\".format(ball,num))"
   ]
  },
  {
   "cell_type": "code",
   "execution_count": null,
   "metadata": {},
   "outputs": [],
   "source": []
  },
  {
   "cell_type": "code",
   "execution_count": null,
   "metadata": {},
   "outputs": [],
   "source": []
  }
 ],
 "metadata": {
  "kernelspec": {
   "display_name": "Python 3",
   "language": "python",
   "name": "python3"
  },
  "language_info": {
   "codemirror_mode": {
    "name": "ipython",
    "version": 3
   },
   "file_extension": ".py",
   "mimetype": "text/x-python",
   "name": "python",
   "nbconvert_exporter": "python",
   "pygments_lexer": "ipython3",
   "version": "3.8.3"
  }
 },
 "nbformat": 4,
 "nbformat_minor": 4
}
