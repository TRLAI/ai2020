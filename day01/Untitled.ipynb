{
 "cells": [
  {
   "cell_type": "code",
   "execution_count": 1,
   "metadata": {},
   "outputs": [
    {
     "name": "stdout",
     "output_type": "stream",
     "text": [
      "123  124  132  134  142  143  \n",
      "213  214  231  234  241  243  \n",
      "312  314  321  324  341  342  \n",
      "412  413  421  423  431  432  \n",
      "最终结果为：24个\n"
     ]
    }
   ],
   "source": [
    "\n",
    "tar = [1, 2, 3, 4]\n",
    "count = 0 \n",
    "for i in range(len(tar)):  \n",
    "    t1 = tar.copy() \n",
    "    x = str(t1.pop(i)) \n",
    "    for j in range(len(t1)):  \n",
    "        t2 = t1.copy()  \n",
    "        y = str(t2.pop(j))  \n",
    "        for k in range(len(t2)):\n",
    "            print(x + y + str(t2[k]), end='  ') \n",
    "            count += 1\n",
    "    print('')  \n",
    "print('最终结果为：%s个' % count)"
   ]
  },
  {
   "cell_type": "code",
   "execution_count": 2,
   "metadata": {},
   "outputs": [
    {
     "name": "stdout",
     "output_type": "stream",
     "text": [
      "当月利润：111100000\n",
      "应发放奖金：112211002.9500万元\n"
     ]
    }
   ],
   "source": [
    "money = float(input(\"当月利润：\"))\n",
    "\n",
    "if 0 <= money <= 10:\n",
    "    money = money * 1.1\n",
    "elif money <= 20:\n",
    "    money = 10 * 1.1 + (money - 10) * 1.075\n",
    "elif money <= 40:\n",
    "    money = 10 * (1.1 + 1.075) + (money - 20) * 1.05\n",
    "elif money <= 60:\n",
    "    money = 10 * (1.1 + 1.075) + 20 * 1.05 + (money - 40) * 1.03\n",
    "elif money <= 100:\n",
    "    money = 10 * (1.1 + 1.075) + 20 * (1.05 + 1.03) + (money - 60) * 1.015\n",
    "elif money > 100:\n",
    "    money = 10 * (1.1 + 1.075) + 20 * (1.05 + 1.03) + 40 * 1.015 + (money - 100) * 1.01\n",
    "\n",
    "\n",
    "print(\"应发放奖金：%.4f万元\" % money)"
   ]
  },
  {
   "cell_type": "code",
   "execution_count": 3,
   "metadata": {},
   "outputs": [
    {
     "name": "stdout",
     "output_type": "stream",
     "text": [
      "Enter 1st Number: 279\n",
      "Enter 2nd Number: 22\n",
      "Enter 3rd Number: 333\n",
      "22 279 333\n"
     ]
    }
   ],
   "source": [
    "x = int(input(\"Enter 1st Number: \"))\n",
    "y = int(input(\"Enter 2nd Number: \"))\n",
    "z = int(input(\"Enter 3rd Number: \"))\n",
    " \n",
    "if x > y:\n",
    "    x, y = y, x\n",
    "if x > z:\n",
    "    x, z = z, x\n",
    "if y > z:\n",
    "    y, z = z, y\n",
    " \n",
    "print(x, y, z)"
   ]
  },
  {
   "cell_type": "code",
   "execution_count": 4,
   "metadata": {},
   "outputs": [
    {
     "name": "stdout",
     "output_type": "stream",
     "text": [
      "[1, 2, 3, 4, 5, 8] [1, 2, 3, 4, 5, 8] [1, 2, 3, 4, 5, 8] [1, 2, 3, 4, 5, 8] [1, 2, 3, 4, 5, 8]\n"
     ]
    }
   ],
   "source": [
    "list1 = [1,2,3,4,5,8]\n",
    "list2 = list1[:]  \n",
    "list3 = list1  \n",
    "import copy  \n",
    "list4 = copy.copy(list1)  \n",
    "list5 = copy.deepcopy(list1)\n",
    "list5 = list1.copy()  \n",
    "print(list1,list2,list3,list4,list5)"
   ]
  },
  {
   "cell_type": "code",
   "execution_count": 7,
   "metadata": {},
   "outputs": [
    {
     "name": "stdout",
     "output_type": "stream",
     "text": [
      "2020-09-01 14:07:22\n",
      "2020-09-01 14:07:23\n"
     ]
    }
   ],
   "source": [
    "import time\n",
    "print(time.strftime(\"%Y-%m-%d %H:%M:%S\", time.localtime()))\n",
    "time.sleep(1)\n",
    "print(time.strftime(\"%Y-%m-%d %H:%M:%S\", time.localtime()))"
   ]
  },
  {
   "cell_type": "code",
   "execution_count": 8,
   "metadata": {},
   "outputs": [
    {
     "name": "stdout",
     "output_type": "stream",
     "text": [
      "153\n",
      "370\n",
      "371\n",
      "407\n"
     ]
    }
   ],
   "source": [
    "for i in range(100, 1000):\n",
    "    bai_wei = i // 100\n",
    "    shi_wei = (i-bai_wei*100) // 10\n",
    "    ge_wei = (i - bai_wei*100 - shi_wei * 10) // 1\n",
    "    if bai_wei**3 + shi_wei**3 + ge_wei**3 == i:\n",
    "        print(i)"
   ]
  },
  {
   "cell_type": "code",
   "execution_count": 9,
   "metadata": {},
   "outputs": [
    {
     "name": "stdout",
     "output_type": "stream",
     "text": [
      "请输入: fasasf51as1f1as1fa1s\n",
      "该字符串中含有14个字母，6个数字,0个空格，0个其他字符\n"
     ]
    }
   ],
   "source": [
    "def f(m):\n",
    "    n_alpha=0\n",
    "    n_digit=0\n",
    "    n_space=0\n",
    "    n_other=0\n",
    "    for i in m:\n",
    "        if i.isalpha():\n",
    "            n_alpha+=1\n",
    "        elif i.isdigit():\n",
    "            n_digit+=1\n",
    "        elif i.isspace():\n",
    "            n_space+=1\n",
    "        else:\n",
    "            n_other+=1\n",
    "    print('该字符串中含有%i个字母，%i个数字,%i个空格，%i个其他字符'%(n_alpha,n_digit,n_space,n_other))\n",
    "m=input('请输入: ')\n",
    "f(m)"
   ]
  },
  {
   "cell_type": "code",
   "execution_count": 10,
   "metadata": {},
   "outputs": [
    {
     "name": "stdout",
     "output_type": "stream",
     "text": [
      "总高度：tour = 299.21875\n",
      "第10次反弹高度：height = 0.1953125\n"
     ]
    }
   ],
   "source": [
    "tour = [] \n",
    "height = []  \n",
    "\n",
    "hei = 100.00  \n",
    "time = 10  \n",
    "\n",
    "for i in range(2, time + 1):\n",
    "  \n",
    "    if i == 2:\n",
    "        tour.append(hei)\n",
    "    else:\n",
    "        tour.append(hei * 2)\n",
    "    hei /= 2\n",
    "    height.append(hei)\n",
    "\n",
    "\n",
    "print(\"总高度：tour = {0}\".format(sum(tour)))\n",
    "print(\"第10次反弹高度：height = {0}\".format(height[-1]))"
   ]
  },
  {
   "cell_type": "code",
   "execution_count": null,
   "metadata": {},
   "outputs": [],
   "source": []
  }
 ],
 "metadata": {
  "kernelspec": {
   "display_name": "Python 3",
   "language": "python",
   "name": "python3"
  },
  "language_info": {
   "codemirror_mode": {
    "name": "ipython",
    "version": 3
   },
   "file_extension": ".py",
   "mimetype": "text/x-python",
   "name": "python",
   "nbconvert_exporter": "python",
   "pygments_lexer": "ipython3",
   "version": "3.8.3"
  }
 },
 "nbformat": 4,
 "nbformat_minor": 4
}
